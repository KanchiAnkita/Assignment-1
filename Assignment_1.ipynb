{
  "nbformat": 4,
  "nbformat_minor": 0,
  "metadata": {
    "colab": {
      "provenance": []
    },
    "kernelspec": {
      "name": "python3",
      "display_name": "Python 3"
    },
    "language_info": {
      "name": "python"
    }
  },
  "cells": [
    {
      "cell_type": "markdown",
      "source": [
        "**PYTHON BASIC QUESTIONS**"
      ],
      "metadata": {
        "id": "4e5vz3B-tiQv"
      }
    },
    {
      "cell_type": "markdown",
      "source": [
        "1). Python is a high level , interpretable and objec oriented language. It is popular because it is easy to understand ,used widely through out the world and rapidly growing language"
      ],
      "metadata": {
        "id": "efhsIwdatxkb"
      }
    },
    {
      "cell_type": "markdown",
      "source": [
        "2). A python interpreter is a program where it executes the python code line by line. Interpreter translates code at run time"
      ],
      "metadata": {
        "id": "XBjG60wIvcUw"
      }
    },
    {
      "cell_type": "markdown",
      "source": [
        "3). Predefined Key words are keywords which has special purpose and meaning\n",
        "example: input, import, break, etc..."
      ],
      "metadata": {
        "id": "zZGVuH40wJJw"
      }
    },
    {
      "cell_type": "markdown",
      "source": [
        "4). No, Keywords cannot be used as Variables"
      ],
      "metadata": {
        "id": "KTqfD-lZxFgL"
      }
    },
    {
      "cell_type": "markdown",
      "source": [
        "5). Mutablity in python means which can be modifies or change. In python LISTS can be changed unlike Tuples"
      ],
      "metadata": {
        "id": "trqwaksvxitc"
      }
    },
    {
      "cell_type": "markdown",
      "source": [
        "6). >>Lists are mutable because it can be changed further.Lists use[]\n",
        " >>Tuples are immutable because if you make changes for any other lists and accidently access tuples, it dosent effect the tuple. Tuples uses()"
      ],
      "metadata": {
        "id": "U7PpGk18x21S"
      }
    },
    {
      "cell_type": "markdown",
      "source": [
        "7). == operator is used to when the value of both the operands are equal\n",
        "\n",
        "  \"is\" operator checks whether differnt variables pounts towards a similar object in memory"
      ],
      "metadata": {
        "id": "lFgFG3_D0umy"
      }
    },
    {
      "cell_type": "markdown",
      "source": [
        "8). Logical Operators are \"AND\",\"OR\" and \"NOT\""
      ],
      "metadata": {
        "id": "okXls5Ah2l-5"
      }
    },
    {
      "cell_type": "markdown",
      "source": [
        "9). Type Casting in python changes the type of data type while executing"
      ],
      "metadata": {
        "id": "MODXG64a3mQd"
      }
    },
    {
      "cell_type": "markdown",
      "source": [
        "10).\n",
        " Implicit Type conversion is in-buit and is performed by interpreter\n",
        "\n",
        " Explicit is a user defined conversion where the programmer gets to decide"
      ],
      "metadata": {
        "id": "342kiIJF320B"
      }
    },
    {
      "cell_type": "markdown",
      "source": [
        "11). Conditional Statements in Python helps to enable the program to be controlled by conditions that are evaluated during run time. ex: if, else, el-if"
      ],
      "metadata": {
        "id": "0m6_uuwO5a_0"
      }
    },
    {
      "cell_type": "markdown",
      "source": [
        "12). \"elif\" conditional statement allows you to check multiple conditions in sequence. It is written after \"if\" condition and gets executed only when \"if\" condition is false."
      ],
      "metadata": {
        "id": "ye7J4RquoAOp"
      }
    },
    {
      "cell_type": "markdown",
      "source": [
        "13).\n",
        ">>For loop: it executes block of codes repeatedly for certain number of times\n",
        "\n",
        ">>While loop: it executes block of code until the condition given becomes false"
      ],
      "metadata": {
        "id": "xpATaw_cpZ9Q"
      }
    },
    {
      "cell_type": "markdown",
      "source": [
        "14). Imagine a situation  where you want to read a document and don't know how many lines are there. In such scenario's while loop is used more than for loop as it itterates until the last letter of file"
      ],
      "metadata": {
        "id": "vCJAq0KfqRGM"
      }
    },
    {
      "cell_type": "markdown",
      "source": [
        "**PRACTICAL QUESTIONS**"
      ],
      "metadata": {
        "id": "j9e5buKTFcZd"
      }
    },
    {
      "cell_type": "markdown",
      "source": [
        "1."
      ],
      "metadata": {
        "id": "_-Cm8HoUF8VN"
      }
    },
    {
      "cell_type": "code",
      "source": [
        "a=\"Hello,\"\n",
        "b=\"World!\"\n",
        "print(a,b)"
      ],
      "metadata": {
        "colab": {
          "base_uri": "https://localhost:8080/"
        },
        "id": "fA6Cm616FwnD",
        "outputId": "683b6892-c742-40a5-dcfd-b8ff2a950b11"
      },
      "execution_count": null,
      "outputs": [
        {
          "output_type": "stream",
          "name": "stdout",
          "text": [
            "Hello, World!\n"
          ]
        }
      ]
    },
    {
      "cell_type": "markdown",
      "source": [
        "2."
      ],
      "metadata": {
        "id": "9790l_IVGW2R"
      }
    },
    {
      "cell_type": "code",
      "source": [
        "name=\"Kanchi Ankita\"\n",
        "age=20\n",
        "print(\"my name is:\",name)\n",
        "print(\"my age is:\",age)"
      ],
      "metadata": {
        "colab": {
          "base_uri": "https://localhost:8080/"
        },
        "id": "E6hFQ-JYGMpZ",
        "outputId": "fb49d96a-f59e-4ad9-df09-f9e0f4a0b200"
      },
      "execution_count": null,
      "outputs": [
        {
          "output_type": "stream",
          "name": "stdout",
          "text": [
            "my name is: Kanchi Ankita\n",
            "my age is: 20\n"
          ]
        }
      ]
    },
    {
      "cell_type": "markdown",
      "source": [
        "3."
      ],
      "metadata": {
        "id": "D6963HDqHDqE"
      }
    },
    {
      "cell_type": "code",
      "source": [
        "help(\"keywords\")"
      ],
      "metadata": {
        "colab": {
          "base_uri": "https://localhost:8080/"
        },
        "id": "IBatexaPGwRH",
        "outputId": "927325eb-00c1-4378-e9cc-f154115b1a85"
      },
      "execution_count": null,
      "outputs": [
        {
          "output_type": "stream",
          "name": "stdout",
          "text": [
            "\n",
            "Here is a list of the Python keywords.  Enter any keyword to get more help.\n",
            "\n",
            "False               class               from                or\n",
            "None                continue            global              pass\n",
            "True                def                 if                  raise\n",
            "and                 del                 import              return\n",
            "as                  elif                in                  try\n",
            "assert              else                is                  while\n",
            "async               except              lambda              with\n",
            "await               finally             nonlocal            yield\n",
            "break               for                 not                 \n",
            "\n"
          ]
        }
      ]
    },
    {
      "cell_type": "markdown",
      "source": [
        "4."
      ],
      "metadata": {
        "id": "-IRUK3GVHmSd"
      }
    },
    {
      "cell_type": "code",
      "source": [
        "import keyword\n",
        "def is_keyword(word):\n",
        "  return keyword.iskeyword(word)\n",
        "word = \"input\"\n",
        "if is_keyword(word):\n",
        "  print(f\"'{word}' is a Python keyword.\")\n",
        "else:\n",
        "  print(f\"'{word}' is not a Python keyword.\")\n"
      ],
      "metadata": {
        "colab": {
          "base_uri": "https://localhost:8080/"
        },
        "id": "xExXHLReG4fA",
        "outputId": "26d44cd6-de2e-4f23-d3b1-d96e075b9533"
      },
      "execution_count": null,
      "outputs": [
        {
          "output_type": "stream",
          "name": "stdout",
          "text": [
            "'input' is not a Python keyword.\n"
          ]
        }
      ]
    },
    {
      "cell_type": "markdown",
      "source": [
        "5."
      ],
      "metadata": {
        "id": "piBvJBe1Isb1"
      }
    },
    {
      "cell_type": "code",
      "source": [
        "#creating a list\n",
        "a=[1,2,3,\"sun\",\"moon\"]\n",
        "a[2]=\"earth\"\n",
        "print(a)"
      ],
      "metadata": {
        "colab": {
          "base_uri": "https://localhost:8080/"
        },
        "id": "KrCkLrl2JMJi",
        "outputId": "feb05def-d245-441b-c901-9ac01cab52ca"
      },
      "execution_count": null,
      "outputs": [
        {
          "output_type": "stream",
          "name": "stdout",
          "text": [
            "[1, 2, 'earth', 'sun', 'moon']\n"
          ]
        }
      ]
    },
    {
      "cell_type": "code",
      "source": [
        "#creating a tuple\n",
        "b=(1,2,3,\"sun\",\"moon\")\n",
        "b[2]=\"earth\"\n",
        "print(b) #here we get error because tuples are immutable"
      ],
      "metadata": {
        "colab": {
          "base_uri": "https://localhost:8080/",
          "height": 193
        },
        "id": "Q7mz5hvSKK6x",
        "outputId": "dd52baf9-9fcd-43a6-c548-ad98b5406452"
      },
      "execution_count": null,
      "outputs": [
        {
          "output_type": "error",
          "ename": "TypeError",
          "evalue": "'tuple' object does not support item assignment",
          "traceback": [
            "\u001b[0;31m---------------------------------------------------------------------------\u001b[0m",
            "\u001b[0;31mTypeError\u001b[0m                                 Traceback (most recent call last)",
            "\u001b[0;32m<ipython-input-17-991f6b8ce9a4>\u001b[0m in \u001b[0;36m<cell line: 0>\u001b[0;34m()\u001b[0m\n\u001b[1;32m      1\u001b[0m \u001b[0;31m#creating a tuple\u001b[0m\u001b[0;34m\u001b[0m\u001b[0;34m\u001b[0m\u001b[0m\n\u001b[1;32m      2\u001b[0m \u001b[0mb\u001b[0m\u001b[0;34m=\u001b[0m\u001b[0;34m(\u001b[0m\u001b[0;36m1\u001b[0m\u001b[0;34m,\u001b[0m\u001b[0;36m2\u001b[0m\u001b[0;34m,\u001b[0m\u001b[0;36m3\u001b[0m\u001b[0;34m,\u001b[0m\u001b[0;34m\"sun\"\u001b[0m\u001b[0;34m,\u001b[0m\u001b[0;34m\"moon\"\u001b[0m\u001b[0;34m)\u001b[0m\u001b[0;34m\u001b[0m\u001b[0;34m\u001b[0m\u001b[0m\n\u001b[0;32m----> 3\u001b[0;31m \u001b[0mb\u001b[0m\u001b[0;34m[\u001b[0m\u001b[0;36m2\u001b[0m\u001b[0;34m]\u001b[0m\u001b[0;34m=\u001b[0m\u001b[0;34m\"earth\"\u001b[0m\u001b[0;34m\u001b[0m\u001b[0;34m\u001b[0m\u001b[0m\n\u001b[0m\u001b[1;32m      4\u001b[0m \u001b[0mprint\u001b[0m\u001b[0;34m(\u001b[0m\u001b[0mb\u001b[0m\u001b[0;34m)\u001b[0m\u001b[0;34m\u001b[0m\u001b[0;34m\u001b[0m\u001b[0m\n",
            "\u001b[0;31mTypeError\u001b[0m: 'tuple' object does not support item assignment"
          ]
        }
      ]
    },
    {
      "cell_type": "markdown",
      "source": [
        "7."
      ],
      "metadata": {
        "id": "_LjferRwKj1G"
      }
    },
    {
      "cell_type": "code",
      "source": [
        "def basic_arithmetic(num1, num2):\n",
        "    results = {}\n",
        "    results[\"addition\"] = num1 + num2\n",
        "    results[\"subtraction\"] = num1 - num2\n",
        "    results[\"multiplication\"] = num1 * num2\n",
        "\n",
        "    if num2 != 0:\n",
        "        results[\"division\"] = num1 / num2\n",
        "    else:\n",
        "        results[\"division\"] = \"Cannot divide by zero\"\n",
        "\n",
        "    return results\n",
        "\n",
        "if __name__ == \"__main__\":\n",
        "    try:\n",
        "        num1 = float(input(\"Enter the first number: \"))\n",
        "        num2 = float(input(\"Enter the second number: \"))\n",
        "\n",
        "        results = basic_arithmetic(num1, num2)\n",
        "\n",
        "        print(\"\\nResults:\")\n",
        "        for operation, result in results.items():\n",
        "            print(f\"{operation}: {result}\")\n",
        "    except ValueError:\n",
        "        print(\"Invalid input. Please enter numbers only.\")\n"
      ],
      "metadata": {
        "colab": {
          "base_uri": "https://localhost:8080/"
        },
        "id": "VDtqEMv9Le_G",
        "outputId": "024ab0f1-e037-4ac6-bfee-728de49d468f"
      },
      "execution_count": null,
      "outputs": [
        {
          "output_type": "stream",
          "name": "stdout",
          "text": [
            "Enter the first number: 9\n",
            "Enter the second number: 9\n",
            "\n",
            "Results:\n",
            "addition: 18.0\n",
            "subtraction: 0.0\n",
            "multiplication: 81.0\n",
            "division: 1.0\n"
          ]
        }
      ]
    },
    {
      "cell_type": "markdown",
      "source": [
        "8."
      ],
      "metadata": {
        "id": "05XT1y-YMpvg"
      }
    },
    {
      "cell_type": "code",
      "source": [
        "x = True\n",
        "y = False\n",
        "# Logical AND\n",
        "print(f\"x and y: {x and y}\")\n",
        "\n",
        "# Logical OR\n",
        "print(f\"x or y: {x or y}\")\n",
        "\n",
        "# Logical NOT\n",
        "print(f\"not x: {not x}\")\n",
        "print(f\"not y: {not y}\")\n"
      ],
      "metadata": {
        "colab": {
          "base_uri": "https://localhost:8080/"
        },
        "id": "P2iRAH_bMIxQ",
        "outputId": "395f5e92-919c-4698-b98e-cdb7a023bbeb"
      },
      "execution_count": null,
      "outputs": [
        {
          "output_type": "stream",
          "name": "stdout",
          "text": [
            "x and y: False\n",
            "x or y: True\n",
            "not x: False\n",
            "not y: True\n"
          ]
        }
      ]
    },
    {
      "cell_type": "markdown",
      "source": [
        "9."
      ],
      "metadata": {
        "id": "47v5Iy4iOsGx"
      }
    },
    {
      "cell_type": "code",
      "source": [
        "def convert_input(user_input):\n",
        "    try:\n",
        "        integer_value = int(user_input)\n",
        "        print(\"Integer:\", integer_value)\n",
        "    except ValueError:\n",
        "        print(\"Invalid input for integer conversion.\")\n",
        "\n",
        "    try:\n",
        "        float_value = float(user_input)\n",
        "        print(\"Float:\", float_value)\n",
        "    except ValueError:\n",
        "        print(\"Invalid input for float conversion.\")\n",
        "    if user_input:\n",
        "      boolean_value = bool(user_input)\n",
        "      print(\"Boolean:\", boolean_value)\n",
        "    else:\n",
        "        print(\"Boolean: False (empty string or zero)\")\n",
        "if __name__ == \"__main__\":\n",
        "    user_input = input(\"Enter a value: \")\n",
        "    convert_input(user_input)\n"
      ],
      "metadata": {
        "id": "xDONisxKM7RO",
        "colab": {
          "base_uri": "https://localhost:8080/"
        },
        "outputId": "23749a69-4bc7-4e3b-87fe-d1ca15ce55cb"
      },
      "execution_count": 10,
      "outputs": [
        {
          "output_type": "stream",
          "name": "stdout",
          "text": [
            "Enter a value: 12\n",
            "Integer: 12\n",
            "Float: 12.0\n",
            "Boolean: True\n"
          ]
        }
      ]
    },
    {
      "cell_type": "markdown",
      "source": [
        "10."
      ],
      "metadata": {
        "id": "kbo5TPRaRTRT"
      }
    },
    {
      "cell_type": "code",
      "source": [
        "my_list = [1, 2.5, \"hello\", True, [1, 2]]\n",
        "int_list = []\n",
        "for item in my_list:\n",
        "    try:\n",
        "        int_list.append(int(item))\n",
        "    except (ValueError, TypeError):\n",
        "        int_list.append(None)\n",
        "print(f\"Integer list: {int_list}\")\n",
        "float_list = []\n",
        "for item in my_list:\n",
        "    try:\n",
        "        float_list.append(float(item))\n",
        "    except (ValueError, TypeError):\n",
        "        float_list.append(None)\n",
        "print(f\"Float list: {float_list}\")\n",
        "str_list = [str(item) for item in my_list]\n",
        "print(f\"String list: {str_list}\")\n",
        "bool_list = [bool(item) for item in my_list]\n",
        "print(f\"Boolean list: {bool_list}\")"
      ],
      "metadata": {
        "colab": {
          "base_uri": "https://localhost:8080/"
        },
        "id": "p0dhiS44Rkgr",
        "outputId": "d0f4f2d5-ca0d-4ae0-88dc-c36e988bb03b"
      },
      "execution_count": 15,
      "outputs": [
        {
          "output_type": "stream",
          "name": "stdout",
          "text": [
            "Integer list: [1, 2, None, 1, None]\n",
            "Float list: [1.0, 2.5, None, 1.0, None]\n",
            "String list: ['1', '2.5', 'hello', 'True', '[1, 2]']\n",
            "Boolean list: [True, True, True, True, True]\n"
          ]
        }
      ]
    },
    {
      "cell_type": "markdown",
      "source": [
        "11."
      ],
      "metadata": {
        "id": "B5mNrMe0Tw0Y"
      }
    },
    {
      "cell_type": "code",
      "source": [
        "number=int(input(\"ENTER THE NUMBER : \"))\n",
        "if number > 0:\n",
        "  print(\"Positive\")\n",
        "elif number < 0:\n",
        "  print(\"Negative\")\n",
        "else:\n",
        "  print(\"Zero\")\n",
        "\n"
      ],
      "metadata": {
        "colab": {
          "base_uri": "https://localhost:8080/"
        },
        "id": "U2biE8teTJ0K",
        "outputId": "79b6d278-e9ec-44cc-9322-78afcb70f5ad"
      },
      "execution_count": 25,
      "outputs": [
        {
          "output_type": "stream",
          "name": "stdout",
          "text": [
            "ENTER THE NUMBER : 12\n",
            "Positive\n"
          ]
        }
      ]
    },
    {
      "cell_type": "markdown",
      "source": [
        "12."
      ],
      "metadata": {
        "id": "jz2qvY_beQ71"
      }
    },
    {
      "cell_type": "code",
      "source": [
        "for i in range(1,11):\n",
        "  print(i)"
      ],
      "metadata": {
        "colab": {
          "base_uri": "https://localhost:8080/"
        },
        "id": "SCV2pLGeUJnc",
        "outputId": "e199cf74-5135-454e-caaa-fb2e60f0ec0a"
      },
      "execution_count": 27,
      "outputs": [
        {
          "output_type": "stream",
          "name": "stdout",
          "text": [
            "1\n",
            "2\n",
            "3\n",
            "4\n",
            "5\n",
            "6\n",
            "7\n",
            "8\n",
            "9\n",
            "10\n"
          ]
        }
      ]
    },
    {
      "cell_type": "markdown",
      "source": [
        "13."
      ],
      "metadata": {
        "id": "-82Eu4kVEOqK"
      }
    },
    {
      "cell_type": "code",
      "source": [
        "sum=0\n",
        "for i in range(2,51,2):\n",
        "  sum+=i\n",
        "print(f\"The sum of all even numbers between 1 and 50 is: {sum}\")\n"
      ],
      "metadata": {
        "colab": {
          "base_uri": "https://localhost:8080/"
        },
        "id": "MlJRqaKRFDLh",
        "outputId": "03e69be3-a238-4a63-c95e-3ae7557ff880"
      },
      "execution_count": 6,
      "outputs": [
        {
          "output_type": "stream",
          "name": "stdout",
          "text": [
            "The sum of all even numbers between 1 and 50 is: 650\n"
          ]
        }
      ]
    },
    {
      "cell_type": "markdown",
      "source": [
        "14."
      ],
      "metadata": {
        "id": "4OKkH9f7Gp5h"
      }
    },
    {
      "cell_type": "code",
      "source": [
        "name=str(input(\"enter the string: \"))\n",
        "i=len(name)-1\n",
        "while i>=0:\n",
        "  print(name[i],end='')\n",
        "  i=i-1"
      ],
      "metadata": {
        "colab": {
          "base_uri": "https://localhost:8080/"
        },
        "id": "9Mvt5zuYHcfK",
        "outputId": "bf7ebdff-c62c-458f-9341-5f29b1be5b53"
      },
      "execution_count": 8,
      "outputs": [
        {
          "output_type": "stream",
          "name": "stdout",
          "text": [
            "enter the string: Ankita\n",
            "atiknA"
          ]
        }
      ]
    },
    {
      "cell_type": "markdown",
      "source": [
        "15."
      ],
      "metadata": {
        "id": "YgzRZcJ5JLzT"
      }
    },
    {
      "cell_type": "code",
      "source": [
        "def factorial(n):\n",
        "  if n == 0:\n",
        "    return 1\n",
        "  else:\n",
        "    fact = 1\n",
        "    while(n > 1):\n",
        "      fact *= n\n",
        "      n -= 1\n",
        "    return fact\n",
        "number = int(input(\"Enter a number: \"))\n",
        "result = factorial(number)\n",
        "print(\"The factorial of\", number, \"is\", result)\n"
      ],
      "metadata": {
        "colab": {
          "base_uri": "https://localhost:8080/"
        },
        "id": "JgfM2MYvJITW",
        "outputId": "502491f9-9283-460f-de05-e6a3d6ab314b"
      },
      "execution_count": 10,
      "outputs": [
        {
          "output_type": "stream",
          "name": "stdout",
          "text": [
            "Enter a number: 12\n",
            "The factorial of 12 is 479001600\n"
          ]
        }
      ]
    }
  ]
}