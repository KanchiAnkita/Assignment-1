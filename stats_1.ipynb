{
  "nbformat": 4,
  "nbformat_minor": 0,
  "metadata": {
    "colab": {
      "provenance": []
    },
    "kernelspec": {
      "name": "python3",
      "display_name": "Python 3"
    },
    "language_info": {
      "name": "python"
    }
  },
  "cells": [
    {
      "cell_type": "markdown",
      "source": [
        "**Theory question**"
      ],
      "metadata": {
        "id": "V9la7q6nsram"
      }
    },
    {
      "cell_type": "markdown",
      "source": [
        "1). Statistics is the science of collecting, analyzing, interpreting, presenting, and organizing data. It is important because it helps in making informed decisions, understanding trends, and validating scientific research.\n"
      ],
      "metadata": {
        "id": "kmaUvZjbsxte"
      }
    },
    {
      "cell_type": "markdown",
      "source": [
        "2). Descriptive Statistics: Summarizes or describes characteristics of a dataset.\n",
        "\n",
        "Inferential Statistics: Makes predictions or inferences about a population based on a sample"
      ],
      "metadata": {
        "id": "QtSAIog5s9GN"
      }
    },
    {
      "cell_type": "markdown",
      "source": [
        "3). Descriptive statistics involve methods for organizing and summarizing data, such as measures of central tendency (mean, median, mode) and variability (range, variance, standard deviation)."
      ],
      "metadata": {
        "id": "Gegj24u3tDsp"
      }
    },
    {
      "cell_type": "markdown",
      "source": [
        "4). It involves using data from a sample to make estimates or test hypotheses about a population."
      ],
      "metadata": {
        "id": "m1FXYNYstK9q"
      }
    },
    {
      "cell_type": "markdown",
      "source": [
        "5). Sampling is selecting a subset (sample) from a population to draw conclusions about the whole population."
      ],
      "metadata": {
        "id": "MMOgfk-CtP3g"
      }
    },
    {
      "cell_type": "markdown",
      "source": [
        "6). Symple Random Sampling, Stratified Sampling, Systematic Sampling, Cluster Sampling."
      ],
      "metadata": {
        "id": "Kcdsr6JxtXfX"
      }
    },
    {
      "cell_type": "markdown",
      "source": [
        "7). Random Sampling: Every member has an equal chance of being selected.\n",
        "\n",
        "Non-random Sampling: Selection is based on factors like convenience or judgment."
      ],
      "metadata": {
        "id": "h7l0ZM6CtzeF"
      }
    },
    {
      "cell_type": "markdown",
      "source": [
        "8). Qualitative: Non-numerical (e.g., color, gender).\n",
        "\n",
        "Quantitative: Numerical (e.g., age, height)."
      ],
      "metadata": {
        "id": "0eMiWx9Pt5zO"
      }
    },
    {
      "cell_type": "markdown",
      "source": [
        "9). Types of data: Nominal, Ordinal, Interval, Ratio"
      ],
      "metadata": {
        "id": "-limvslE7YyS"
      }
    },
    {
      "cell_type": "markdown",
      "source": [
        "10). Nominal: Categories only (e.g., gender).\n",
        "\n",
        "Ordinal: Ordered categories (e.g., satisfaction level).\n",
        "\n",
        "Interval: Numeric scales with equal intervals, no true zero (e.g., temperature in Celsius).\n",
        "\n",
        "Ratio: Like interval but with true zero (e.g., height, weight).\n"
      ],
      "metadata": {
        "id": "z58JEtAB7k9s"
      }
    },
    {
      "cell_type": "markdown",
      "source": [
        "11). It indicates the central point of a dataset (mean, median, mode)."
      ],
      "metadata": {
        "id": "Bk5XySOh7tPQ"
      }
    },
    {
      "cell_type": "markdown",
      "source": [
        "12). Mean: Average of the values.\n",
        "\n",
        "Median: Middle value in an ordered dataset.\n",
        "\n",
        "Mode: Most frequently occurring value."
      ],
      "metadata": {
        "id": "wkXIcAZZ72Ih"
      }
    },
    {
      "cell_type": "markdown",
      "source": [
        "13). Helps summarize large data sets with a single value to represent the dataset."
      ],
      "metadata": {
        "id": "3Sya8SHV77W7"
      }
    },
    {
      "cell_type": "markdown",
      "source": [
        "14). Variance measures the average squared deviation from the mean.\n",
        "\n",
        "Formula: Var(x)= summation(xi-xBar)^2/n"
      ],
      "metadata": {
        "id": "hUQnf98q7__e"
      }
    },
    {
      "cell_type": "markdown",
      "source": [
        "15). It’s the square root of variance, indicating how spread out the values are. Important for understanding variability"
      ],
      "metadata": {
        "id": "KzsZ-q0z8qv7"
      }
    },
    {
      "cell_type": "markdown",
      "source": [
        "16). Range = Max value - Min value. It measures the spread."
      ],
      "metadata": {
        "id": "p7__NDTK8vcu"
      }
    },
    {
      "cell_type": "markdown",
      "source": [
        "17). Variance: Square of standard deviation.\n",
        "\n",
        "Standard Deviation: More interpretable as it has the same unit as the data."
      ],
      "metadata": {
        "id": "iYhY0vwt83N2"
      }
    },
    {
      "cell_type": "markdown",
      "source": [
        "18). Skewness measures the asymmetry of a data distribution."
      ],
      "metadata": {
        "id": "l4N9OOA088ow"
      }
    },
    {
      "cell_type": "markdown",
      "source": [
        "19). Positive skew: Tail on the right (e.g., income).\n",
        "\n",
        "Negative skew: Tail on the left (e.g., age at death in a hospital)."
      ],
      "metadata": {
        "id": "tqd4Ae_k9Dfm"
      }
    },
    {
      "cell_type": "markdown",
      "source": [
        "20). Kurtosis measures the “tailedness” of a distribution.\n",
        "\n",
        "Leptokurtic: Heavy tails\n",
        "\n",
        "Platykurtic: Light tails\n",
        "\n",
        "Mesokurtic: Normal distribution"
      ],
      "metadata": {
        "id": "EhvfiJUV9KF6"
      }
    },
    {
      "cell_type": "markdown",
      "source": [
        "21). It indicates the direction of the linear relationship between variables."
      ],
      "metadata": {
        "id": "MhzC-rPG9Yqw"
      }
    },
    {
      "cell_type": "markdown",
      "source": [
        "22). Correlation quantifies the strength and direction of a linear relationship."
      ],
      "metadata": {
        "id": "OTNG_mtkBAmR"
      }
    },
    {
      "cell_type": "markdown",
      "source": [
        "23). Covariance: Not standardized.\n",
        "\n",
        "Correlation: Standardized (between -1 and 1)."
      ],
      "metadata": {
        "id": "pEYfLd1OBGNk"
      }
    },
    {
      "cell_type": "markdown",
      "source": [
        "24). Weather forecasting\n",
        "\n",
        "Business analytics\n",
        "\n",
        "Medical studies\n",
        "\n",
        "Quality control\n",
        "\n",
        "Sports performance analysis"
      ],
      "metadata": {
        "id": "MPdxy5AWBMWQ"
      }
    },
    {
      "cell_type": "markdown",
      "source": [
        "**Practical Questions**"
      ],
      "metadata": {
        "id": "h4VA2QGyBVvm"
      }
    },
    {
      "cell_type": "code",
      "source": [
        "import pandas as pd\n",
        "import numpy as np\n",
        "import seaborn as sns\n",
        "import matplotlib.pyplot as plt\n",
        "from scipy import stats"
      ],
      "metadata": {
        "id": "V3TR284PBZ_Y"
      },
      "execution_count": 3,
      "outputs": []
    },
    {
      "cell_type": "code",
      "source": [
        "#1\n",
        "data = [10, 20, 20, 30, 40]\n",
        "mean = np.mean(data)\n",
        "median = np.median(data)\n",
        "mode = stats.mode(data, keepdims=False).mode"
      ],
      "metadata": {
        "id": "bIUqNhV3BgJq"
      },
      "execution_count": 5,
      "outputs": []
    },
    {
      "cell_type": "code",
      "source": [
        "mean"
      ],
      "metadata": {
        "colab": {
          "base_uri": "https://localhost:8080/"
        },
        "id": "hfP8u1B5Bs9t",
        "outputId": "3ccdc073-9dd7-4416-a326-fee98ed36821"
      },
      "execution_count": 7,
      "outputs": [
        {
          "output_type": "execute_result",
          "data": {
            "text/plain": [
              "np.float64(24.0)"
            ]
          },
          "metadata": {},
          "execution_count": 7
        }
      ]
    },
    {
      "cell_type": "code",
      "source": [
        "median"
      ],
      "metadata": {
        "colab": {
          "base_uri": "https://localhost:8080/"
        },
        "id": "UkCBqfL3CCbL",
        "outputId": "b0c2a4d5-14d0-4351-d73c-29ae30f27eae"
      },
      "execution_count": 8,
      "outputs": [
        {
          "output_type": "execute_result",
          "data": {
            "text/plain": [
              "np.float64(20.0)"
            ]
          },
          "metadata": {},
          "execution_count": 8
        }
      ]
    },
    {
      "cell_type": "code",
      "source": [
        "mode"
      ],
      "metadata": {
        "colab": {
          "base_uri": "https://localhost:8080/"
        },
        "id": "oq2An8xyCNsL",
        "outputId": "c741c7c0-f495-4bf4-a6e7-c2ac7bcafc47"
      },
      "execution_count": 9,
      "outputs": [
        {
          "output_type": "execute_result",
          "data": {
            "text/plain": [
              "np.int64(20)"
            ]
          },
          "metadata": {},
          "execution_count": 9
        }
      ]
    },
    {
      "cell_type": "code",
      "source": [
        "#2\n",
        "variance = np.var(data)\n",
        "std_dev = np.std(data)"
      ],
      "metadata": {
        "id": "lbmBZFpVCO9D"
      },
      "execution_count": 10,
      "outputs": []
    },
    {
      "cell_type": "code",
      "source": [
        "variance"
      ],
      "metadata": {
        "colab": {
          "base_uri": "https://localhost:8080/"
        },
        "id": "uk4J6shXDcbT",
        "outputId": "8e63bdf5-e779-4004-81d3-7d6e139806f0"
      },
      "execution_count": 11,
      "outputs": [
        {
          "output_type": "execute_result",
          "data": {
            "text/plain": [
              "np.float64(104.0)"
            ]
          },
          "metadata": {},
          "execution_count": 11
        }
      ]
    },
    {
      "cell_type": "code",
      "source": [
        "std_dev"
      ],
      "metadata": {
        "colab": {
          "base_uri": "https://localhost:8080/"
        },
        "id": "3evItZzODds0",
        "outputId": "395b7678-7115-4202-b9e4-7b23cbc95008"
      },
      "execution_count": 12,
      "outputs": [
        {
          "output_type": "execute_result",
          "data": {
            "text/plain": [
              "np.float64(10.198039027185569)"
            ]
          },
          "metadata": {},
          "execution_count": 12
        }
      ]
    },
    {
      "cell_type": "code",
      "source": [
        "#3\n",
        "dataset = {\n",
        "    'Gender': ['Male', 'Female'],\n",
        "    'Satisfaction': ['Low', 'High'],\n",
        "    'Temperature': [20, 30],\n",
        "    'Height': [150, 180]\n",
        "}"
      ],
      "metadata": {
        "id": "gyjx9vumDgLq"
      },
      "execution_count": 15,
      "outputs": []
    },
    {
      "cell_type": "code",
      "source": [
        "#4\n",
        "# Random sampling\n",
        "sample_random = np.random.choice(data, 3)\n",
        "\n",
        "# Stratified sampling\n",
        "df = pd.DataFrame({'Group': ['A', 'A', 'B', 'B'], 'Value': [1, 2, 3, 4]})\n",
        "sample_stratified = df.groupby('Group').sample(n=1)"
      ],
      "metadata": {
        "id": "G1UNNfHYD5gf"
      },
      "execution_count": 18,
      "outputs": []
    },
    {
      "cell_type": "code",
      "source": [
        "sample_random"
      ],
      "metadata": {
        "colab": {
          "base_uri": "https://localhost:8080/"
        },
        "id": "turt69bKELMI",
        "outputId": "3826e1f6-dc6e-4df5-bd1f-0ada8bb4b412"
      },
      "execution_count": 19,
      "outputs": [
        {
          "output_type": "execute_result",
          "data": {
            "text/plain": [
              "array([40, 20, 20])"
            ]
          },
          "metadata": {},
          "execution_count": 19
        }
      ]
    },
    {
      "cell_type": "code",
      "source": [
        "sample_stratified"
      ],
      "metadata": {
        "colab": {
          "base_uri": "https://localhost:8080/",
          "height": 125
        },
        "id": "pMjug1ZsEOxa",
        "outputId": "c1a54deb-c3ae-40b4-f297-6e58936e784a"
      },
      "execution_count": 20,
      "outputs": [
        {
          "output_type": "execute_result",
          "data": {
            "text/plain": [
              "  Group  Value\n",
              "1     A      2\n",
              "3     B      4"
            ],
            "text/html": [
              "\n",
              "  <div id=\"df-ba6ec70a-97ce-4d42-9269-d9e0bfffebf4\" class=\"colab-df-container\">\n",
              "    <div>\n",
              "<style scoped>\n",
              "    .dataframe tbody tr th:only-of-type {\n",
              "        vertical-align: middle;\n",
              "    }\n",
              "\n",
              "    .dataframe tbody tr th {\n",
              "        vertical-align: top;\n",
              "    }\n",
              "\n",
              "    .dataframe thead th {\n",
              "        text-align: right;\n",
              "    }\n",
              "</style>\n",
              "<table border=\"1\" class=\"dataframe\">\n",
              "  <thead>\n",
              "    <tr style=\"text-align: right;\">\n",
              "      <th></th>\n",
              "      <th>Group</th>\n",
              "      <th>Value</th>\n",
              "    </tr>\n",
              "  </thead>\n",
              "  <tbody>\n",
              "    <tr>\n",
              "      <th>1</th>\n",
              "      <td>A</td>\n",
              "      <td>2</td>\n",
              "    </tr>\n",
              "    <tr>\n",
              "      <th>3</th>\n",
              "      <td>B</td>\n",
              "      <td>4</td>\n",
              "    </tr>\n",
              "  </tbody>\n",
              "</table>\n",
              "</div>\n",
              "    <div class=\"colab-df-buttons\">\n",
              "\n",
              "  <div class=\"colab-df-container\">\n",
              "    <button class=\"colab-df-convert\" onclick=\"convertToInteractive('df-ba6ec70a-97ce-4d42-9269-d9e0bfffebf4')\"\n",
              "            title=\"Convert this dataframe to an interactive table.\"\n",
              "            style=\"display:none;\">\n",
              "\n",
              "  <svg xmlns=\"http://www.w3.org/2000/svg\" height=\"24px\" viewBox=\"0 -960 960 960\">\n",
              "    <path d=\"M120-120v-720h720v720H120Zm60-500h600v-160H180v160Zm220 220h160v-160H400v160Zm0 220h160v-160H400v160ZM180-400h160v-160H180v160Zm440 0h160v-160H620v160ZM180-180h160v-160H180v160Zm440 0h160v-160H620v160Z\"/>\n",
              "  </svg>\n",
              "    </button>\n",
              "\n",
              "  <style>\n",
              "    .colab-df-container {\n",
              "      display:flex;\n",
              "      gap: 12px;\n",
              "    }\n",
              "\n",
              "    .colab-df-convert {\n",
              "      background-color: #E8F0FE;\n",
              "      border: none;\n",
              "      border-radius: 50%;\n",
              "      cursor: pointer;\n",
              "      display: none;\n",
              "      fill: #1967D2;\n",
              "      height: 32px;\n",
              "      padding: 0 0 0 0;\n",
              "      width: 32px;\n",
              "    }\n",
              "\n",
              "    .colab-df-convert:hover {\n",
              "      background-color: #E2EBFA;\n",
              "      box-shadow: 0px 1px 2px rgba(60, 64, 67, 0.3), 0px 1px 3px 1px rgba(60, 64, 67, 0.15);\n",
              "      fill: #174EA6;\n",
              "    }\n",
              "\n",
              "    .colab-df-buttons div {\n",
              "      margin-bottom: 4px;\n",
              "    }\n",
              "\n",
              "    [theme=dark] .colab-df-convert {\n",
              "      background-color: #3B4455;\n",
              "      fill: #D2E3FC;\n",
              "    }\n",
              "\n",
              "    [theme=dark] .colab-df-convert:hover {\n",
              "      background-color: #434B5C;\n",
              "      box-shadow: 0px 1px 3px 1px rgba(0, 0, 0, 0.15);\n",
              "      filter: drop-shadow(0px 1px 2px rgba(0, 0, 0, 0.3));\n",
              "      fill: #FFFFFF;\n",
              "    }\n",
              "  </style>\n",
              "\n",
              "    <script>\n",
              "      const buttonEl =\n",
              "        document.querySelector('#df-ba6ec70a-97ce-4d42-9269-d9e0bfffebf4 button.colab-df-convert');\n",
              "      buttonEl.style.display =\n",
              "        google.colab.kernel.accessAllowed ? 'block' : 'none';\n",
              "\n",
              "      async function convertToInteractive(key) {\n",
              "        const element = document.querySelector('#df-ba6ec70a-97ce-4d42-9269-d9e0bfffebf4');\n",
              "        const dataTable =\n",
              "          await google.colab.kernel.invokeFunction('convertToInteractive',\n",
              "                                                    [key], {});\n",
              "        if (!dataTable) return;\n",
              "\n",
              "        const docLinkHtml = 'Like what you see? Visit the ' +\n",
              "          '<a target=\"_blank\" href=https://colab.research.google.com/notebooks/data_table.ipynb>data table notebook</a>'\n",
              "          + ' to learn more about interactive tables.';\n",
              "        element.innerHTML = '';\n",
              "        dataTable['output_type'] = 'display_data';\n",
              "        await google.colab.output.renderOutput(dataTable, element);\n",
              "        const docLink = document.createElement('div');\n",
              "        docLink.innerHTML = docLinkHtml;\n",
              "        element.appendChild(docLink);\n",
              "      }\n",
              "    </script>\n",
              "  </div>\n",
              "\n",
              "\n",
              "    <div id=\"df-e839ce84-8dfc-42cb-9d88-a1db8edad85e\">\n",
              "      <button class=\"colab-df-quickchart\" onclick=\"quickchart('df-e839ce84-8dfc-42cb-9d88-a1db8edad85e')\"\n",
              "                title=\"Suggest charts\"\n",
              "                style=\"display:none;\">\n",
              "\n",
              "<svg xmlns=\"http://www.w3.org/2000/svg\" height=\"24px\"viewBox=\"0 0 24 24\"\n",
              "     width=\"24px\">\n",
              "    <g>\n",
              "        <path d=\"M19 3H5c-1.1 0-2 .9-2 2v14c0 1.1.9 2 2 2h14c1.1 0 2-.9 2-2V5c0-1.1-.9-2-2-2zM9 17H7v-7h2v7zm4 0h-2V7h2v10zm4 0h-2v-4h2v4z\"/>\n",
              "    </g>\n",
              "</svg>\n",
              "      </button>\n",
              "\n",
              "<style>\n",
              "  .colab-df-quickchart {\n",
              "      --bg-color: #E8F0FE;\n",
              "      --fill-color: #1967D2;\n",
              "      --hover-bg-color: #E2EBFA;\n",
              "      --hover-fill-color: #174EA6;\n",
              "      --disabled-fill-color: #AAA;\n",
              "      --disabled-bg-color: #DDD;\n",
              "  }\n",
              "\n",
              "  [theme=dark] .colab-df-quickchart {\n",
              "      --bg-color: #3B4455;\n",
              "      --fill-color: #D2E3FC;\n",
              "      --hover-bg-color: #434B5C;\n",
              "      --hover-fill-color: #FFFFFF;\n",
              "      --disabled-bg-color: #3B4455;\n",
              "      --disabled-fill-color: #666;\n",
              "  }\n",
              "\n",
              "  .colab-df-quickchart {\n",
              "    background-color: var(--bg-color);\n",
              "    border: none;\n",
              "    border-radius: 50%;\n",
              "    cursor: pointer;\n",
              "    display: none;\n",
              "    fill: var(--fill-color);\n",
              "    height: 32px;\n",
              "    padding: 0;\n",
              "    width: 32px;\n",
              "  }\n",
              "\n",
              "  .colab-df-quickchart:hover {\n",
              "    background-color: var(--hover-bg-color);\n",
              "    box-shadow: 0 1px 2px rgba(60, 64, 67, 0.3), 0 1px 3px 1px rgba(60, 64, 67, 0.15);\n",
              "    fill: var(--button-hover-fill-color);\n",
              "  }\n",
              "\n",
              "  .colab-df-quickchart-complete:disabled,\n",
              "  .colab-df-quickchart-complete:disabled:hover {\n",
              "    background-color: var(--disabled-bg-color);\n",
              "    fill: var(--disabled-fill-color);\n",
              "    box-shadow: none;\n",
              "  }\n",
              "\n",
              "  .colab-df-spinner {\n",
              "    border: 2px solid var(--fill-color);\n",
              "    border-color: transparent;\n",
              "    border-bottom-color: var(--fill-color);\n",
              "    animation:\n",
              "      spin 1s steps(1) infinite;\n",
              "  }\n",
              "\n",
              "  @keyframes spin {\n",
              "    0% {\n",
              "      border-color: transparent;\n",
              "      border-bottom-color: var(--fill-color);\n",
              "      border-left-color: var(--fill-color);\n",
              "    }\n",
              "    20% {\n",
              "      border-color: transparent;\n",
              "      border-left-color: var(--fill-color);\n",
              "      border-top-color: var(--fill-color);\n",
              "    }\n",
              "    30% {\n",
              "      border-color: transparent;\n",
              "      border-left-color: var(--fill-color);\n",
              "      border-top-color: var(--fill-color);\n",
              "      border-right-color: var(--fill-color);\n",
              "    }\n",
              "    40% {\n",
              "      border-color: transparent;\n",
              "      border-right-color: var(--fill-color);\n",
              "      border-top-color: var(--fill-color);\n",
              "    }\n",
              "    60% {\n",
              "      border-color: transparent;\n",
              "      border-right-color: var(--fill-color);\n",
              "    }\n",
              "    80% {\n",
              "      border-color: transparent;\n",
              "      border-right-color: var(--fill-color);\n",
              "      border-bottom-color: var(--fill-color);\n",
              "    }\n",
              "    90% {\n",
              "      border-color: transparent;\n",
              "      border-bottom-color: var(--fill-color);\n",
              "    }\n",
              "  }\n",
              "</style>\n",
              "\n",
              "      <script>\n",
              "        async function quickchart(key) {\n",
              "          const quickchartButtonEl =\n",
              "            document.querySelector('#' + key + ' button');\n",
              "          quickchartButtonEl.disabled = true;  // To prevent multiple clicks.\n",
              "          quickchartButtonEl.classList.add('colab-df-spinner');\n",
              "          try {\n",
              "            const charts = await google.colab.kernel.invokeFunction(\n",
              "                'suggestCharts', [key], {});\n",
              "          } catch (error) {\n",
              "            console.error('Error during call to suggestCharts:', error);\n",
              "          }\n",
              "          quickchartButtonEl.classList.remove('colab-df-spinner');\n",
              "          quickchartButtonEl.classList.add('colab-df-quickchart-complete');\n",
              "        }\n",
              "        (() => {\n",
              "          let quickchartButtonEl =\n",
              "            document.querySelector('#df-e839ce84-8dfc-42cb-9d88-a1db8edad85e button');\n",
              "          quickchartButtonEl.style.display =\n",
              "            google.colab.kernel.accessAllowed ? 'block' : 'none';\n",
              "        })();\n",
              "      </script>\n",
              "    </div>\n",
              "\n",
              "  <div id=\"id_7b94ba05-8402-4e0a-8e90-3aee9e466dcc\">\n",
              "    <style>\n",
              "      .colab-df-generate {\n",
              "        background-color: #E8F0FE;\n",
              "        border: none;\n",
              "        border-radius: 50%;\n",
              "        cursor: pointer;\n",
              "        display: none;\n",
              "        fill: #1967D2;\n",
              "        height: 32px;\n",
              "        padding: 0 0 0 0;\n",
              "        width: 32px;\n",
              "      }\n",
              "\n",
              "      .colab-df-generate:hover {\n",
              "        background-color: #E2EBFA;\n",
              "        box-shadow: 0px 1px 2px rgba(60, 64, 67, 0.3), 0px 1px 3px 1px rgba(60, 64, 67, 0.15);\n",
              "        fill: #174EA6;\n",
              "      }\n",
              "\n",
              "      [theme=dark] .colab-df-generate {\n",
              "        background-color: #3B4455;\n",
              "        fill: #D2E3FC;\n",
              "      }\n",
              "\n",
              "      [theme=dark] .colab-df-generate:hover {\n",
              "        background-color: #434B5C;\n",
              "        box-shadow: 0px 1px 3px 1px rgba(0, 0, 0, 0.15);\n",
              "        filter: drop-shadow(0px 1px 2px rgba(0, 0, 0, 0.3));\n",
              "        fill: #FFFFFF;\n",
              "      }\n",
              "    </style>\n",
              "    <button class=\"colab-df-generate\" onclick=\"generateWithVariable('sample_stratified')\"\n",
              "            title=\"Generate code using this dataframe.\"\n",
              "            style=\"display:none;\">\n",
              "\n",
              "  <svg xmlns=\"http://www.w3.org/2000/svg\" height=\"24px\"viewBox=\"0 0 24 24\"\n",
              "       width=\"24px\">\n",
              "    <path d=\"M7,19H8.4L18.45,9,17,7.55,7,17.6ZM5,21V16.75L18.45,3.32a2,2,0,0,1,2.83,0l1.4,1.43a1.91,1.91,0,0,1,.58,1.4,1.91,1.91,0,0,1-.58,1.4L9.25,21ZM18.45,9,17,7.55Zm-12,3A5.31,5.31,0,0,0,4.9,8.1,5.31,5.31,0,0,0,1,6.5,5.31,5.31,0,0,0,4.9,4.9,5.31,5.31,0,0,0,6.5,1,5.31,5.31,0,0,0,8.1,4.9,5.31,5.31,0,0,0,12,6.5,5.46,5.46,0,0,0,6.5,12Z\"/>\n",
              "  </svg>\n",
              "    </button>\n",
              "    <script>\n",
              "      (() => {\n",
              "      const buttonEl =\n",
              "        document.querySelector('#id_7b94ba05-8402-4e0a-8e90-3aee9e466dcc button.colab-df-generate');\n",
              "      buttonEl.style.display =\n",
              "        google.colab.kernel.accessAllowed ? 'block' : 'none';\n",
              "\n",
              "      buttonEl.onclick = () => {\n",
              "        google.colab.notebook.generateWithVariable('sample_stratified');\n",
              "      }\n",
              "      })();\n",
              "    </script>\n",
              "  </div>\n",
              "\n",
              "    </div>\n",
              "  </div>\n"
            ],
            "application/vnd.google.colaboratory.intrinsic+json": {
              "type": "dataframe",
              "variable_name": "sample_stratified",
              "summary": "{\n  \"name\": \"sample_stratified\",\n  \"rows\": 2,\n  \"fields\": [\n    {\n      \"column\": \"Group\",\n      \"properties\": {\n        \"dtype\": \"string\",\n        \"num_unique_values\": 2,\n        \"samples\": [\n          \"B\",\n          \"A\"\n        ],\n        \"semantic_type\": \"\",\n        \"description\": \"\"\n      }\n    },\n    {\n      \"column\": \"Value\",\n      \"properties\": {\n        \"dtype\": \"number\",\n        \"std\": 1,\n        \"min\": 2,\n        \"max\": 4,\n        \"num_unique_values\": 2,\n        \"samples\": [\n          4,\n          2\n        ],\n        \"semantic_type\": \"\",\n        \"description\": \"\"\n      }\n    }\n  ]\n}"
            }
          },
          "metadata": {},
          "execution_count": 20
        }
      ]
    },
    {
      "cell_type": "code",
      "source": [
        "#5\n",
        "def calc_range(data):\n",
        "    return max(data) - min(data)\n",
        "calc_range(data)"
      ],
      "metadata": {
        "colab": {
          "base_uri": "https://localhost:8080/"
        },
        "id": "ZbBaVR1mEQYQ",
        "outputId": "ed0182a9-5f42-466b-851d-5275e55bdd2d"
      },
      "execution_count": 22,
      "outputs": [
        {
          "output_type": "execute_result",
          "data": {
            "text/plain": [
              "30"
            ]
          },
          "metadata": {},
          "execution_count": 22
        }
      ]
    },
    {
      "cell_type": "code",
      "source": [
        "#6\n",
        "np.random.seed(42)\n",
        "data = np.concatenate([np.random.normal(0, 1, 700), np.random.normal(5, 2, 300)]) # Mixture of two normal distributions\n",
        "\n",
        "# Create the histogram\n",
        "plt.hist(data, bins=30)\n",
        "plt.xlabel(\"Value\")\n",
        "plt.ylabel(\"Frequency\")\n",
        "plt.title(\"Histogram of Skewed Data\")\n",
        "plt.show()"
      ],
      "metadata": {
        "colab": {
          "base_uri": "https://localhost:8080/",
          "height": 472
        },
        "id": "sa_cThVyEWsV",
        "outputId": "4fae48bf-d9eb-4a75-ea77-76601f003449"
      },
      "execution_count": 4,
      "outputs": [
        {
          "output_type": "display_data",
          "data": {
            "text/plain": [
              "<Figure size 640x480 with 1 Axes>"
            ],
            "image/png": "[encoded data removed]"
          },
          "metadata": {}
        }
      ]
    },
    {
      "cell_type": "code",
      "source": [
        "#7\n",
        "skewness = stats.skew(data)\n",
        "kurtosis = stats.kurtosis(data)"
      ],
      "metadata": {
        "id": "3kugkkAceuCs"
      },
      "execution_count": 5,
      "outputs": []
    },
    {
      "cell_type": "code",
      "source": [
        "skewness"
      ],
      "metadata": {
        "colab": {
          "base_uri": "https://localhost:8080/"
        },
        "id": "qrRakep8fPV5",
        "outputId": "e4785094-1a62-451c-a1f2-8bf1f751ecfa"
      },
      "execution_count": 6,
      "outputs": [
        {
          "output_type": "execute_result",
          "data": {
            "text/plain": [
              "np.float64(1.0323977563293834)"
            ]
          },
          "metadata": {},
          "execution_count": 6
        }
      ]
    },
    {
      "cell_type": "code",
      "source": [
        "kurtosis"
      ],
      "metadata": {
        "colab": {
          "base_uri": "https://localhost:8080/"
        },
        "id": "B8kE0FeVfYI6",
        "outputId": "13b1ec49-0775-4e09-e9ef-daa41e62a693"
      },
      "execution_count": 8,
      "outputs": [
        {
          "output_type": "execute_result",
          "data": {
            "text/plain": [
              "np.float64(0.07580679677741609)"
            ]
          },
          "metadata": {},
          "execution_count": 8
        }
      ]
    },
    {
      "cell_type": "code",
      "source": [
        "#8\n",
        "# Positively skewed\n",
        "positive_skewed = np.random.exponential(scale=2, size=1000)\n",
        "# Negatively skewed (using negative of exponential)\n",
        "negative_skewed = -np.random.exponential(scale=2, size=1000)\n",
        "print(positive_skewed)\n",
        "print(negative_skewed)"
      ],
      "metadata": {
        "colab": {
          "base_uri": "https://localhost:8080/"
        },
        "id": "wyT4cczefaFK",
        "outputId": "87aa1461-42f6-4e33-db10-d8a8d8d6a121"
      },
      "execution_count": 13,
      "outputs": [
        {
          "output_type": "stream",
          "name": "stdout",
          "text": [
            "[3.45186622e-01 1.33678362e+00 9.05494149e-01 2.03989663e+00\n",
            " 2.76310209e-01 1.12534842e+00 6.42353711e-01 4.37408067e+00\n",
            " 8.28645950e-02 4.90048864e+00 3.57945274e+00 7.06421094e-01\n",
            " 3.11455121e+00 6.34221678e-02 6.81436352e+00 1.49560780e+00\n",
            " 7.22746287e-01 9.00663080e-01 1.37425864e-01 9.08429952e+00\n",
            " 8.01694185e-02 2.12788338e+00 1.16943211e+00 5.94857643e+00\n",
            " 5.64725133e-01 1.51894504e+00 1.31693587e+00 2.42714712e+00\n",
            " 1.40866886e-01 4.30819891e-01 4.83034691e-01 2.67997268e+00\n",
            " 4.19316517e-01 1.70424720e+00 4.84764418e-01 3.95557505e+00\n",
            " 5.70102977e+00 1.46166892e+00 8.68682739e-01 5.33297073e-01\n",
            " 1.02125592e-01 6.25316325e-01 2.12399636e+00 1.52549589e+00\n",
            " 5.76628194e+00 1.00928046e+00 2.36744737e+00 1.34403498e+00\n",
            " 1.43724268e+00 6.23332998e-01 1.21375834e+00 1.27272099e+00\n",
            " 2.45272670e+00 5.64826933e+00 7.98930121e-01 8.62335606e-02\n",
            " 1.37152950e+00 1.57254935e+00 3.68904974e-01 2.85810818e+00\n",
            " 8.38998021e+00 5.82921601e+00 4.39065254e-01 4.16470338e+00\n",
            " 2.43812981e+00 1.20971065e+00 1.55571584e+00 3.78891606e+00\n",
            " 1.30837200e+00 9.34279051e-01 1.35946509e+00 1.73086163e+00\n",
            " 4.19165960e-01 4.62340769e+00 2.24286305e+00 2.00625289e+00\n",
            " 2.09601847e-01 1.85356080e+00 2.57851259e-01 1.63934079e-01\n",
            " 1.49863478e+00 1.03095798e+00 1.77740108e+00 1.86912568e-01\n",
            " 1.12769016e+00 3.84226798e-01 8.70106926e+00 1.64719619e+00\n",
            " 2.32589757e+00 7.87324911e-01 1.99063770e-01 7.44867031e+00\n",
            " 6.74470354e-01 1.10262932e+00 2.09886681e+00 5.00147845e-02\n",
            " 3.32419197e+00 1.53823521e+00 6.52061997e-01 1.27174982e-01\n",
            " 3.54664247e-01 4.50823489e+00 2.31687888e+00 5.75102086e-01\n",
            " 1.35702971e-01 2.34633967e+00 1.69917034e+00 1.03677335e+00\n",
            " 9.03891946e-01 4.88770831e-01 2.21497061e+00 7.05815431e+00\n",
            " 3.86478467e-01 1.81821628e+00 1.10393789e+00 1.18366909e+00\n",
            " 5.86454249e-01 3.48748064e+00 1.32816964e+00 1.56792072e+00\n",
            " 7.26998964e-01 4.01317640e-01 1.79653338e-01 2.50436026e+00\n",
            " 4.36894895e-01 2.34285218e+00 9.89827274e-01 1.07493751e+00\n",
            " 1.26665516e+00 9.16809540e-01 2.12099233e-01 7.41060430e-01\n",
            " 2.17970768e+00 2.19193798e+00 6.74373044e-01 1.23275241e+00\n",
            " 4.29971900e-01 4.72386867e-01 4.66336501e-02 4.54113727e+00\n",
            " 4.73234493e-01 5.16334250e-01 6.55901309e-01 2.72574537e-01\n",
            " 2.03921159e+00 1.56232195e-01 2.88208293e-01 2.06990489e+00\n",
            " 8.30002729e-01 2.46164563e+00 1.63028952e+00 5.91485406e-01\n",
            " 2.10438100e+00 2.47215715e-01 1.53751113e+00 1.14947750e+00\n",
            " 6.23604158e-01 1.85270738e+00 4.10106442e+00 1.36334535e+01\n",
            " 1.87177688e+00 1.03739933e+00 5.10319023e-01 5.94377138e-01\n",
            " 1.30575779e+00 9.15447319e-01 4.90250718e+00 9.18667013e-01\n",
            " 9.35036133e-01 9.67505878e-01 3.62335558e+00 2.10415402e+00\n",
            " 1.90471088e+00 8.13360760e-01 3.40644446e+00 7.82382682e-02\n",
            " 4.09274360e+00 1.43795547e+00 1.01582719e+00 1.37499546e+00\n",
            " 2.20172282e+00 2.56952094e-02 4.10446002e+00 1.18385273e+00\n",
            " 8.40040605e-01 2.97569856e-01 1.15772852e+00 1.37163927e+00\n",
            " 1.03384399e+00 2.27051164e+00 1.09254822e+00 6.50991698e+00\n",
            " 1.82897231e+00 3.29508902e+00 2.31620747e-01 1.01264254e+00\n",
            " 8.21501208e-01 1.68553409e+00 3.94819674e+00 1.63153907e-01\n",
            " 1.50686265e-01 3.79848057e+00 4.78673122e-01 2.20978345e+00\n",
            " 1.56561051e+00 3.57824903e+00 2.67266018e-01 2.78025268e-01\n",
            " 1.62755114e+00 5.85161606e+00 1.07227920e+00 7.91847841e-01\n",
            " 1.86631091e+00 5.33137848e+00 3.62712487e+00 1.08000849e+01\n",
            " 4.56543029e-02 2.39500765e-01 1.88048952e+00 3.43601202e+00\n",
            " 6.71629064e-01 5.46798684e-01 3.09269900e+00 1.16067402e-01\n",
            " 9.22112030e-01 1.40966729e+00 1.64354662e+00 2.60843476e+00\n",
            " 8.76531605e-01 1.89703054e+00 1.76076360e+00 1.58644825e+00\n",
            " 2.04598926e+00 6.00722013e-01 1.76894823e-01 2.54012137e-01\n",
            " 5.08707067e-01 1.38708626e+00 3.67070498e+00 2.41658653e+00\n",
            " 3.11217920e+00 8.64570007e-01 1.03722419e+00 1.00070098e+00\n",
            " 4.26072566e-01 1.26341118e-01 1.78766998e+00 9.05951020e+00\n",
            " 3.65034444e-01 9.56194117e-02 3.02400255e+00 5.82272079e-01\n",
            " 3.53972754e+00 2.43436377e+00 5.82548765e+00 1.05163230e+00\n",
            " 2.16924031e+00 1.25043426e+00 1.99168923e+00 1.19421601e+00\n",
            " 4.18067741e-01 1.41813616e+00 1.50402955e+00 3.32782883e+00\n",
            " 2.65998463e+00 2.18004829e+00 2.40693604e-01 2.55033828e+00\n",
            " 1.38751536e+00 4.49051129e+00 5.04823324e+00 1.13472139e-01\n",
            " 3.43673804e+00 7.68526296e-02 9.15105728e-01 1.56308256e+00\n",
            " 3.20574135e-01 2.74331452e+00 1.67796007e-02 3.69286215e-01\n",
            " 1.73879917e+00 2.50623900e+00 4.96924784e+00 2.44492981e+00\n",
            " 2.22813788e+00 1.00287680e+00 2.57050222e-03 2.56028727e-01\n",
            " 1.52952073e+00 2.24865965e+00 1.08067463e+00 2.62370269e+00\n",
            " 1.47571301e+00 1.54142677e-01 4.26426666e-01 3.66514072e+00\n",
            " 2.58133389e+00 4.50306141e+00 2.50122728e-01 9.25534998e+00\n",
            " 4.69943241e-01 2.36996175e-02 1.19222114e+01 6.59993376e-01\n",
            " 2.20535781e+00 3.88826287e-01 1.73608968e+00 4.68754319e+00\n",
            " 7.71857878e-01 2.21886509e+00 4.16272426e-01 1.96056760e+00\n",
            " 8.20303201e-01 4.74505891e-01 7.51372031e-01 3.94077211e-01\n",
            " 4.64386425e+00 1.01229612e+00 5.62815077e-01 1.18989270e+00\n",
            " 7.72902545e-01 2.72843377e+00 7.09614303e+00 1.15262664e+00\n",
            " 3.94704332e+00 1.66879059e+00 3.42135831e-01 2.34638769e+00\n",
            " 1.44076749e+00 2.10311310e+00 4.40887448e+00 1.16118963e+00\n",
            " 4.62886243e+00 2.77794801e+00 1.34122570e+00 1.84875738e+00\n",
            " 7.87807792e-01 8.22061862e+00 2.20133578e+00 8.96743653e-02\n",
            " 7.90896606e-01 1.95268896e+00 1.15964447e-01 4.83480863e-02\n",
            " 1.19576215e+00 8.09001685e-01 1.15356980e+00 6.09502680e-01\n",
            " 3.59971167e-01 2.33684686e+00 1.44544496e+00 4.46672668e-01\n",
            " 7.70117756e-01 1.79203480e+00 1.49941439e-01 3.19053900e-01\n",
            " 1.52133387e-01 3.34600536e+00 2.79195606e+00 2.79926935e+00\n",
            " 2.51985455e+00 2.21360401e+00 1.29631671e+00 2.05599918e+00\n",
            " 7.82334711e-02 1.94289043e+00 3.00905435e+00 1.38772832e+00\n",
            " 8.84818414e-01 6.49872918e-01 2.05893034e+00 2.36052036e+00\n",
            " 4.09538348e+00 8.38116401e-01 2.93737298e+00 1.64813346e+00\n",
            " 4.28836961e+00 1.50075659e+00 1.45808694e+00 1.72491746e+00\n",
            " 2.76711905e+00 6.68720526e+00 1.52819232e-01 1.09830433e-01\n",
            " 5.54678889e+00 1.50951599e+00 1.90852013e+00 1.31719627e+00\n",
            " 1.96675914e-01 2.92280647e+00 2.75050822e+00 7.47070630e-01\n",
            " 7.31256223e-01 3.63836059e+00 1.50217193e-01 4.25903155e+00\n",
            " 5.93208016e-01 1.79780924e+00 5.49756249e+00 2.26716849e+00\n",
            " 1.07033845e+00 2.33936311e+00 8.43126897e-01 6.49407086e-01\n",
            " 1.14175566e+01 2.77892058e+00 2.06969801e+00 8.77908245e-01\n",
            " 1.00820693e-01 6.30987288e-02 1.61568562e+00 2.87124420e+00\n",
            " 1.54169509e+00 3.67500048e+00 6.79959397e-02 9.13786538e-01\n",
            " 5.41179016e-01 1.18578203e+00 1.50258449e-01 6.16395952e+00\n",
            " 5.05287368e-01 5.11000019e+00 1.10987952e+00 8.47054476e+00\n",
            " 1.61513448e+00 5.34245889e+00 1.07266915e-02 2.75854857e+00\n",
            " 4.66713327e+00 3.00996041e-01 2.02130290e-01 1.10528444e+00\n",
            " 5.42649455e+00 1.56346094e+00 1.49925079e+00 3.04266375e-01\n",
            " 1.57964584e-03 3.32293760e+00 1.83297819e-01 2.00942340e+00\n",
            " 4.92120375e+00 4.68034698e-01 2.18887903e+00 1.63936036e-01\n",
            " 1.85144587e+00 3.58089991e-01 2.66326057e+00 7.16870971e-01\n",
            " 1.24497117e+00 1.82973620e+00 3.75729972e-01 2.70678575e+00\n",
            " 7.20907981e-01 2.17162033e+00 3.44622972e-01 2.33025855e+00\n",
            " 2.74363116e-01 1.10801085e+00 5.67927518e-01 2.75963277e+00\n",
            " 6.07717774e-01 4.26935562e+00 4.44792145e+00 4.37410120e-01\n",
            " 1.90303777e+00 1.83611467e-01 9.93638675e-01 2.49878940e+00\n",
            " 2.15422953e+00 1.96006271e+00 6.64078572e-01 9.49710597e-01\n",
            " 2.17278759e-01 2.53896365e+00 1.40191035e+00 2.46725390e+00\n",
            " 5.72548860e-01 7.84421361e-01 8.13577980e-01 5.21590879e-02\n",
            " 8.34208784e-01 3.25219761e+00 4.55185703e+00 1.46052841e+00\n",
            " 1.21578090e+00 6.26193828e-02 4.22730980e+00 2.61911751e-02\n",
            " 5.79177678e+00 1.34361793e+00 8.36901598e-01 5.15980044e+00\n",
            " 4.93867611e-02 1.74179788e+00 1.59227668e+00 4.95180916e-01\n",
            " 1.12033789e+00 2.11262345e+00 2.59752835e+00 1.43423155e-03\n",
            " 5.52459350e+00 3.59510599e-01 5.32051046e-01 6.11619978e-01\n",
            " 7.71077551e-02 2.62615445e-01 8.58802022e+00 7.57305791e-01\n",
            " 2.45015814e-01 2.26317824e-01 2.54207769e+00 3.85610244e+00\n",
            " 5.93990073e-01 4.22624241e-02 5.04861578e-01 1.16351089e-01\n",
            " 2.18279600e-01 1.12953650e+00 5.22517516e-01 1.45111711e+00\n",
            " 5.84702588e-01 5.64481214e+00 4.72772918e+00 1.67313971e+00\n",
            " 8.75224650e-01 9.59774647e-01 1.06155429e+00 2.60081560e+00\n",
            " 1.20164288e+00 3.88604789e+00 5.76819526e+00 8.18784077e-01\n",
            " 1.64512033e+00 1.99765618e-01 4.47460066e-01 1.06704849e+00\n",
            " 4.61854320e-01 4.18400809e+00 3.44630588e-01 1.21636547e+00\n",
            " 1.86128262e+00 2.35442747e+00 9.65997384e-01 4.06662898e+00\n",
            " 1.68013748e+00 1.15787984e+00 1.39216051e-01 1.24981654e+00\n",
            " 3.43778962e+00 1.90664099e+00 3.56951751e+00 1.36248335e+00\n",
            " 2.52173670e-01 2.74674463e-02 7.22569812e-01 2.39459342e+00\n",
            " 3.12377231e+00 7.01251795e-01 1.36898516e+00 1.09331637e+00\n",
            " 1.05703842e+00 5.26235751e-01 2.93224244e-01 4.38025585e-01\n",
            " 1.13844292e-01 4.41619408e-01 1.84869747e-02 1.97373973e+00\n",
            " 7.60692706e-01 7.23458502e+00 4.30641089e-01 8.48771674e-01\n",
            " 8.85839179e-01 1.69748249e-02 3.65528677e+00 6.50349375e-02\n",
            " 5.63282493e+00 4.45262545e+00 1.53368181e+00 1.56875193e+00\n",
            " 2.12134974e+00 9.78943864e-01 2.08383424e+00 9.16028859e-02\n",
            " 1.11126114e-01 1.22214079e+00 1.59533743e+00 4.37525904e+00\n",
            " 2.21104905e-01 3.45923682e+00 4.71564512e-01 1.00202667e+00\n",
            " 7.61357004e-01 1.02216889e+00 3.26204077e-01 1.40062588e+00\n",
            " 3.23536955e+00 1.16512312e+00 1.34909674e+00 3.77787491e+00\n",
            " 2.44874640e+00 1.34847190e+00 5.95991885e-01 4.32437274e+00\n",
            " 1.72086266e+00 4.99867475e-01 6.27011306e-01 3.25045471e+00\n",
            " 9.02992782e-02 9.67980805e+00 2.79332757e-01 3.17994250e+00\n",
            " 1.00431103e+00 1.35539896e+00 4.25139953e+00 1.06515835e+00\n",
            " 1.54219043e+00 1.01112737e-01 4.70046701e-03 5.61544992e-01\n",
            " 2.28251622e+00 2.58543569e-01 2.41539390e-01 1.05852444e+00\n",
            " 2.08732250e+00 2.49008961e+00 3.93126599e-01 1.65868086e-01\n",
            " 5.64009988e+00 6.04012031e-01 3.83936520e+00 3.98273606e+00\n",
            " 2.96140870e+00 3.69850543e-01 3.44971391e+00 2.93284566e+00\n",
            " 1.81626317e+00 8.22570128e-01 6.09001715e-01 2.59965022e-01\n",
            " 1.42570846e+00 1.76021114e+00 8.90509617e-01 1.29008238e+00\n",
            " 9.03587150e-01 2.04889953e+00 4.63051425e+00 3.58062580e-01\n",
            " 9.60621321e-01 3.03666809e-01 1.96135864e+00 2.61031749e+00\n",
            " 5.37393010e+00 6.53877048e-01 5.99993068e+00 1.30704738e-01\n",
            " 1.84770784e+00 1.17659496e-01 4.48437629e+00 1.50923281e+00\n",
            " 2.21337975e+00 3.56251671e+00 3.25768869e-01 7.87118934e-02\n",
            " 4.22196590e+00 7.56477935e-01 2.76178173e-01 1.26395831e+00\n",
            " 1.82412973e+00 6.29206611e-02 6.42879430e-01 6.66996994e-02\n",
            " 1.09061120e+00 4.50949608e+00 8.10860355e+00 2.02696691e+00\n",
            " 3.52609851e-01 4.72571909e+00 1.45236507e+00 3.33879284e-01\n",
            " 5.09509668e+00 2.83325190e+00 2.63133835e+00 2.47010636e+00\n",
            " 4.47136836e-01 4.73994879e-01 2.33138326e+00 4.96211948e-01\n",
            " 1.15489867e+00 3.04653718e+00 3.06451414e+00 1.20757030e+00\n",
            " 3.14226156e+00 3.64800915e+00 2.12712215e+00 5.18645007e-01\n",
            " 6.40442981e-01 7.56209155e-01 2.48416509e-01 6.38096772e-01\n",
            " 4.70227884e-01 1.21514575e+00 4.78146801e+00 2.20702155e-01\n",
            " 2.54784601e+00 2.32491333e+00 2.01308103e-01 5.11682407e+00\n",
            " 1.68084670e+00 9.04250476e-01 2.82559361e+00 5.95102448e-01\n",
            " 2.36513924e+00 8.10424286e-02 3.65777705e+00 1.18903357e+00\n",
            " 2.02501367e+00 5.00099137e-01 2.26066239e+00 2.95892809e+00\n",
            " 1.28191868e+00 1.92324013e+00 1.21881067e+00 4.49035706e+00\n",
            " 1.37778919e+00 3.68790055e+00 3.23244232e+00 1.05697748e+00\n",
            " 5.22949000e-01 1.04202848e+00 3.49990009e+00 5.16589705e-01\n",
            " 1.48650908e+00 3.28079189e+00 8.72294480e-01 2.05561608e+00\n",
            " 5.63748803e-01 2.31449064e-01 3.16349204e+00 2.08430396e-01\n",
            " 6.33209719e-01 3.86355291e+00 8.50731499e-01 7.22719887e+00\n",
            " 7.79765439e+00 6.24703827e-01 8.36829911e-02 2.44198894e+00\n",
            " 1.19926450e+00 2.12394718e-01 2.45873726e+00 6.33423763e-02\n",
            " 4.08346996e+00 2.98514579e-01 2.72354073e-01 3.86374263e-01\n",
            " 6.45111411e+00 2.36291869e+00 3.23263842e+00 1.01378336e+00\n",
            " 8.19888431e-01 5.34410343e-01 1.31034691e+00 1.60515966e+00\n",
            " 1.99812138e+00 5.94437482e-01 5.93833964e+00 3.72077309e-01\n",
            " 6.74249138e+00 2.99351599e-02 1.31218721e+00 8.11033733e-01\n",
            " 1.19248895e+00 1.69103360e+00 1.14394570e+00 1.07176334e+00\n",
            " 2.63894252e+00 2.31593668e+00 3.58277446e+00 5.75254765e-01\n",
            " 1.88080064e+00 1.75989246e+00 9.23238746e-01 1.33128794e+00\n",
            " 7.53120253e-01 3.05939682e-01 4.81091212e-01 2.23011264e-01\n",
            " 2.29814602e+00 2.16190269e+00 6.01586768e+00 2.61628594e+00\n",
            " 1.06898262e-01 4.31256179e+00 3.97081217e+00 1.17153057e+00\n",
            " 1.76311713e+00 7.46594128e+00 1.51987509e+00 4.71454361e+00\n",
            " 1.73380147e-01 4.24040957e-01 1.16233504e+00 1.75778185e+00\n",
            " 3.38811723e+00 8.88986729e+00 9.84830599e-01 9.71532098e-02\n",
            " 3.23062530e+00 1.85460588e+00 4.42647563e-01 1.36571444e+00\n",
            " 2.71199784e+00 2.94293591e+00 1.38476859e+00 7.28304315e-01\n",
            " 7.27961348e+00 2.17749785e+00 1.04929988e+00 6.58295282e-01\n",
            " 2.62685362e+00 5.54627871e-01 3.76783862e-01 1.50933844e+00\n",
            " 6.84945105e-01 1.98259515e+00 2.50987392e-01 2.12808033e+00\n",
            " 6.66186183e-01 4.85927896e-04 2.71492963e-01 5.42457969e+00\n",
            " 4.04015234e+00 5.32125675e-01 3.01350910e+00 1.87590530e+00\n",
            " 7.07435805e+00 9.35550339e-01 2.28801829e+00 1.31287805e-01\n",
            " 1.00918136e+00 6.63836831e+00 1.54863150e+00 6.79016290e-01\n",
            " 2.56282663e-01 2.43160730e+00 2.07046412e+00 9.36614022e-01\n",
            " 6.02947759e+00 4.49060114e-02 7.24017865e-01 5.07837477e+00\n",
            " 7.74078145e-01 5.81380743e-01 1.52808548e+00 3.47229099e+00\n",
            " 2.17726087e-01 5.73013481e+00 3.17020176e+00 3.99953608e-01\n",
            " 2.48964488e+00 9.72131792e-01 1.02931484e+00 3.05839130e+00\n",
            " 6.58207643e+00 2.70851223e-01 1.09162876e+00 1.31147779e+00\n",
            " 9.44209484e-01 9.02565130e-01 1.07368443e-01 2.31378802e+00\n",
            " 1.14616254e+00 4.33313777e-01 3.38600323e+00 3.24464866e+00\n",
            " 1.33258845e+00 7.08928097e-01 2.03273450e+00 6.79782128e-01\n",
            " 5.38395740e-01 2.62248253e+00 8.23216866e-02 1.99129070e-01\n",
            " 1.36226370e-02 3.31975021e-01 1.42970540e-01 1.09464693e+01\n",
            " 6.81631227e-01 3.23316277e-01 5.51497143e-01 5.50167236e+00\n",
            " 1.46860606e+00 9.07687717e-01 4.13331060e+00 1.00502148e+00\n",
            " 8.15962251e-01 4.64576783e-01 9.48977180e-01 7.61596765e-01\n",
            " 2.26208890e+00 6.83805483e-01 1.72171085e+00 1.36326785e-01\n",
            " 4.24627701e-01 1.04648908e+00 5.52763077e+00 9.47226627e-01\n",
            " 2.18172948e+00 5.88976289e-01 2.71716369e-01 1.20639612e-01\n",
            " 7.28877145e-01 3.43145530e-01 3.82346309e-01 2.86057031e+00\n",
            " 3.19296668e-02 1.63203182e+00 9.54334874e-01 1.41266748e+00\n",
            " 1.65486737e+00 7.51912695e-01 6.99423799e-01 2.64402562e+00\n",
            " 4.10018476e+00 4.27826644e-01 2.05436376e-01 4.56156514e+00\n",
            " 8.61244208e-01 1.60287905e+00 8.91147041e-01 2.68897538e-01\n",
            " 1.77993862e+00 1.48947410e+00 4.53785038e-01 1.20248210e+00\n",
            " 3.18858146e+00 1.78527587e+00 2.03882352e-01 1.58824132e+00\n",
            " 2.42628476e+00 3.14720938e+00 1.98374038e+00 3.31302164e-01\n",
            " 2.47694401e+00 2.26232373e+00 4.94603366e-02 1.06119857e+00\n",
            " 8.09781287e-01 2.21376517e+00 4.87039007e-01 1.78745405e+00\n",
            " 4.88843469e+00 3.19701941e+00 5.08823681e+00 7.67995983e+00\n",
            " 2.14549220e-02 1.94964811e+00 1.06491380e+00 3.93014808e+00\n",
            " 5.80209214e-01 7.92973913e+00 1.90232328e+00 3.15527202e+00\n",
            " 1.78973355e-01 4.05353575e-01 2.84097403e+00 4.44636558e-02\n",
            " 3.39520521e+00 2.80944411e-02 2.14074272e+00 9.08556394e-01\n",
            " 1.89089772e+00 2.38166179e+00 8.38545652e-01 2.28494098e-01\n",
            " 1.44379956e-01 1.77801283e+00 1.47067086e+00 2.71115021e+00\n",
            " 1.42562052e+00 1.09790594e+00 1.01528532e+00 5.36058257e-02\n",
            " 8.17612974e-01 7.46108340e+00 4.13590481e+00 7.99099478e-01\n",
            " 1.77247093e+00 3.75851751e+00 1.16419338e+00 3.62421259e-02\n",
            " 1.54864902e-01 1.42830336e+00 6.97608577e+00 2.36318062e+00\n",
            " 1.47112661e-01 4.19864600e-01 2.95089076e+00 3.68324139e+00]\n",
            "[-1.92307095e+00 -2.06802787e+00 -5.74934120e-02 -3.52669694e+00\n",
            " -3.10493600e+00 -5.99604166e-01 -2.46664340e+00 -4.83772727e-01\n",
            " -8.23319429e-02 -4.49130479e-01 -3.93560467e-01 -8.24218252e-01\n",
            " -1.08411492e+00 -1.42074494e+00 -1.29540665e+00 -6.31270580e-01\n",
            " -5.92091838e-02 -1.85825364e+00 -1.00751741e+00 -7.09559646e-01\n",
            " -4.03392592e+00 -2.74670342e+00 -3.90055703e+00 -1.36632556e+00\n",
            " -2.80666091e-01 -2.38291250e+00 -4.61529488e-01 -1.16403349e+00\n",
            " -1.34419187e-01 -3.48946632e+00 -2.69213978e-01 -4.66810007e+00\n",
            " -3.99359487e+00 -1.24941791e+00 -2.72803434e+00 -1.93224952e+00\n",
            " -3.24987119e+00 -1.13058157e+00 -3.08176946e+00 -1.24149236e+00\n",
            " -5.65927627e+00 -1.33251241e+00 -1.24209689e+00 -3.07490309e+00\n",
            " -3.44720404e+00 -1.61706720e+00 -3.96408800e-01 -1.26131488e+00\n",
            " -6.88857533e+00 -2.79662209e+00 -3.33373794e+00 -6.67526871e-02\n",
            " -1.26169531e+00 -2.08042904e+00 -3.54429823e+00 -1.01058023e-01\n",
            " -3.82702571e+00 -1.58992104e+00 -4.39583277e-01 -7.63268318e-01\n",
            " -6.62375195e-01 -1.51370398e+00 -1.06138541e-01 -3.45224471e-01\n",
            " -3.35001306e+00 -2.84519297e-01 -5.31570519e-01 -1.20796846e+00\n",
            " -1.45597789e+00 -2.88454865e+00 -1.18599718e+00 -3.12000659e+00\n",
            " -1.92648329e+00 -2.40045498e-01 -3.39991122e-01 -1.14907111e+00\n",
            " -1.01130934e+00 -2.72159844e+00 -1.73851441e+00 -9.82480945e-01\n",
            " -3.74492004e-01 -5.14531036e-01 -1.71369134e+00 -1.10134759e+00\n",
            " -1.44691387e+00 -3.74292197e-01 -2.17478841e+00 -3.82837958e+00\n",
            " -5.96649024e-01 -1.35263608e+00 -7.42039651e+00 -8.10655457e-01\n",
            " -1.80796530e+00 -1.89051516e-01 -1.86288490e+00 -1.87812233e-01\n",
            " -6.39988418e+00 -2.51518780e+00 -3.10384601e+00 -2.43549691e+00\n",
            " -1.78187490e+00 -1.19535687e+00 -3.90912224e+00 -6.28548152e+00\n",
            " -1.38244276e+00 -5.36286666e+00 -1.75093544e+00 -1.54604461e+00\n",
            " -1.21204164e+00 -4.69642344e-01 -7.45319192e-03 -5.52841379e-01\n",
            " -1.42557018e+00 -9.55942420e-01 -1.19017331e+00 -7.88994170e+00\n",
            " -8.62404071e-01 -1.20362776e+00 -2.86622235e-01 -9.82916930e-02\n",
            " -2.98695320e+00 -1.69112023e+00 -2.86011474e+00 -3.24715059e-01\n",
            " -1.69646419e+00 -5.85101073e-01 -5.17701612e-01 -2.31859068e-02\n",
            " -2.79307561e-01 -7.40007071e-01 -2.48585568e-01 -8.51727466e+00\n",
            " -7.38167947e-01 -2.79268978e-01 -4.43994200e-01 -1.77202374e+00\n",
            " -1.32372607e-01 -3.96730485e+00 -6.51417741e+00 -5.66709353e-01\n",
            " -1.19602046e+00 -4.47661878e-02 -2.04725209e+00 -1.06861863e+00\n",
            " -6.29581677e-01 -4.63453339e-01 -2.12276641e+00 -1.07645199e+00\n",
            " -3.96071048e-01 -2.33662635e+00 -1.66515086e+00 -3.91334448e+00\n",
            " -2.49938361e-01 -3.08044508e+00 -2.23875349e+00 -2.44359984e-01\n",
            " -2.37371181e+00 -1.16517067e+00 -5.80029101e+00 -3.05396621e-01\n",
            " -2.05910583e+00 -9.62469066e-01 -6.28450888e+00 -8.00880195e-01\n",
            " -6.55014696e+00 -4.63511019e+00 -6.30471725e-01 -3.25461095e+00\n",
            " -1.08542123e+01 -5.82478121e-01 -1.14815988e+00 -1.46869156e+00\n",
            " -6.98919602e-01 -3.07650934e-02 -4.97254141e-01 -6.62395618e-01\n",
            " -1.17253456e+00 -3.75317497e-01 -4.13114602e+00 -2.44095745e+00\n",
            " -1.78100678e-01 -2.10017261e+00 -2.12064831e+00 -6.25720999e+00\n",
            " -6.05088680e-03 -5.69858263e-01 -5.25639445e+00 -5.38043772e+00\n",
            " -2.55012445e+00 -2.90284645e+00 -1.91883266e-01 -1.44258241e+00\n",
            " -5.26845426e-01 -3.99874924e-01 -3.32465759e+00 -2.90139723e-01\n",
            " -1.26467484e+00 -5.57998220e+00 -4.11177229e-01 -7.63282790e+00\n",
            " -1.03303671e+01 -1.62213765e+00 -3.73003138e-01 -7.59901436e-01\n",
            " -1.10500719e+00 -7.40169551e-01 -6.58774413e-01 -7.16757701e+00\n",
            " -3.32970812e-01 -2.64347100e+00 -8.20747262e-04 -1.81358531e+00\n",
            " -4.95252037e+00 -6.79169615e-01 -4.10425485e-01 -2.10926619e+00\n",
            " -2.49377040e+00 -2.32969983e+00 -7.69316794e-01 -5.81245857e-01\n",
            " -6.24344378e+00 -5.13569432e+00 -1.22245841e+00 -3.74412468e+00\n",
            " -1.20414091e+00 -1.10464645e+00 -3.41014319e-01 -1.11166710e+00\n",
            " -1.54185829e+00 -4.55228283e-02 -1.17438050e+00 -3.04062288e+00\n",
            " -2.27915644e+00 -2.01657625e+00 -4.80603617e+00 -3.63931354e-02\n",
            " -1.62858587e+00 -3.09620448e+00 -1.55887203e+00 -7.82815414e-01\n",
            " -2.92945116e-01 -4.37072571e+00 -1.27263557e+00 -4.20935784e+00\n",
            " -1.76306435e+00 -2.24289477e+00 -3.26194786e+00 -2.15265810e+00\n",
            " -1.01517787e+00 -1.44158517e+00 -3.24956533e+00 -9.35692864e-01\n",
            " -9.82442950e-01 -2.01166371e-01 -4.92045387e+00 -1.90900272e-01\n",
            " -2.08943707e+00 -1.06612365e+00 -1.04047082e+00 -2.27606950e+00\n",
            " -1.38901094e-01 -1.80135542e+00 -2.95709814e+00 -3.52299706e+00\n",
            " -3.73937612e-01 -4.55420607e+00 -2.13507679e+00 -4.27168182e+00\n",
            " -1.32826722e+00 -1.56191781e+00 -5.02755758e+00 -4.60336187e+00\n",
            " -1.18899742e+00 -6.41547578e-01 -9.99014618e-01 -9.81275973e-01\n",
            " -6.76174330e-01 -6.25533776e-01 -3.94746846e+00 -1.44844463e-01\n",
            " -2.26399391e+00 -3.79466031e-01 -8.44731933e-01 -1.27036556e-01\n",
            " -6.29349263e-01 -2.92566904e+00 -4.32591283e+00 -5.00842331e-01\n",
            " -1.24555578e+00 -1.27097974e+00 -4.13621690e+00 -2.87769524e+00\n",
            " -1.43929946e+00 -2.22185887e+00 -3.75928134e+00 -1.91694825e-02\n",
            " -1.03130796e+00 -4.75554782e+00 -2.69655668e+00 -1.56544969e+00\n",
            " -1.50853309e+00 -8.54716336e-01 -1.47010842e+00 -2.13064440e+00\n",
            " -1.08381761e+00 -2.50459818e+00 -3.94990689e+00 -3.36091521e-01\n",
            " -1.20130747e+00 -1.04856517e+00 -2.32607638e+00 -5.75010750e-01\n",
            " -2.04469695e+00 -4.19911286e+00 -1.08302195e+00 -4.83859066e+00\n",
            " -9.97102865e+00 -2.24304947e-01 -5.30675651e-01 -6.00671258e+00\n",
            " -6.35583663e+00 -2.05632566e-01 -3.02242307e-02 -3.51327594e-01\n",
            " -1.10493238e+01 -3.96900942e-01 -1.39651084e+00 -3.77325348e+00\n",
            " -4.12251963e-02 -1.85515327e+00 -6.48762513e-01 -3.96586295e+00\n",
            " -6.66645620e-01 -2.32154389e+00 -2.24306369e+00 -5.00756002e-01\n",
            " -7.08382325e-02 -1.05272328e+00 -6.82709097e-01 -3.31073073e+00\n",
            " -3.22252103e+00 -1.22138014e+00 -1.86541056e+00 -1.85399325e+00\n",
            " -3.51075651e+00 -1.10677887e+00 -6.44399848e-01 -6.15864577e-01\n",
            " -1.53657042e+00 -1.19257895e+00 -1.16006836e+00 -1.91122569e-01\n",
            " -2.53598286e+00 -4.80927080e-01 -4.38685642e-01 -1.06463765e+00\n",
            " -5.16967296e-01 -1.75345875e+00 -9.28721844e-01 -1.19172054e+00\n",
            " -1.54078799e+00 -4.55145498e-01 -3.38617084e-01 -4.24757118e+00\n",
            " -1.13734632e+00 -1.06237509e+00 -7.25234631e-02 -1.37821591e+00\n",
            " -1.61563388e+00 -1.63669926e+00 -2.45537811e+00 -3.90769423e-01\n",
            " -5.81301307e-01 -3.32916634e+00 -5.88137549e+00 -2.92209349e-01\n",
            " -1.37691461e+00 -4.82045504e-01 -1.23906491e-01 -7.87577105e-01\n",
            " -3.10240091e-01 -2.47528720e+00 -1.52596115e+00 -3.10583093e-01\n",
            " -1.85691136e-02 -3.30215641e+00 -3.87641413e-01 -1.86390875e+00\n",
            " -8.21725035e-01 -1.76129676e+00 -7.58582192e-01 -1.81906404e-01\n",
            " -5.04501183e-01 -4.16654135e-01 -1.11730024e+00 -2.14754932e+00\n",
            " -6.12523420e-01 -2.42867369e-02 -1.46351560e+00 -1.86158825e+00\n",
            " -6.58668663e+00 -1.78061645e+00 -1.27418620e+00 -1.70382457e+00\n",
            " -5.25941994e+00 -3.52492349e+00 -7.80105187e-01 -5.41661353e-01\n",
            " -6.09340753e-01 -1.40405717e+00 -2.72554204e+00 -1.39921282e+00\n",
            " -1.40408057e-01 -2.57167273e+00 -3.27948631e+00 -6.83566653e-01\n",
            " -2.18203683e+00 -1.11231520e+00 -4.39860187e+00 -3.73157287e+00\n",
            " -1.49070072e+00 -2.35210283e+00 -4.29714943e+00 -1.36923536e+00\n",
            " -7.51572065e-01 -2.80213500e+00 -4.97092610e-01 -9.83782524e-01\n",
            " -4.01576401e+00 -2.57777161e+00 -1.03439511e+00 -4.83492279e-01\n",
            " -8.80014943e-01 -6.68441165e-01 -3.87386228e-01 -2.71995083e+00\n",
            " -5.80891474e-01 -1.21088614e+00 -9.75062926e-01 -8.04338320e+00\n",
            " -9.92176982e-01 -1.66725137e-01 -1.88238434e-01 -1.78687631e+00\n",
            " -1.82940175e+00 -1.08517958e+00 -1.13071742e+00 -1.10882894e-01\n",
            " -1.45360033e+00 -1.40534269e+00 -3.23977713e-01 -2.19271251e-01\n",
            " -2.63802565e-01 -2.13007330e-01 -1.88172121e+00 -4.37513008e-01\n",
            " -5.79181525e-01 -3.81285309e-01 -6.33234401e+00 -3.85677365e+00\n",
            " -5.24015233e-01 -7.93703501e-01 -4.71173400e-01 -1.35405937e+00\n",
            " -3.96107408e-02 -2.22563344e+00 -1.48114079e+00 -4.57813234e+00\n",
            " -3.59192989e-01 -3.26039631e+00 -3.14005957e+00 -2.72054585e-01\n",
            " -1.01685442e+00 -3.73027000e-01 -5.87991928e-01 -6.11002931e-01\n",
            " -1.62492655e+00 -1.06005403e+00 -5.90277266e+00 -2.70196993e-01\n",
            " -7.27577466e+00 -5.24389022e-01 -2.96450014e+00 -8.27911885e-01\n",
            " -3.08824684e-01 -3.90229628e+00 -7.38828344e-01 -2.15089771e+00\n",
            " -1.67146717e+00 -1.27639513e+00 -1.36964177e+00 -2.63531286e+00\n",
            " -1.83732644e-01 -2.20632924e+00 -4.52311859e+00 -1.19050372e-01\n",
            " -3.03165750e-01 -2.52201730e+00 -1.14995208e+00 -1.03351510e+00\n",
            " -2.94603853e-01 -1.41355953e+00 -2.70598048e-01 -1.29489675e+00\n",
            " -2.88458942e+00 -5.97524754e-01 -1.31087895e+00 -9.66062381e+00\n",
            " -2.32087171e+00 -3.68219489e+00 -1.07176593e+00 -2.92083724e+00\n",
            " -8.27050474e-02 -2.62294035e-01 -4.53978355e-01 -1.02816827e+00\n",
            " -3.73829483e+00 -8.50109632e-01 -2.12622695e+00 -2.47102529e+00\n",
            " -1.76465974e+00 -8.83973874e-01 -1.72101842e+00 -8.37908131e-01\n",
            " -1.75202168e-01 -9.86845386e+00 -2.72057482e-01 -1.50198061e-01\n",
            " -4.21618826e+00 -7.18598658e-01 -2.10134196e+00 -7.97989362e-01\n",
            " -9.93366437e-01 -6.07929089e-01 -8.40276485e-01 -1.05764113e+00\n",
            " -2.54890548e+00 -1.43297981e+00 -5.74933919e+00 -8.55653179e-02\n",
            " -1.39860546e+00 -1.75522105e+00 -5.05638801e+00 -1.00815844e-01\n",
            " -1.70428388e+00 -3.84323426e+00 -5.53953105e-01 -4.17966829e+00\n",
            " -3.84541408e-02 -2.63693223e+00 -5.40950791e+00 -2.14120254e+00\n",
            " -1.15617301e+00 -9.18387124e-02 -5.05430465e+00 -1.27087468e+00\n",
            " -5.88509156e-02 -2.34121192e+00 -1.31493181e+00 -2.65566928e-01\n",
            " -4.82288719e-01 -1.33328342e-01 -1.70801046e+00 -1.94587815e+00\n",
            " -1.40939647e+00 -3.39765477e+00 -3.94668962e+00 -1.91227014e+00\n",
            " -2.56770845e-02 -2.37639351e+00 -1.08256697e+00 -1.66738328e+00\n",
            " -2.09439743e+00 -8.62294009e-01 -4.98020437e+00 -2.87682697e-01\n",
            " -2.22650877e+00 -8.73822127e-03 -5.17125205e+00 -2.38702830e-01\n",
            " -1.99384842e-01 -8.09953354e-01 -9.35424628e-01 -4.82360662e-01\n",
            " -1.75953992e+00 -1.17007166e+00 -6.95464610e-02 -7.70301877e-01\n",
            " -3.32602460e+00 -2.34044131e+00 -2.58102934e+00 -2.39543100e+00\n",
            " -7.44949705e-01 -2.09974331e-01 -6.36192346e-01 -3.56502828e+00\n",
            " -7.87168877e+00 -1.36183263e+00 -1.94954197e-02 -3.01749996e-01\n",
            " -7.77453682e-01 -1.72827602e+00 -1.56125571e-01 -5.74198428e+00\n",
            " -9.08524115e-01 -4.87415888e+00 -3.03300476e+00 -2.81656690e+00\n",
            " -1.86646477e+00 -1.97119490e+00 -2.03224001e+00 -1.98160504e+00\n",
            " -1.61365433e+00 -8.59743358e+00 -2.63570619e+00 -3.00068625e+00\n",
            " -4.11869462e+00 -4.85773756e-01 -1.75050274e-01 -1.31901648e+00\n",
            " -1.44342542e+00 -3.53431066e+00 -1.17319563e+00 -1.69191164e+00\n",
            " -1.49761975e+00 -7.79032889e-02 -1.91014055e+00 -3.52102499e+00\n",
            " -3.42764535e-01 -1.80443906e+00 -1.80088666e+00 -3.58695878e-01\n",
            " -2.63554033e-01 -7.82924707e+00 -1.00082397e+00 -5.16043907e-01\n",
            " -3.75853379e-01 -2.20284274e+00 -1.88037447e+00 -2.06313451e+00\n",
            " -1.84243796e-01 -4.47987015e+00 -9.86188832e-01 -7.51917682e-01\n",
            " -1.24113756e+00 -9.88809264e-01 -3.98398990e+00 -5.29751576e+00\n",
            " -7.23240637e-01 -3.98925700e+00 -3.04215025e+00 -5.34173059e+00\n",
            " -5.64063630e-01 -1.72057307e+00 -6.41911325e-01 -3.47561661e+00\n",
            " -1.06768292e-02 -1.66398723e+00 -8.28618499e-01 -7.79233835e-01\n",
            " -2.07074730e+00 -3.81413122e+00 -1.87909513e+00 -3.83700022e+00\n",
            " -6.14673566e-01 -1.46586382e+00 -1.19762600e+00 -2.34264647e-02\n",
            " -1.62752309e+00 -2.16660610e+00 -1.79255667e+00 -2.66573392e+00\n",
            " -1.69418023e+00 -1.38164869e-01 -2.47604660e-01 -1.81503158e+00\n",
            " -6.43109848e-01 -1.65991908e-01 -1.12284444e+00 -1.61631981e+00\n",
            " -7.97215314e-01 -2.54903163e+00 -2.06436079e+00 -8.09385896e-01\n",
            " -2.81195383e+00 -2.09220122e+00 -2.02916027e+00 -1.61230793e+00\n",
            " -2.29100542e-02 -2.38479468e+00 -9.43343772e-01 -5.71576031e+00\n",
            " -3.40732984e+00 -1.77198125e+00 -5.81191244e-01 -4.55602245e-01\n",
            " -8.32197403e-01 -1.29469609e+00 -7.02139962e-01 -1.44692206e+00\n",
            " -3.61534552e-01 -7.60748666e+00 -2.28409141e-01 -5.37485287e+00\n",
            " -4.89702628e+00 -1.49039934e+00 -2.58131590e+00 -1.14557333e+00\n",
            " -1.98869146e+00 -8.32776915e-01 -7.16664117e-01 -1.72658926e+00\n",
            " -1.37882702e+00 -1.73279459e+00 -6.75595858e-01 -9.14436485e-01\n",
            " -1.75255048e-01 -1.07384702e-01 -5.84604470e-01 -1.54295333e-01\n",
            " -2.19126913e-01 -3.35252775e+00 -7.92988999e-02 -2.15141011e+00\n",
            " -6.36441326e-01 -4.10436386e+00 -1.32714679e+00 -7.29346431e-01\n",
            " -1.45812470e+00 -9.62397787e-01 -1.66160758e+00 -2.43279882e-01\n",
            " -1.16119645e+01 -1.10870490e+00 -8.56129043e-01 -2.47719647e+00\n",
            " -9.04797125e-01 -3.58281072e+00 -1.21126452e+00 -2.54277965e+00\n",
            " -2.27352696e-01 -3.74315382e+00 -2.66147703e+00 -4.75795671e-01\n",
            " -3.13976761e-01 -7.60449726e-01 -7.46529373e+00 -5.93665154e-01\n",
            " -1.21807980e+00 -6.09601179e-02 -1.01243097e+00 -1.69408919e+00\n",
            " -6.12052506e+00 -1.45438457e+00 -3.41970277e+00 -1.58428993e+00\n",
            " -8.32801027e-02 -7.56697043e-01 -1.71391981e+00 -6.01536543e+00\n",
            " -3.91984071e+00 -5.18462950e-01 -4.97204354e-01 -4.49221672e-01\n",
            " -5.11492620e+00 -3.83010840e+00 -2.98227386e+00 -9.97580396e-01\n",
            " -1.40389439e+00 -1.24848047e+00 -5.84446356e-01 -1.40650835e+00\n",
            " -6.19424871e-02 -2.82690249e-01 -4.35348429e+00 -2.78607221e+00\n",
            " -1.09936996e+00 -1.45609997e+00 -9.24067383e-01 -2.70015529e+00\n",
            " -3.06668764e+00 -2.88179839e+00 -2.56467408e+00 -4.57579771e-01\n",
            " -8.24888751e-01 -1.26917337e+00 -8.03323674e-01 -2.81250603e+00\n",
            " -7.99026285e-01 -2.97538574e-01 -1.01845531e+00 -7.81550754e+00\n",
            " -5.12060408e-01 -1.89431788e+00 -1.13469689e+00 -1.47345972e-01\n",
            " -1.33837936e+00 -2.42242677e+00 -1.43988591e+00 -4.11310796e+00\n",
            " -6.81988538e-01 -1.80394722e-01 -5.51549832e+00 -9.50261821e-01\n",
            " -1.71795754e+00 -3.14046446e+00 -7.84052621e-01 -2.51872114e+00\n",
            " -2.91020218e-01 -6.88628301e-01 -3.12630860e-01 -3.33445779e+00\n",
            " -5.03727192e-01 -2.52747078e+00 -5.73990560e+00 -1.50058760e+00\n",
            " -1.55318451e+00 -1.23620398e+00 -7.88724379e-01 -1.29121095e+00\n",
            " -1.84666862e+00 -8.53619229e+00 -5.55366131e+00 -3.96322120e+00\n",
            " -4.39880353e+00 -1.26165668e+00 -2.14264217e+00 -4.50886117e+00\n",
            " -9.98290758e-01 -6.52787601e+00 -1.07497606e+00 -1.83800213e+00\n",
            " -2.47440236e+00 -6.01528638e+00 -5.61058825e-01 -2.74187361e+00\n",
            " -1.47133952e+00 -6.25472352e-01 -2.99764402e+00 -1.60691666e+00\n",
            " -2.16335590e+00 -7.79875769e-01 -1.31275876e+00 -1.92129131e+00\n",
            " -1.03808799e+00 -4.42222585e-01 -6.52150573e+00 -1.43269872e+00\n",
            " -2.64791931e+00 -1.05881845e+00 -8.77418537e-01 -1.04567596e+00\n",
            " -1.05254410e+00 -1.57131508e+00 -1.56820116e+00 -1.37494191e+00\n",
            " -2.89556310e-01 -1.37065756e+00 -3.70501045e-01 -2.69660555e-01\n",
            " -5.39557758e+00 -1.85748595e+00 -2.15462191e+00 -1.02763910e+00\n",
            " -4.79337163e+00 -2.03183814e+00 -2.93214641e+00 -9.19512527e-01\n",
            " -6.43834578e+00 -3.43472888e+00 -3.84759145e+00 -3.77953549e-01\n",
            " -6.32062158e-01 -6.72698967e-01 -6.31914065e-01 -3.86768083e+00\n",
            " -6.48083711e-02 -1.58302853e-01 -6.40176026e-01 -4.45969564e-01\n",
            " -5.27565536e-01 -3.19841276e+00 -1.65622363e+00 -1.15747518e-02\n",
            " -1.12186299e+00 -1.04810857e+00 -2.41953115e-01 -2.25489896e+00\n",
            " -2.42197596e+00 -2.55232169e+00 -2.60737226e+00 -1.05656655e-04\n",
            " -6.15478741e+00 -3.36626328e+00 -4.68643289e+00 -3.15338857e-02\n",
            " -5.43192673e+00 -3.31923764e+00 -3.63070084e+00 -1.95859462e-01\n",
            " -2.68476954e+00 -6.43359046e+00 -2.26981000e+00 -1.69055303e+00\n",
            " -5.82387364e+00 -1.17015432e+00 -1.82905241e+00 -1.29381880e+00\n",
            " -5.40154017e+00 -1.58269814e-01 -1.39077819e+00 -2.32280031e+00\n",
            " -3.13953593e+00 -1.74942755e+00 -4.79198454e+00 -5.69432962e+00\n",
            " -1.32961822e-01 -1.02956870e+00 -4.74771302e-02 -7.99214570e-01\n",
            " -1.53948728e+00 -4.83363482e+00 -3.74881733e+00 -2.72784623e-01\n",
            " -1.95292637e-01 -1.77962547e+00 -1.51907819e+00 -6.19521761e-01\n",
            " -4.59426168e+00 -5.24465557e+00 -1.03037504e+00 -4.42005844e+00\n",
            " -9.68850710e-01 -2.66981006e+00 -1.29230666e+00 -2.61546187e-01\n",
            " -5.26035141e+00 -1.21062646e+00 -2.65218325e+00 -9.15118966e-01\n",
            " -3.81227964e-02 -2.11899954e-01 -1.37122916e+00 -2.34213602e+00\n",
            " -8.15140625e-01 -2.37809258e+00 -2.39887016e+00 -2.43435864e+00\n",
            " -1.35660326e+00 -4.92753102e+00 -1.34354068e+00 -1.19663857e+00\n",
            " -4.44739749e-01 -7.35342038e-01 -8.65134382e-02 -2.00770612e+00\n",
            " -5.71463269e-01 -7.25257421e-01 -2.94644731e+00 -7.92677312e-01\n",
            " -5.54660719e-01 -3.70389960e-01 -2.98205150e+00 -2.77848980e-01\n",
            " -1.20937083e+00 -1.41420873e+00 -2.32559718e+00 -2.00633232e+00\n",
            " -3.32906287e+00 -9.15673875e-02 -7.03206297e-01 -6.57380721e-01\n",
            " -3.15687762e-01 -6.82667179e-01 -7.41447230e-01 -1.47580573e+00\n",
            " -2.17952996e+00 -9.59624800e-01 -2.54215086e+00 -8.19444329e-01\n",
            " -6.85779869e-01 -1.55822972e+00 -4.80042407e-02 -1.66304844e-01\n",
            " -1.08246500e+00 -5.72634761e+00 -2.55675904e+00 -1.84508162e-01\n",
            " -3.74573966e+00 -2.63578241e+00 -1.88807696e+00 -3.43285463e+00\n",
            " -1.03539787e+00 -5.00775275e-01 -1.43497561e+00 -1.59187425e+00\n",
            " -1.54579414e+00 -1.66515780e+00 -5.94032081e+00 -4.65059461e+00]\n"
          ]
        }
      ]
    },
    {
      "cell_type": "code",
      "source": [
        "#9\n",
        "x = [1, 2, 3]\n",
        "y = [4, 5, 6]\n",
        "cov_matrix = np.cov(x, y)"
      ],
      "metadata": {
        "id": "Po0_xVCnf3Z0"
      },
      "execution_count": 14,
      "outputs": []
    },
    {
      "cell_type": "code",
      "source": [
        "cov_matrix"
      ],
      "metadata": {
        "colab": {
          "base_uri": "https://localhost:8080/"
        },
        "id": "fEmpq2FLoo4m",
        "outputId": "f4926e22-49aa-42b4-c8f6-e0d6fd53a8bb"
      },
      "execution_count": 16,
      "outputs": [
        {
          "output_type": "execute_result",
          "data": {
            "text/plain": [
              "array([[1., 1.],\n",
              "       [1., 1.]])"
            ]
          },
          "metadata": {},
          "execution_count": 16
        }
      ]
    },
    {
      "cell_type": "code",
      "source": [
        "#10\n",
        "correlation = np.corrcoef(x, y)[0, 1]\n",
        "correlation"
      ],
      "metadata": {
        "colab": {
          "base_uri": "https://localhost:8080/"
        },
        "id": "7KRX-ibXorNb",
        "outputId": "e63000ce-1a5d-46d8-a115-7491d5d94c09"
      },
      "execution_count": 17,
      "outputs": [
        {
          "output_type": "execute_result",
          "data": {
            "text/plain": [
              "np.float64(1.0)"
            ]
          },
          "metadata": {},
          "execution_count": 17
        }
      ]
    },
    {
      "cell_type": "code",
      "source": [
        "#11\n",
        "plt.scatter(x, y)\n",
        "plt.xlabel('X')\n",
        "plt.ylabel('Y')\n",
        "plt.title('Scatter Plot')\n",
        "plt.show()"
      ],
      "metadata": {
        "colab": {
          "base_uri": "https://localhost:8080/",
          "height": 472
        },
        "id": "1JtQpg4YpD2u",
        "outputId": "63609f4c-cbb8-40d6-f42e-2e36bd89f696"
      },
      "execution_count": 19,
      "outputs": [
        {
          "output_type": "display_data",
          "data": {
            "text/plain": [
              "<Figure size 640x480 with 1 Axes>"
            ],
            "image/png": "[encoded data removed]"
          },
          "metadata": {}
        }
      ]
    },
    {
      "cell_type": "code",
      "source": [
        "#12\n",
        "population = np.arange(100)\n",
        "k = 10\n",
        "systematic_sample = population[::k]\n",
        "systematic_sample"
      ],
      "metadata": {
        "colab": {
          "base_uri": "https://localhost:8080/"
        },
        "id": "wG16hPrnpIVP",
        "outputId": "8b6997ef-9d92-4621-d763-e39e29b1211e"
      },
      "execution_count": 21,
      "outputs": [
        {
          "output_type": "execute_result",
          "data": {
            "text/plain": [
              "array([ 0, 10, 20, 30, 40, 50, 60, 70, 80, 90])"
            ]
          },
          "metadata": {},
          "execution_count": 21
        }
      ]
    },
    {
      "cell_type": "code",
      "source": [
        "#13\n",
        "classes = [10, 20, 30, 40]\n",
        "frequencies = [5, 10, 15, 10]\n",
        "mean = np.average(classes, weights=frequencies)\n",
        "mean"
      ],
      "metadata": {
        "colab": {
          "base_uri": "https://localhost:8080/"
        },
        "id": "I5-uWKubpVSn",
        "outputId": "8965d479-1162-4355-d10b-7b737333cd5b"
      },
      "execution_count": 23,
      "outputs": [
        {
          "output_type": "execute_result",
          "data": {
            "text/plain": [
              "np.float64(27.5)"
            ]
          },
          "metadata": {},
          "execution_count": 23
        }
      ]
    },
    {
      "cell_type": "code",
      "source": [
        "#14\n",
        "sim_data = np.random.normal(50, 10, 1000)\n",
        "mean = np.mean(sim_data)\n",
        "median = np.median(sim_data)\n",
        "std = np.std(sim_data)"
      ],
      "metadata": {
        "id": "I9PHkQoapzKj"
      },
      "execution_count": 24,
      "outputs": []
    },
    {
      "cell_type": "code",
      "source": [
        "mean"
      ],
      "metadata": {
        "colab": {
          "base_uri": "https://localhost:8080/"
        },
        "id": "I4ljw17zp5F6",
        "outputId": "99f80e94-3135-4851-f253-8bc8e94f49bf"
      },
      "execution_count": 25,
      "outputs": [
        {
          "output_type": "execute_result",
          "data": {
            "text/plain": [
              "np.float64(50.133783381576386)"
            ]
          },
          "metadata": {},
          "execution_count": 25
        }
      ]
    },
    {
      "cell_type": "code",
      "source": [
        "median"
      ],
      "metadata": {
        "colab": {
          "base_uri": "https://localhost:8080/"
        },
        "id": "p5HOQqZlp6-8",
        "outputId": "96f20264-b434-4c67-9ec2-8eb0bf8f5969"
      },
      "execution_count": 26,
      "outputs": [
        {
          "output_type": "execute_result",
          "data": {
            "text/plain": [
              "np.float64(49.85277565398594)"
            ]
          },
          "metadata": {},
          "execution_count": 26
        }
      ]
    },
    {
      "cell_type": "code",
      "source": [
        "std"
      ],
      "metadata": {
        "colab": {
          "base_uri": "https://localhost:8080/"
        },
        "id": "NBsMtW7sp8Kz",
        "outputId": "91e3cc8b-aa23-480a-d382-62b50ad259e1"
      },
      "execution_count": 28,
      "outputs": [
        {
          "output_type": "execute_result",
          "data": {
            "text/plain": [
              "np.float64(10.487054729132984)"
            ]
          },
          "metadata": {},
          "execution_count": 28
        }
      ]
    },
    {
      "cell_type": "code",
      "source": [
        "#15\n",
        "df = pd.DataFrame(sim_data, columns=['Value'])\n",
        "df.describe()"
      ],
      "metadata": {
        "colab": {
          "base_uri": "https://localhost:8080/",
          "height": 300
        },
        "id": "jwxyKc4vp9An",
        "outputId": "d5cb2177-df02-48c3-affc-0ec52227d2e3"
      },
      "execution_count": 29,
      "outputs": [
        {
          "output_type": "execute_result",
          "data": {
            "text/plain": [
              "             Value\n",
              "count  1000.000000\n",
              "mean     50.133783\n",
              "std      10.492302\n",
              "min      11.633445\n",
              "25%      43.178056\n",
              "50%      49.852776\n",
              "75%      57.458762\n",
              "max      83.773829"
            ],
            "text/html": [
              "\n",
              "  <div id=\"df-ec04d3ba-8b52-4aa6-bac3-263990f45d51\" class=\"colab-df-container\">\n",
              "    <div>\n",
              "<style scoped>\n",
              "    .dataframe tbody tr th:only-of-type {\n",
              "        vertical-align: middle;\n",
              "    }\n",
              "\n",
              "    .dataframe tbody tr th {\n",
              "        vertical-align: top;\n",
              "    }\n",
              "\n",
              "    .dataframe thead th {\n",
              "        text-align: right;\n",
              "    }\n",
              "</style>\n",
              "<table border=\"1\" class=\"dataframe\">\n",
              "  <thead>\n",
              "    <tr style=\"text-align: right;\">\n",
              "      <th></th>\n",
              "      <th>Value</th>\n",
              "    </tr>\n",
              "  </thead>\n",
              "  <tbody>\n",
              "    <tr>\n",
              "      <th>count</th>\n",
              "      <td>1000.000000</td>\n",
              "    </tr>\n",
              "    <tr>\n",
              "      <th>mean</th>\n",
              "      <td>50.133783</td>\n",
              "    </tr>\n",
              "    <tr>\n",
              "      <th>std</th>\n",
              "      <td>10.492302</td>\n",
              "    </tr>\n",
              "    <tr>\n",
              "      <th>min</th>\n",
              "      <td>11.633445</td>\n",
              "    </tr>\n",
              "    <tr>\n",
              "      <th>25%</th>\n",
              "      <td>43.178056</td>\n",
              "    </tr>\n",
              "    <tr>\n",
              "      <th>50%</th>\n",
              "      <td>49.852776</td>\n",
              "    </tr>\n",
              "    <tr>\n",
              "      <th>75%</th>\n",
              "      <td>57.458762</td>\n",
              "    </tr>\n",
              "    <tr>\n",
              "      <th>max</th>\n",
              "      <td>83.773829</td>\n",
              "    </tr>\n",
              "  </tbody>\n",
              "</table>\n",
              "</div>\n",
              "    <div class=\"colab-df-buttons\">\n",
              "\n",
              "  <div class=\"colab-df-container\">\n",
              "    <button class=\"colab-df-convert\" onclick=\"convertToInteractive('df-ec04d3ba-8b52-4aa6-bac3-263990f45d51')\"\n",
              "            title=\"Convert this dataframe to an interactive table.\"\n",
              "            style=\"display:none;\">\n",
              "\n",
              "  <svg xmlns=\"http://www.w3.org/2000/svg\" height=\"24px\" viewBox=\"0 -960 960 960\">\n",
              "    <path d=\"M120-120v-720h720v720H120Zm60-500h600v-160H180v160Zm220 220h160v-160H400v160Zm0 220h160v-160H400v160ZM180-400h160v-160H180v160Zm440 0h160v-160H620v160ZM180-180h160v-160H180v160Zm440 0h160v-160H620v160Z\"/>\n",
              "  </svg>\n",
              "    </button>\n",
              "\n",
              "  <style>\n",
              "    .colab-df-container {\n",
              "      display:flex;\n",
              "      gap: 12px;\n",
              "    }\n",
              "\n",
              "    .colab-df-convert {\n",
              "      background-color: #E8F0FE;\n",
              "      border: none;\n",
              "      border-radius: 50%;\n",
              "      cursor: pointer;\n",
              "      display: none;\n",
              "      fill: #1967D2;\n",
              "      height: 32px;\n",
              "      padding: 0 0 0 0;\n",
              "      width: 32px;\n",
              "    }\n",
              "\n",
              "    .colab-df-convert:hover {\n",
              "      background-color: #E2EBFA;\n",
              "      box-shadow: 0px 1px 2px rgba(60, 64, 67, 0.3), 0px 1px 3px 1px rgba(60, 64, 67, 0.15);\n",
              "      fill: #174EA6;\n",
              "    }\n",
              "\n",
              "    .colab-df-buttons div {\n",
              "      margin-bottom: 4px;\n",
              "    }\n",
              "\n",
              "    [theme=dark] .colab-df-convert {\n",
              "      background-color: #3B4455;\n",
              "      fill: #D2E3FC;\n",
              "    }\n",
              "\n",
              "    [theme=dark] .colab-df-convert:hover {\n",
              "      background-color: #434B5C;\n",
              "      box-shadow: 0px 1px 3px 1px rgba(0, 0, 0, 0.15);\n",
              "      filter: drop-shadow(0px 1px 2px rgba(0, 0, 0, 0.3));\n",
              "      fill: #FFFFFF;\n",
              "    }\n",
              "  </style>\n",
              "\n",
              "    <script>\n",
              "      const buttonEl =\n",
              "        document.querySelector('#df-ec04d3ba-8b52-4aa6-bac3-263990f45d51 button.colab-df-convert');\n",
              "      buttonEl.style.display =\n",
              "        google.colab.kernel.accessAllowed ? 'block' : 'none';\n",
              "\n",
              "      async function convertToInteractive(key) {\n",
              "        const element = document.querySelector('#df-ec04d3ba-8b52-4aa6-bac3-263990f45d51');\n",
              "        const dataTable =\n",
              "          await google.colab.kernel.invokeFunction('convertToInteractive',\n",
              "                                                    [key], {});\n",
              "        if (!dataTable) return;\n",
              "\n",
              "        const docLinkHtml = 'Like what you see? Visit the ' +\n",
              "          '<a target=\"_blank\" href=https://colab.research.google.com/notebooks/data_table.ipynb>data table notebook</a>'\n",
              "          + ' to learn more about interactive tables.';\n",
              "        element.innerHTML = '';\n",
              "        dataTable['output_type'] = 'display_data';\n",
              "        await google.colab.output.renderOutput(dataTable, element);\n",
              "        const docLink = document.createElement('div');\n",
              "        docLink.innerHTML = docLinkHtml;\n",
              "        element.appendChild(docLink);\n",
              "      }\n",
              "    </script>\n",
              "  </div>\n",
              "\n",
              "\n",
              "    <div id=\"df-d22ae460-fbef-4ed7-9637-b1c00d19c619\">\n",
              "      <button class=\"colab-df-quickchart\" onclick=\"quickchart('df-d22ae460-fbef-4ed7-9637-b1c00d19c619')\"\n",
              "                title=\"Suggest charts\"\n",
              "                style=\"display:none;\">\n",
              "\n",
              "<svg xmlns=\"http://www.w3.org/2000/svg\" height=\"24px\"viewBox=\"0 0 24 24\"\n",
              "     width=\"24px\">\n",
              "    <g>\n",
              "        <path d=\"M19 3H5c-1.1 0-2 .9-2 2v14c0 1.1.9 2 2 2h14c1.1 0 2-.9 2-2V5c0-1.1-.9-2-2-2zM9 17H7v-7h2v7zm4 0h-2V7h2v10zm4 0h-2v-4h2v4z\"/>\n",
              "    </g>\n",
              "</svg>\n",
              "      </button>\n",
              "\n",
              "<style>\n",
              "  .colab-df-quickchart {\n",
              "      --bg-color: #E8F0FE;\n",
              "      --fill-color: #1967D2;\n",
              "      --hover-bg-color: #E2EBFA;\n",
              "      --hover-fill-color: #174EA6;\n",
              "      --disabled-fill-color: #AAA;\n",
              "      --disabled-bg-color: #DDD;\n",
              "  }\n",
              "\n",
              "  [theme=dark] .colab-df-quickchart {\n",
              "      --bg-color: #3B4455;\n",
              "      --fill-color: #D2E3FC;\n",
              "      --hover-bg-color: #434B5C;\n",
              "      --hover-fill-color: #FFFFFF;\n",
              "      --disabled-bg-color: #3B4455;\n",
              "      --disabled-fill-color: #666;\n",
              "  }\n",
              "\n",
              "  .colab-df-quickchart {\n",
              "    background-color: var(--bg-color);\n",
              "    border: none;\n",
              "    border-radius: 50%;\n",
              "    cursor: pointer;\n",
              "    display: none;\n",
              "    fill: var(--fill-color);\n",
              "    height: 32px;\n",
              "    padding: 0;\n",
              "    width: 32px;\n",
              "  }\n",
              "\n",
              "  .colab-df-quickchart:hover {\n",
              "    background-color: var(--hover-bg-color);\n",
              "    box-shadow: 0 1px 2px rgba(60, 64, 67, 0.3), 0 1px 3px 1px rgba(60, 64, 67, 0.15);\n",
              "    fill: var(--button-hover-fill-color);\n",
              "  }\n",
              "\n",
              "  .colab-df-quickchart-complete:disabled,\n",
              "  .colab-df-quickchart-complete:disabled:hover {\n",
              "    background-color: var(--disabled-bg-color);\n",
              "    fill: var(--disabled-fill-color);\n",
              "    box-shadow: none;\n",
              "  }\n",
              "\n",
              "  .colab-df-spinner {\n",
              "    border: 2px solid var(--fill-color);\n",
              "    border-color: transparent;\n",
              "    border-bottom-color: var(--fill-color);\n",
              "    animation:\n",
              "      spin 1s steps(1) infinite;\n",
              "  }\n",
              "\n",
              "  @keyframes spin {\n",
              "    0% {\n",
              "      border-color: transparent;\n",
              "      border-bottom-color: var(--fill-color);\n",
              "      border-left-color: var(--fill-color);\n",
              "    }\n",
              "    20% {\n",
              "      border-color: transparent;\n",
              "      border-left-color: var(--fill-color);\n",
              "      border-top-color: var(--fill-color);\n",
              "    }\n",
              "    30% {\n",
              "      border-color: transparent;\n",
              "      border-left-color: var(--fill-color);\n",
              "      border-top-color: var(--fill-color);\n",
              "      border-right-color: var(--fill-color);\n",
              "    }\n",
              "    40% {\n",
              "      border-color: transparent;\n",
              "      border-right-color: var(--fill-color);\n",
              "      border-top-color: var(--fill-color);\n",
              "    }\n",
              "    60% {\n",
              "      border-color: transparent;\n",
              "      border-right-color: var(--fill-color);\n",
              "    }\n",
              "    80% {\n",
              "      border-color: transparent;\n",
              "      border-right-color: var(--fill-color);\n",
              "      border-bottom-color: var(--fill-color);\n",
              "    }\n",
              "    90% {\n",
              "      border-color: transparent;\n",
              "      border-bottom-color: var(--fill-color);\n",
              "    }\n",
              "  }\n",
              "</style>\n",
              "\n",
              "      <script>\n",
              "        async function quickchart(key) {\n",
              "          const quickchartButtonEl =\n",
              "            document.querySelector('#' + key + ' button');\n",
              "          quickchartButtonEl.disabled = true;  // To prevent multiple clicks.\n",
              "          quickchartButtonEl.classList.add('colab-df-spinner');\n",
              "          try {\n",
              "            const charts = await google.colab.kernel.invokeFunction(\n",
              "                'suggestCharts', [key], {});\n",
              "          } catch (error) {\n",
              "            console.error('Error during call to suggestCharts:', error);\n",
              "          }\n",
              "          quickchartButtonEl.classList.remove('colab-df-spinner');\n",
              "          quickchartButtonEl.classList.add('colab-df-quickchart-complete');\n",
              "        }\n",
              "        (() => {\n",
              "          let quickchartButtonEl =\n",
              "            document.querySelector('#df-d22ae460-fbef-4ed7-9637-b1c00d19c619 button');\n",
              "          quickchartButtonEl.style.display =\n",
              "            google.colab.kernel.accessAllowed ? 'block' : 'none';\n",
              "        })();\n",
              "      </script>\n",
              "    </div>\n",
              "\n",
              "    </div>\n",
              "  </div>\n"
            ],
            "application/vnd.google.colaboratory.intrinsic+json": {
              "type": "dataframe",
              "summary": "{\n  \"name\": \"df\",\n  \"rows\": 8,\n  \"fields\": [\n    {\n      \"column\": \"Value\",\n      \"properties\": {\n        \"dtype\": \"number\",\n        \"std\": 338.91692004749166,\n        \"min\": 10.49230219242315,\n        \"max\": 1000.0,\n        \"num_unique_values\": 8,\n        \"samples\": [\n          50.133783381576386,\n          49.85277565398594,\n          1000.0\n        ],\n        \"semantic_type\": \"\",\n        \"description\": \"\"\n      }\n    }\n  ]\n}"
            }
          },
          "metadata": {},
          "execution_count": 29
        }
      ]
    },
    {
      "cell_type": "code",
      "source": [
        "#16\n",
        "sns.boxplot(data=sim_data)\n",
        "plt.show()"
      ],
      "metadata": {
        "colab": {
          "base_uri": "https://localhost:8080/",
          "height": 411
        },
        "id": "TK67KjVHqUoU",
        "outputId": "2f4d84bb-0f66-4288-8f77-8763eb17cf2a"
      },
      "execution_count": 31,
      "outputs": [
        {
          "output_type": "display_data",
          "data": {
            "text/plain": [
              "<Figure size 640x480 with 1 Axes>"
            ],
            "image/png": "[encoded data removed]"
          },
          "metadata": {}
        }
      ]
    },
    {
      "cell_type": "code",
      "source": [
        "#17\n",
        "q1 = np.percentile(sim_data, 25)\n",
        "q3 = np.percentile(sim_data, 75)\n",
        "iqr = q3 - q1\n",
        "iqr"
      ],
      "metadata": {
        "colab": {
          "base_uri": "https://localhost:8080/"
        },
        "id": "sHV3V6plqZLG",
        "outputId": "c92de237-f21a-44e4-d67d-3305050c1497"
      },
      "execution_count": 33,
      "outputs": [
        {
          "output_type": "execute_result",
          "data": {
            "text/plain": [
              "np.float64(14.280705219470214)"
            ]
          },
          "metadata": {},
          "execution_count": 33
        }
      ]
    },
    {
      "cell_type": "code",
      "source": [
        "#18\n",
        "z_scores = stats.zscore(sim_data)\n",
        "z_scores"
      ],
      "metadata": {
        "colab": {
          "base_uri": "https://localhost:8080/"
        },
        "id": "FGD3xanbqi1I",
        "outputId": "52791bec-3aa2-4a5f-8226-4c4c241ad022"
      },
      "execution_count": 34,
      "outputs": [
        {
          "output_type": "execute_result",
          "data": {
            "text/plain": [
              "array([ 2.17814953e-01,  2.74651691e-01, -4.76381399e-02, -1.66985202e+00,\n",
              "        4.45207394e-03,  1.14168968e+00, -5.84547663e-01,  3.80063489e-01,\n",
              "        7.99283240e-01, -8.80188767e-01, -4.43099816e-01, -9.83393198e-01,\n",
              "       -7.96738423e-01, -1.24056149e+00, -8.71385554e-01,  1.34077430e+00,\n",
              "       -8.85716144e-01,  1.07829018e-01, -4.92270809e-01,  1.11135836e+00,\n",
              "        1.23751043e+00,  8.11182611e-01,  2.79159614e-01, -2.33085343e-01,\n",
              "       -1.14927696e+00,  1.84050774e+00, -7.37148204e-01,  6.20067336e-01,\n",
              "        9.97598717e-01, -5.42248372e-01,  9.77046669e-01,  7.15963523e-01,\n",
              "        1.63495428e+00, -4.60305412e-01, -1.23890109e+00, -4.94770083e-01,\n",
              "        1.86396667e-01,  4.27521264e-02, -3.87922296e-01, -1.83328479e+00,\n",
              "        4.35875153e-01,  1.86798505e+00,  4.29932819e-01,  5.68088178e-01,\n",
              "        5.33101984e-01,  3.65849461e-01,  8.75639207e-01,  3.64254171e-01,\n",
              "       -3.10912374e-01, -7.71777462e-01, -2.50167469e-01,  2.86783245e-01,\n",
              "       -3.14159988e-01,  2.86982716e-01,  4.05997496e-01,  7.81726723e-01,\n",
              "        1.21046058e+00,  6.16274845e-02, -1.25979595e+00, -3.41833283e-01,\n",
              "        2.92591486e-02, -1.76326637e+00,  1.31141318e+00,  1.23008392e-01,\n",
              "        3.50884501e-01,  1.28934974e+00, -6.13633842e-01,  5.34624456e-01,\n",
              "       -1.17518659e-01, -1.88294245e-01, -7.49086132e-01,  1.57548990e+00,\n",
              "       -3.70817535e-01,  6.54221730e-01, -1.80068263e+00,  1.11242882e+00,\n",
              "        9.90585865e-01,  8.01519343e-02, -2.29159483e-01,  3.68665633e-01,\n",
              "        2.16973438e+00, -1.69410295e+00,  7.32950356e-01, -8.82035676e-01,\n",
              "       -3.17503201e-02, -2.49124720e-01, -4.21182694e-01, -2.27360950e-02,\n",
              "       -1.09425336e+00,  9.68624770e-01, -1.72357435e+00,  5.01938998e-01,\n",
              "       -3.24127412e-01, -1.12930013e+00,  1.80226992e-01, -1.49739795e+00,\n",
              "        2.51123735e-02, -1.36955063e+00,  4.27092027e-01, -8.94184016e-01,\n",
              "       -4.42805313e-01,  2.67540370e-01, -7.49419613e-01, -6.80289554e-02,\n",
              "       -1.45628003e+00,  5.88818578e-01,  1.67018816e+00,  2.64977213e+00,\n",
              "        7.41769835e-02,  7.38840239e-01, -1.71068432e+00,  1.42018520e+00,\n",
              "        7.27420793e-01, -4.74214921e-01,  1.16696489e+00, -2.55414339e-01,\n",
              "       -4.49509928e-01,  4.40501742e-01, -1.02672568e+00,  9.61420010e-01,\n",
              "       -1.01970303e+00, -1.01404365e+00, -8.80197682e-01,  7.11469253e-01,\n",
              "       -6.00887204e-01, -1.29814725e+00, -5.90307149e-01, -4.33112156e-02,\n",
              "       -1.13888108e+00, -1.11095010e+00,  2.00048350e+00, -8.33354802e-01,\n",
              "       -3.20796177e-01, -3.62938259e-01, -4.14544557e-01,  5.79732268e-01,\n",
              "        8.91350943e-01, -3.04501862e-01, -1.19180900e+00,  1.20249386e+00,\n",
              "       -1.03670127e-01,  1.63720274e+00, -2.15405020e+00,  1.73571024e-01,\n",
              "        1.81674268e+00, -3.49614342e-01, -2.27777739e-01,  2.69030114e-01,\n",
              "       -5.45600430e-01, -3.10335245e-01, -3.34882807e-01, -6.11038170e-01,\n",
              "        1.15902724e+00,  4.26906987e-01,  2.26231197e-01,  7.58261198e-01,\n",
              "       -2.64835245e-01, -7.51004144e-01, -5.87393371e-01, -1.10567718e-02,\n",
              "       -1.02277529e+00, -4.89784184e-01, -5.04903420e-01,  2.01312756e+00,\n",
              "       -2.65774648e+00, -1.84034569e-01,  1.63278966e+00,  1.03428588e-01,\n",
              "        7.05669184e-01,  8.24330369e-02, -6.49097136e-01, -2.15055068e+00,\n",
              "        1.83156619e-01, -7.52341781e-01, -7.75922092e-01, -4.88569582e-01,\n",
              "        1.65106707e+00,  2.28039165e+00,  1.94363055e-01, -4.55938845e-01,\n",
              "       -1.13530899e+00,  4.34022550e-01,  1.68734436e+00, -2.48610055e-01,\n",
              "       -2.28126432e+00,  6.26173268e-01,  9.26877373e-01, -1.52495054e+00,\n",
              "        1.55530652e-01,  4.17512533e-01, -8.24689509e-02, -7.66801812e-01,\n",
              "        9.55996618e-01, -3.97402412e-01, -1.42896603e+00, -1.96704688e+00,\n",
              "        1.18953435e+00,  5.75266988e-01,  7.11307521e-02, -4.32583778e-01,\n",
              "       -5.17186919e-01, -1.03853276e+00, -4.24174369e-01, -2.03438011e+00,\n",
              "       -7.14635339e-01, -3.09253516e-01,  5.68798127e-01, -5.08291440e-02,\n",
              "        7.45247160e-01,  1.27371965e+00,  9.96268049e-01,  4.35900757e-01,\n",
              "       -1.44526658e-03, -9.47993857e-01,  6.92821514e-01,  1.58897716e+00,\n",
              "        3.13460461e-01,  1.81545807e+00, -1.46747594e+00, -1.11331709e+00,\n",
              "        8.02726019e-01,  2.39258666e-01,  1.24000863e+00, -2.75100871e-02,\n",
              "       -8.40420674e-01, -2.16430243e-01, -1.47425788e+00, -1.08893206e+00,\n",
              "        9.14523367e-01,  8.19495176e-01,  3.33388121e-01, -1.65390179e+00,\n",
              "       -3.54515089e-01, -1.18086370e+00,  1.10913402e+00, -5.69369081e-01,\n",
              "       -1.04807887e+00,  1.56553269e-02, -6.23180494e-01,  1.40207676e+00,\n",
              "       -7.13440766e-01, -1.34700031e+00, -2.06568184e+00, -4.21136742e-02,\n",
              "       -5.48589158e-01, -1.37529839e+00,  1.12123771e+00,  6.23498996e-01,\n",
              "       -3.96643463e-02,  1.28820526e+00,  6.19008589e-01, -7.97396658e-01,\n",
              "       -1.00371222e+00,  7.67234678e-01,  3.65201316e-01,  1.49107098e-01,\n",
              "       -8.19940549e-01,  5.66955398e-01, -7.33167931e-01, -1.10007047e-01,\n",
              "        1.36698610e+00, -6.42899834e-01, -1.51269125e+00, -1.01642030e+00,\n",
              "        9.35363182e-01,  2.30143549e-01, -1.35648874e-01, -4.98206748e-01,\n",
              "        4.50061129e-01, -8.22426517e-01,  2.78712411e-01, -7.10049605e-01,\n",
              "       -8.68726012e-01, -6.20637338e-01, -3.70729242e-01, -5.93190135e-02,\n",
              "        2.11763419e-01, -3.52982198e+00, -7.82897503e-01, -3.86141129e-01,\n",
              "        1.42240480e+00, -1.04260059e+00,  1.42478783e-01,  1.41283898e+00,\n",
              "       -1.26474678e+00,  3.62920665e-01, -7.77768585e-01, -4.93953826e-01,\n",
              "       -7.78568619e-01, -7.10624351e-01,  2.58274023e+00,  7.92479448e-01,\n",
              "        1.03781238e+00,  4.56386622e-01, -1.54441373e+00,  3.63857768e-01,\n",
              "        1.01034209e+00, -8.26521683e-01,  9.07736589e-01,  6.58867422e-01,\n",
              "        1.75326796e+00, -4.11136741e-01, -1.05939117e+00, -3.57589864e-01,\n",
              "        1.35614116e+00, -1.75624545e+00, -1.98507027e+00,  7.24864538e-02,\n",
              "       -4.34790933e-01, -5.38801897e-03,  8.88651254e-01, -5.39663136e-01,\n",
              "       -1.79877403e+00,  1.93677183e+00, -9.63670594e-01, -1.02260881e+00,\n",
              "        1.03970247e+00, -3.79389132e-01, -7.32028126e-02,  4.47610695e-01,\n",
              "        1.02050079e+00, -3.30730639e-01,  1.43660323e+00, -2.04936299e+00,\n",
              "        7.11743114e-01, -8.13294026e-01,  1.29578134e+00,  1.22690445e-01,\n",
              "       -6.54410307e-01,  6.19299481e-01,  8.38948620e-01,  5.99325360e-01,\n",
              "       -9.94630623e-01, -4.74294713e-01, -1.66406829e-02, -5.21004154e-02,\n",
              "        7.02167726e-01, -1.93407932e+00,  3.06042759e-01, -2.89270630e-01,\n",
              "       -8.12314779e-01, -7.20760152e-01, -2.17330803e-01, -3.44659538e+00,\n",
              "       -6.81476284e-01, -8.47895988e-01,  4.95281931e-01, -7.80872268e-01,\n",
              "       -2.17880181e-01,  1.45789102e+00,  9.35413428e-01,  8.47609824e-01,\n",
              "       -4.89413646e-01,  5.05054999e-01, -2.35791788e-01, -1.99742973e-01,\n",
              "        3.77901151e-01, -5.82024164e-01,  1.41090593e+00, -1.65450150e-01,\n",
              "        5.76884782e-01,  1.37524041e+00,  9.70983239e-01, -1.35624108e+00,\n",
              "        4.11476404e-01,  7.98452071e-01,  8.37684847e-01, -1.07434661e+00,\n",
              "       -6.39277273e-01,  9.35610544e-01, -7.39138613e-01, -2.98534148e-01,\n",
              "        1.48992974e+00, -5.83362919e-02, -7.05777261e-01, -8.49614804e-01,\n",
              "        3.04509702e-01, -1.28398905e+00, -2.48605837e-01,  3.04997166e-01,\n",
              "        1.22605585e+00,  6.23787860e-01, -6.93658491e-01,  1.11093249e+00,\n",
              "       -2.98361536e-01, -1.19106975e+00, -1.76808172e-01,  1.35861870e+00,\n",
              "        1.44808734e-01, -8.16696251e-04,  1.54841693e+00, -1.37763483e+00,\n",
              "       -1.23864849e+00, -1.55355803e+00,  3.42584126e-01,  1.46003614e-01,\n",
              "        1.45832941e+00,  2.19410259e-01, -3.98143719e-01, -1.10454895e-02,\n",
              "        9.94836806e-02, -1.60687596e+00,  2.57169756e+00,  4.82969426e-01,\n",
              "        1.87497801e-01,  5.73836660e-01,  6.63706503e-01, -1.46782703e-01,\n",
              "       -6.14681139e-01,  5.58853142e-01,  3.55040106e-01, -7.85033032e-01,\n",
              "        1.34037374e+00,  2.66970761e-01,  6.83167050e-01,  1.31451831e+00,\n",
              "        8.11522704e-03,  2.89474668e-01,  7.59649798e-01, -7.03953055e-01,\n",
              "        3.87843162e-02,  1.06960678e-01, -9.24412921e-01,  2.19724080e+00,\n",
              "       -1.35469092e+00, -1.25057252e+00,  1.24043239e+00,  6.67382722e-01,\n",
              "       -9.91072501e-01,  5.66327432e-01,  1.38692144e+00, -4.16145399e-02,\n",
              "        2.46536766e+00, -1.65674748e+00,  6.48842915e-01,  1.09959376e+00,\n",
              "        8.37189837e-01, -2.07621749e-01, -2.89709387e-01,  4.10760546e-01,\n",
              "        7.65111053e-01,  5.61735505e-01,  9.78997039e-01, -9.84307150e-01,\n",
              "       -2.29949517e-01, -9.09115376e-01, -3.80937379e-01,  9.55313555e-01,\n",
              "        9.02117754e-02,  2.47303070e+00,  1.71666911e-01,  4.41625829e-02,\n",
              "        8.84944188e-02, -6.20943676e-01, -6.79074844e-02,  1.06265269e+00,\n",
              "        9.59204777e-02, -7.69365746e-01, -8.94877526e-01, -4.42049977e-01,\n",
              "        5.76759613e-02,  1.12539529e+00, -1.29098876e+00, -3.17729453e-01,\n",
              "        1.24850766e-01, -1.76129920e+00, -8.07640127e-01, -6.61069190e-01,\n",
              "       -7.71759787e-01,  1.70220535e-01, -1.65859674e-01, -5.42253717e-01,\n",
              "        3.95329575e-01,  1.63029223e+00,  1.55036683e+00, -1.84622867e+00,\n",
              "        5.37513973e-01, -1.82512281e-01,  1.35192395e-01, -3.92542408e-01,\n",
              "        9.93704090e-02,  1.31618516e-01, -5.64820258e-01, -8.67494172e-01,\n",
              "       -4.40613721e-01,  2.10622460e-01,  5.58419898e-01,  8.00959527e-01,\n",
              "       -4.83995149e-01,  2.57904851e-01,  9.05043674e-01,  1.09870367e+00,\n",
              "       -6.88574573e-02, -2.23427901e-01,  1.69490768e-01, -1.10906812e+00,\n",
              "       -1.97374625e-01,  6.97248254e-01,  5.99375904e-01, -2.70472454e-01,\n",
              "        1.94849620e-01, -7.99107757e-01,  6.58062562e-01, -8.69641445e-02,\n",
              "       -2.75892324e-01, -3.57681145e-01, -7.27298627e-02, -4.39833676e-01,\n",
              "        6.14819618e-01, -3.89682229e-01,  1.50622439e+00,  1.38440411e+00,\n",
              "       -8.62894160e-01,  5.37099622e-02, -6.33194902e-01, -3.24233934e-01,\n",
              "        1.89667088e+00, -3.06043750e-01,  3.30738904e-01,  5.03423477e-01,\n",
              "       -9.66913721e-01, -8.28138915e-01, -1.16276757e+00, -8.57580222e-01,\n",
              "       -2.73042195e+00,  5.06533127e-01,  1.94603304e+00,  1.28198435e-01,\n",
              "       -1.36324949e+00, -6.25680649e-01, -4.50322035e-01, -9.83081658e-01,\n",
              "        8.07475809e-01,  7.59871791e-01, -1.11454566e+00,  6.78648796e-01,\n",
              "        1.44314525e+00,  1.80143989e+00,  2.71938476e+00, -8.72858025e-01,\n",
              "        2.68029696e+00, -3.50512833e-01, -5.77706333e-01,  2.99125012e-01,\n",
              "       -5.67785415e-01,  3.67754162e-01, -1.27152529e+00, -2.40421116e-01,\n",
              "        1.21311839e+00, -6.71681720e-02,  1.22262591e-01,  4.40428966e-01,\n",
              "        1.10353509e+00, -1.59110741e+00,  5.44619751e-01, -2.68442842e-01,\n",
              "        1.46141659e-01,  9.97965452e-01, -1.15148154e+00, -9.78370769e-01,\n",
              "       -1.85829897e+00, -5.36411123e-01,  1.25588551e+00, -1.27743709e-01,\n",
              "       -1.29064191e+00, -4.75879163e-01, -1.43151731e+00, -1.08568561e+00,\n",
              "        3.58003826e-01, -1.13211163e+00,  1.04820276e+00, -8.05742233e-02,\n",
              "        6.88623905e-02, -2.78201376e-01,  7.24197136e-01,  7.34030259e-01,\n",
              "        3.06736278e-01,  5.25801364e-01, -2.14996502e-01,  5.04264240e-01,\n",
              "       -3.34942577e-01, -1.06290243e-02, -2.74645356e-01, -4.48740747e-01,\n",
              "       -6.69864089e-01,  4.33211972e-01,  1.23697988e+00,  1.10395498e+00,\n",
              "       -1.21096314e+00,  1.21657105e+00, -3.16139134e-01,  5.60075915e-01,\n",
              "       -8.76884591e-01,  1.22628878e-01,  2.86395802e-01, -1.42841166e+00,\n",
              "        5.67260154e-01,  1.27066818e+00, -1.79293699e-01,  1.28424026e+00,\n",
              "       -1.93640480e-01,  7.97369914e-01, -2.12828898e+00,  2.29368446e+00,\n",
              "        1.41324704e+00, -2.84163524e-01, -1.89325546e+00,  2.61894342e-01,\n",
              "       -1.38962170e+00,  4.11436014e-01,  3.79694196e-01, -9.10438185e-01,\n",
              "        1.05614847e+00,  7.55404053e-01,  9.17745758e-01, -4.31068074e-03,\n",
              "       -1.36253928e+00,  9.19699533e-01, -2.70571428e-01, -1.33799100e+00,\n",
              "        1.27648903e+00,  1.98914684e+00, -5.20894270e-02,  2.04608717e+00,\n",
              "        7.43167576e-02, -3.75543232e-01, -6.13934807e-01,  1.54829369e+00,\n",
              "       -7.56668331e-01,  6.88363883e-01, -5.45951354e-01, -4.51685543e-01,\n",
              "        9.69644368e-01, -3.75143636e-01, -3.98752298e-01,  1.06743637e+00,\n",
              "        1.51045169e+00,  6.01991199e-01, -6.37117028e-01, -4.99651095e-01,\n",
              "        6.34467229e-02,  2.93267969e-01, -9.54743037e-01,  6.76700580e-01,\n",
              "        6.87847955e-02, -1.64878195e+00, -8.98540958e-01, -4.93472214e-01,\n",
              "       -8.22309306e-02,  1.78877722e+00,  2.14352813e-01, -8.14480567e-01,\n",
              "        1.97626952e-01, -3.48492589e-01,  2.96918353e-01,  5.40847133e-01,\n",
              "        1.14031283e+00, -3.59155500e-02,  1.55008459e+00,  8.53093979e-01,\n",
              "       -6.87340632e-01,  2.09446540e+00,  2.99050766e-01, -8.09095465e-01,\n",
              "        1.56338911e+00,  1.96852148e+00, -4.42484597e-02, -4.93016020e-01,\n",
              "       -1.77126277e-01,  6.68780137e-01,  1.20575161e+00,  5.31234944e-01,\n",
              "        8.42418320e-02,  1.41568197e+00, -3.11064278e-01,  9.70282912e-01,\n",
              "       -2.87441178e-01,  3.98247774e-01, -1.21045333e-01, -6.60152184e-02,\n",
              "       -3.72616398e-01,  1.26963740e+00, -7.11643446e-01, -7.18610335e-01,\n",
              "        2.00973036e+00,  9.19675973e-01, -2.28709785e+00, -5.51763190e-01,\n",
              "       -1.74059135e+00, -9.19294365e-01, -3.00550830e+00, -1.43384315e-01,\n",
              "       -1.10166313e+00,  4.43660492e-02, -1.56240207e+00,  6.63041405e-02,\n",
              "       -4.08403148e-01,  1.41944012e+00,  1.33305161e+00,  7.36114462e-01,\n",
              "       -3.24201721e-01,  1.88041553e+00, -1.49366400e+00, -1.35112956e+00,\n",
              "       -9.26489282e-02,  2.13659586e+00, -2.05698598e-01, -1.87491709e-01,\n",
              "       -1.38770010e+00,  8.89240374e-01,  8.96150483e-01,  7.39670845e-01,\n",
              "       -6.12754513e-01, -6.86641889e-01, -1.24582223e+00,  6.72201733e-02,\n",
              "       -1.04298652e+00, -1.13549025e+00, -4.16770072e-01, -4.79195090e-01,\n",
              "       -5.25749966e-01,  4.32024310e-01,  6.26195492e-02, -2.87530080e-01,\n",
              "        1.61756179e-01, -9.58234133e-01,  8.76321218e-02,  1.30850995e-01,\n",
              "       -1.44599722e+00,  9.36693325e-01, -8.53253908e-01,  7.33585006e-02,\n",
              "        1.09757547e+00,  8.69928157e-01,  1.99818261e-02, -3.58420310e-01,\n",
              "        8.90749209e-01,  6.30602831e-01, -6.02403034e-01, -7.70733067e-01,\n",
              "       -1.98886491e+00,  1.34121073e-01, -9.16139809e-02,  1.07066575e+00,\n",
              "        3.29622343e-01,  1.25950602e+00, -6.77733248e-01,  1.07253373e+00,\n",
              "       -5.17108694e-01,  7.28724836e-01, -1.40376566e+00,  2.11457809e-01,\n",
              "       -1.90526924e+00, -2.67487709e-01,  4.07145444e-01, -5.09529990e-01,\n",
              "       -1.01440871e+00,  7.94064828e-01, -1.11414626e-01, -4.79590312e-01,\n",
              "        2.71931288e-02,  2.50145620e+00,  1.08717323e+00,  1.09582276e+00,\n",
              "        4.02561054e-01,  1.45996124e-01, -2.29755703e+00, -6.60203177e-01,\n",
              "       -4.71011894e-01, -1.80057266e+00, -1.11641844e+00, -1.90159665e+00,\n",
              "       -4.93009479e-02,  7.67982673e-01,  1.04261512e+00,  3.82763449e-01,\n",
              "       -9.31409919e-01, -1.85509044e+00, -1.68803070e+00, -1.22280368e+00,\n",
              "       -8.60335013e-01, -1.65086233e-01, -9.79819962e-01,  3.10475690e-01,\n",
              "       -2.34242928e-01, -2.70106955e-03,  1.07453641e+00, -1.13817473e+00,\n",
              "        3.86501502e-01, -2.60812662e-02, -3.30755039e-01,  8.31384984e-01,\n",
              "        8.25432725e-01, -9.15289525e-01, -1.86457425e-01,  2.55394247e-01,\n",
              "       -2.73084382e-01,  5.45093936e-01,  2.55375495e-01,  1.73469382e+00,\n",
              "       -1.47196474e+00, -1.29506645e-01, -8.79065547e-01,  5.63293634e-01,\n",
              "       -1.55482189e+00,  3.17471760e-01, -6.13543827e-01, -7.12821878e-01,\n",
              "       -1.39207488e+00, -4.56233229e-01,  1.02137561e+00, -3.67758371e-02,\n",
              "        5.85771788e-01,  1.57457315e+00,  2.38748870e-01, -5.45604009e-01,\n",
              "        4.32794420e-01, -5.31774172e-01, -4.93752569e-01, -1.46206078e+00,\n",
              "        8.70481919e-01, -3.80832297e-01,  1.60883977e-01, -1.00060531e+00,\n",
              "        4.02943727e-01, -7.39311080e-01, -1.47884286e-01,  8.24299782e-01,\n",
              "        7.41276740e-01, -3.37639228e-02, -1.69876998e+00,  2.84105720e+00,\n",
              "        1.65201830e+00,  6.76354329e-01, -7.30979421e-01, -1.21073555e-01,\n",
              "       -5.30939127e-01,  1.19240114e+00,  2.37554355e-01, -7.60501606e-01,\n",
              "       -4.61648623e-01,  1.05635932e+00,  1.51302682e+00,  1.44459361e+00,\n",
              "        7.09115902e-01, -2.53649107e-01, -3.10372383e+00,  2.70601893e-01,\n",
              "       -1.45008273e-02,  1.20723846e-01,  3.86371674e-02, -1.27742301e+00,\n",
              "        5.18763593e-01,  5.90097021e-01,  6.37891630e-01,  8.89857724e-01,\n",
              "        5.63240416e-01, -4.03743244e-01, -8.03039445e-02,  7.41357141e-02,\n",
              "        8.99405156e-02,  9.39100008e-01,  6.01017570e-01,  1.96810750e+00,\n",
              "        2.09123600e+00,  6.31933810e-02, -3.67122513e+00,  1.16663273e+00,\n",
              "       -5.28036414e-01, -7.77017267e-01, -3.92697114e-01, -4.38656417e-01,\n",
              "        5.71076901e-01, -1.49976724e+00, -1.04042471e+00,  3.14464094e-01,\n",
              "        5.81255374e-01,  5.98989252e-01, -7.63240622e-01, -9.45588645e-01,\n",
              "       -4.95861980e-01,  2.15975238e-01,  1.40372971e+00, -1.96510419e+00,\n",
              "       -2.23234360e-01, -1.28354129e+00, -1.58826387e+00,  9.09290866e-01,\n",
              "        5.06573342e-01,  4.15803282e-01,  8.65493244e-01, -4.70196111e-01,\n",
              "       -4.25301351e-01,  2.07146080e+00, -2.47876453e-01,  6.88233058e-01,\n",
              "       -6.67184198e-03, -1.77517608e+00, -1.96242643e+00, -5.64851213e-01,\n",
              "        9.94295291e-01,  7.38923691e-01,  8.58867289e-01, -9.53961377e-01,\n",
              "        1.52806884e+00, -9.32837354e-01,  1.90183103e-01, -2.26284964e-02,\n",
              "       -1.78555527e-01,  1.26366633e+00, -6.85119776e-01, -1.29968197e+00,\n",
              "        6.30982504e-03, -3.94014414e-01,  3.20776869e+00,  6.32331151e-01,\n",
              "       -4.03086400e-01, -1.01981913e+00, -1.80571838e+00, -9.90361403e-01,\n",
              "        9.68464800e-02,  1.34828162e+00,  1.05683706e+00,  2.05697881e-01,\n",
              "       -3.20915655e-01,  2.43570788e-01, -5.07307675e-01,  1.62580029e+00,\n",
              "       -1.93160544e-01, -9.50850348e-02, -2.12566905e+00, -1.99115185e-01,\n",
              "        7.84877948e-01, -1.03089089e+00, -7.28611314e-01,  7.43137802e-01,\n",
              "       -1.42083321e+00,  9.95916105e-01, -5.20186308e-01, -3.83278784e-01,\n",
              "       -1.08443865e+00,  3.47731495e-01,  2.33287011e+00,  7.32444829e-01,\n",
              "       -8.36901897e-01,  1.07012147e+00, -3.14728866e-01,  1.29789219e+00,\n",
              "        7.56454586e-01, -2.81920900e+00, -9.70203739e-01,  8.87767737e-01,\n",
              "        1.31856787e-01, -9.88966218e-01, -6.16920451e-01, -1.83046147e+00,\n",
              "       -9.70259318e-02,  2.09526072e+00,  7.54792526e-01,  2.07592953e+00,\n",
              "        8.28658545e-01,  9.67002682e-01,  1.86963871e+00,  3.46984860e-01,\n",
              "       -1.91288846e-01,  9.71940363e-01,  1.37356192e+00, -4.70430444e-01,\n",
              "       -7.00813946e-01,  1.19650081e-01,  7.80124210e-01,  7.48267965e-01,\n",
              "       -1.37078138e+00,  1.81006753e+00, -6.24144037e-01, -2.65511473e-01,\n",
              "       -8.73489003e-01,  2.56025220e+00,  2.18071077e-01, -8.24209887e-01,\n",
              "        8.11042980e-01,  7.20657478e-01, -1.91765340e-01,  7.88809056e-01,\n",
              "       -7.99719579e-01, -4.82782465e-01, -1.92961231e+00, -1.27521927e+00,\n",
              "        1.71092124e+00,  1.55243806e+00,  4.99761962e-02,  1.57294221e+00,\n",
              "       -1.65397082e-01, -2.44862497e-01,  4.11290981e-02, -1.31876811e-01,\n",
              "       -2.17958872e-01,  1.07753778e+00,  1.30405838e-01,  6.66634669e-01])"
            ]
          },
          "metadata": {},
          "execution_count": 34
        }
      ]
    },
    {
      "cell_type": "code",
      "source": [
        "#19\n",
        "data1 = np.random.normal(50, 5, 100)\n",
        "data2 = np.random.normal(50, 15, 100)\n",
        "np.std(data1), np.std(data2)"
      ],
      "metadata": {
        "colab": {
          "base_uri": "https://localhost:8080/"
        },
        "id": "pzJyaj7vqs-m",
        "outputId": "33c58292-4e5b-4b39-897f-6f3be3f5d92b"
      },
      "execution_count": 35,
      "outputs": [
        {
          "output_type": "execute_result",
          "data": {
            "text/plain": [
              "(np.float64(4.728581748604287), np.float64(15.07046981304296))"
            ]
          },
          "metadata": {},
          "execution_count": 35
        }
      ]
    },
    {
      "cell_type": "code",
      "source": [
        "#20\n",
        "df = pd.DataFrame({'A': x, 'B': y})\n",
        "sns.heatmap(df.cov(), annot=True)"
      ],
      "metadata": {
        "colab": {
          "base_uri": "https://localhost:8080/",
          "height": 452
        },
        "id": "rGkQeckI71hL",
        "outputId": "f4cb7976-180b-426b-93a1-2a76f554974c"
      },
      "execution_count": 36,
      "outputs": [
        {
          "output_type": "execute_result",
          "data": {
            "text/plain": [
              "<Axes: >"
            ]
          },
          "metadata": {},
          "execution_count": 36
        },
        {
          "output_type": "display_data",
          "data": {
            "text/plain": [
              "<Figure size 640x480 with 2 Axes>"
            ],
            "image/png": "[encoded data removed]"
          },
          "metadata": {}
        }
      ]
    },
    {
      "cell_type": "code",
      "source": [
        "#21\n",
        "sns.heatmap(df.corr(), annot=True)"
      ],
      "metadata": {
        "colab": {
          "base_uri": "https://localhost:8080/",
          "height": 452
        },
        "id": "Jnb5uB9N79Yk",
        "outputId": "0a36f3d2-69ae-4659-a2df-d7a614d3fcb1"
      },
      "execution_count": 37,
      "outputs": [
        {
          "output_type": "execute_result",
          "data": {
            "text/plain": [
              "<Axes: >"
            ]
          },
          "metadata": {},
          "execution_count": 37
        },
        {
          "output_type": "display_data",
          "data": {
            "text/plain": [
              "<Figure size 640x480 with 2 Axes>"
            ],
            "image/png": "[encoded data removed]"
          },
          "metadata": {}
        }
      ]
    },
    {
      "cell_type": "code",
      "source": [
        "#22\n",
        "np.var(sim_data), np.std(sim_data)"
      ],
      "metadata": {
        "colab": {
          "base_uri": "https://localhost:8080/"
        },
        "id": "CgV57eZU8FLH",
        "outputId": "23875e1f-e244-4e64-f940-5c8685e20d12"
      },
      "execution_count": 38,
      "outputs": [
        {
          "output_type": "execute_result",
          "data": {
            "text/plain": [
              "(np.float64(109.97831689183047), np.float64(10.487054729132984))"
            ]
          },
          "metadata": {},
          "execution_count": 38
        }
      ]
    },
    {
      "cell_type": "code",
      "source": [
        "#23\n",
        "sns.histplot(sim_data, kde=True)\n",
        "plt.title(f\"Skew: {skewness:.2f}, Kurtosis: {kurtosis:.2f}\")\n",
        "plt.show()"
      ],
      "metadata": {
        "colab": {
          "base_uri": "https://localhost:8080/",
          "height": 452
        },
        "id": "XfBcgvBK8PPd",
        "outputId": "5f0a0a5a-7d57-4eba-d0bb-226e09d138d9"
      },
      "execution_count": 39,
      "outputs": [
        {
          "output_type": "display_data",
          "data": {
            "text/plain": [
              "<Figure size 640x480 with 1 Axes>"
            ],
            "image/png": "[encoded data removed]"
          },
          "metadata": {}
        }
      ]
    },
    {
      "cell_type": "code",
      "source": [
        "#24\n",
        "pearson = stats.pearsonr(x, y)\n",
        "spearman = stats.spearmanr(x, y)"
      ],
      "metadata": {
        "id": "y-ORCRRQ8UId"
      },
      "execution_count": 40,
      "outputs": []
    },
    {
      "cell_type": "code",
      "source": [
        "pearson"
      ],
      "metadata": {
        "colab": {
          "base_uri": "https://localhost:8080/"
        },
        "id": "c9UVaPkn8Z9f",
        "outputId": "406146c9-a6f3-45cf-ffbc-66eb78817c1f"
      },
      "execution_count": 41,
      "outputs": [
        {
          "output_type": "execute_result",
          "data": {
            "text/plain": [
              "PearsonRResult(statistic=np.float64(0.9999999999999999), pvalue=np.float64(0.0))"
            ]
          },
          "metadata": {},
          "execution_count": 41
        }
      ]
    },
    {
      "cell_type": "code",
      "source": [
        "spearman"
      ],
      "metadata": {
        "colab": {
          "base_uri": "https://localhost:8080/"
        },
        "id": "9yBwRYlz8bRx",
        "outputId": "c8213db8-e78c-40fd-d9c3-252051f64b36"
      },
      "execution_count": 42,
      "outputs": [
        {
          "output_type": "execute_result",
          "data": {
            "text/plain": [
              "SignificanceResult(statistic=np.float64(1.0), pvalue=np.float64(0.0))"
            ]
          },
          "metadata": {},
          "execution_count": 42
        }
      ]
    },
    {
      "cell_type": "code",
      "source": [],
      "metadata": {
        "id": "wYNkveUi8d9j"
      },
      "execution_count": null,
      "outputs": []
    }
  ]
}