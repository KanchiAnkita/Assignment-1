{
  "nbformat": 4,
  "nbformat_minor": 0,
  "metadata": {
    "colab": {
      "provenance": []
    },
    "kernelspec": {
      "name": "python3",
      "display_name": "Python 3"
    },
    "language_info": {
      "name": "python"
    }
  },
  "cells": [
    {
      "cell_type": "markdown",
      "source": [
        "**THEORY** **QUESTIONS**"
      ],
      "metadata": {
        "id": "lOTgde7LVuSo"
      }
    },
    {
      "cell_type": "markdown",
      "source": [
        "1).\n",
        "Function: It is a set of instructions that performs a task\n",
        "\n",
        "Method : It is a set of instructions that are assosiated with an object"
      ],
      "metadata": {
        "id": "hbNx5ZUjbxtT"
      }
    },
    {
      "cell_type": "markdown",
      "source": [
        "2). A \"Parameter\" is a variable that listed inside the paranthesis and \"Argument\" is the value that are sent to the function when it is called"
      ],
      "metadata": {
        "id": "3iFxINEylHmV"
      }
    },
    {
      "cell_type": "markdown",
      "source": [
        "3).\n",
        "\n",
        "Defining the function: Function in python can be defined by 'def' key word followed by function name with patranthesis\n",
        "\n",
        "Calling A function: A function can be called by 'call by value' and 'call by referance'"
      ],
      "metadata": {
        "id": "y2GmfbjAmveU"
      }
    },
    {
      "cell_type": "markdown",
      "source": [
        "4). 'Return' statement terminates the program execution of function and sends back the value to the part of the program called function  "
      ],
      "metadata": {
        "id": "vxkzdx8UohYS"
      }
    },
    {
      "cell_type": "markdown",
      "source": [
        "5).\n",
        "\n",
        "Itterators: It controls the loop allowing you to transfer data containers one at a time.\n",
        "\n",
        "Itterables: It provides the data you want to itterate over."
      ],
      "metadata": {
        "id": "Mcc5DooWpNs1"
      }
    },
    {
      "cell_type": "markdown",
      "source": [
        "6).  A generator is a function or expression that allows us to process large amount of data quickly and efficiently"
      ],
      "metadata": {
        "id": "iPfpl-0RqYMd"
      }
    },
    {
      "cell_type": "markdown",
      "source": [
        "7). Generators compute values only when needed, which enhances performance for larger datasets."
      ],
      "metadata": {
        "id": "4tW4QgG3rPC7"
      }
    },
    {
      "cell_type": "markdown",
      "source": [
        "8). Lambda functions in Python are small, anonymous functions defined using the lambda keyword. They can take any number of arguments but can only have one expression. The expression is evaluated and returned"
      ],
      "metadata": {
        "id": "MZ4KKinCrqK9"
      }
    },
    {
      "cell_type": "markdown",
      "source": [
        "9). The map() function in Python applies a given function to each item of an iterable and returns an iterator that yields the results"
      ],
      "metadata": {
        "id": "HpKtFdpjr_WS"
      }
    },
    {
      "cell_type": "markdown",
      "source": [
        "10).\n",
        "\n",
        "map():\n",
        "Applies a given function to each item of an iterable  and returns an iterator that yields the results. It transforms each element individually.\n",
        "\n",
        "filter():\n",
        "Constructs an iterator from elements of an iterable for which a function returns true. It selectively includes elements based on a condition.\n",
        "\n",
        "reduce():\n",
        "Applies a function cumulatively to the items of an iterable, from left to right, to reduce the iterable to a single value. It aggregates elements."
      ],
      "metadata": {
        "id": "wRbtJ8dFsSI4"
      }
    },
    {
      "cell_type": "markdown",
      "source": [
        "**PRACTICAL QUESTIONS**"
      ],
      "metadata": {
        "id": "abXqU6rCsytX"
      }
    },
    {
      "cell_type": "markdown",
      "source": [
        "1)."
      ],
      "metadata": {
        "id": "bZxN9cVZwB-t"
      }
    },
    {
      "cell_type": "code",
      "source": [
        "def evensum(numbers):\n",
        "  s=0\n",
        "  for i in numbers:\n",
        "    if i % 2 ==0:\n",
        "      s+=i\n",
        "  return s\n",
        "evensum([1,2,3,4,5,6,7,8,9,10])"
      ],
      "metadata": {
        "colab": {
          "base_uri": "https://localhost:8080/"
        },
        "id": "1-SZtoqXtzJ0",
        "outputId": "e5db80d9-7bfd-4f09-f3de-0c6c9f57dd34"
      },
      "execution_count": null,
      "outputs": [
        {
          "output_type": "execute_result",
          "data": {
            "text/plain": [
              "30"
            ]
          },
          "metadata": {},
          "execution_count": 2
        }
      ]
    },
    {
      "cell_type": "markdown",
      "source": [
        "2)."
      ],
      "metadata": {
        "id": "nVXyH2wCwD1T"
      }
    },
    {
      "cell_type": "code",
      "source": [
        "def reverse_string(input_string):\n",
        "  return input_string[::-1]\n",
        "reverse_string(\"1234abcd\")"
      ],
      "metadata": {
        "colab": {
          "base_uri": "https://localhost:8080/",
          "height": 35
        },
        "id": "0yeoQxzTwd5L",
        "outputId": "af8aadff-6542-461d-ef1c-8df593d0989f"
      },
      "execution_count": null,
      "outputs": [
        {
          "output_type": "execute_result",
          "data": {
            "text/plain": [
              "'dcba4321'"
            ],
            "application/vnd.google.colaboratory.intrinsic+json": {
              "type": "string"
            }
          },
          "metadata": {},
          "execution_count": 4
        }
      ]
    },
    {
      "cell_type": "markdown",
      "source": [
        "3)."
      ],
      "metadata": {
        "id": "trzlSiOJwuE7"
      }
    },
    {
      "cell_type": "code",
      "source": [
        "def square_numbers(numbers):\n",
        "  squared_list = [num ** 2 for num in numbers]\n",
        "  return squared_list\n",
        "square_numbers([1, 2, 3, 4, 5])"
      ],
      "metadata": {
        "colab": {
          "base_uri": "https://localhost:8080/"
        },
        "id": "cPhoff0jxBuh",
        "outputId": "aa1877e1-9e07-477a-cb9a-946f016bbbec"
      },
      "execution_count": null,
      "outputs": [
        {
          "output_type": "execute_result",
          "data": {
            "text/plain": [
              "[1, 4, 9, 16, 25]"
            ]
          },
          "metadata": {},
          "execution_count": 6
        }
      ]
    },
    {
      "cell_type": "markdown",
      "source": [
        "5)."
      ],
      "metadata": {
        "id": "OSqZPnrsxMCX"
      }
    },
    {
      "cell_type": "code",
      "source": [
        "class FibonacciIterator:\n",
        "    def __init__(self, limit):\n",
        "        self.limit = limit\n",
        "        self.a = 0\n",
        "        self.b = 1\n",
        "        self.count = 0\n",
        "\n",
        "    def __iter__(self):\n",
        "        return self\n",
        "\n",
        "    def __next__(self):\n",
        "        if self.count < self.limit:\n",
        "            fib_num = self.a\n",
        "            self.a, self.b = self.b, self.a + self.b\n",
        "            self.count += 1\n",
        "            return fib_num\n",
        "        else:\n",
        "            raise StopIteration\n",
        "\n",
        "fib_iter = FibonacciIterator(10)\n",
        "for num in fib_iter:\n",
        "    print(num)"
      ],
      "metadata": {
        "colab": {
          "base_uri": "https://localhost:8080/"
        },
        "id": "M7p4pFHVzPsP",
        "outputId": "c71acc1b-23c1-4432-8b0c-ee0fa79213a1"
      },
      "execution_count": null,
      "outputs": [
        {
          "output_type": "stream",
          "name": "stdout",
          "text": [
            "0\n",
            "1\n",
            "1\n",
            "2\n",
            "3\n",
            "5\n",
            "8\n",
            "13\n",
            "21\n",
            "34\n"
          ]
        }
      ]
    },
    {
      "cell_type": "markdown",
      "source": [
        "6)."
      ],
      "metadata": {
        "id": "iLvQpACMzbId"
      }
    },
    {
      "cell_type": "code",
      "source": [
        "def powers_of_two(exponent_limit):\n",
        "  for i in range(exponent_limit + 1):\n",
        "     yield 2 ** i\n",
        "     powers_of_two(5)"
      ],
      "metadata": {
        "id": "R4nyMiUCzpLX"
      },
      "execution_count": null,
      "outputs": []
    },
    {
      "cell_type": "markdown",
      "source": [
        "7)."
      ],
      "metadata": {
        "id": "amQnMWm31O06"
      }
    },
    {
      "cell_type": "code",
      "source": [
        "def file_line_generator(filename):\n",
        "  with open(filename, 'r') as f:\n",
        "    for line in f:\n",
        "      yield line.strip()\n",
        "with open('filename.txt', 'w') as f:\n",
        "    f.write(\"This is the first line.\\n\")\n",
        "    f.write(\"This is the second line.\\n\")\n",
        "    f.write(\"And the third one.\\n\")\n",
        "for line in file_line_generator('filename.txt'):\n",
        "  line"
      ],
      "metadata": {
        "id": "rl0oyp221g_3"
      },
      "execution_count": null,
      "outputs": []
    },
    {
      "cell_type": "markdown",
      "source": [
        "8)."
      ],
      "metadata": {
        "id": "WmZ77yDH1wt7"
      }
    },
    {
      "cell_type": "code",
      "source": [
        "list_of_tuples = [(1, 'apple'), (3, 'banana'), (2, 'cherry'), (4, 'date')]\n",
        "sorted_list = sorted(list_of_tuples, key=lambda item: item[1])\n",
        "sorted_list"
      ],
      "metadata": {
        "colab": {
          "base_uri": "https://localhost:8080/"
        },
        "id": "YQe_CfK84Jsf",
        "outputId": "335bb6c5-abaf-4b2f-b363-3d8548b88cbd"
      },
      "execution_count": null,
      "outputs": [
        {
          "output_type": "execute_result",
          "data": {
            "text/plain": [
              "[(1, 'apple'), (3, 'banana'), (2, 'cherry'), (4, 'date')]"
            ]
          },
          "metadata": {},
          "execution_count": 28
        }
      ]
    },
    {
      "cell_type": "markdown",
      "source": [
        "9)."
      ],
      "metadata": {
        "id": "DhkR30PM4Qqp"
      }
    },
    {
      "cell_type": "code",
      "source": [
        "celsius_temps = [10, 20, 30, 40]\n",
        "def celsius_to_fahrenheit(celsius):\n",
        "  return (celsius * 9/5) + 32\n",
        "fahrenheit_temps = list(map(celsius_to_fahrenheit, celsius_temps))\n",
        "fahrenheit_temps"
      ],
      "metadata": {
        "id": "BRwwMDnf493l",
        "outputId": "1e17fc97-5b0b-4bd9-98fa-497d27058875",
        "colab": {
          "base_uri": "https://localhost:8080/"
        }
      },
      "execution_count": null,
      "outputs": [
        {
          "output_type": "execute_result",
          "data": {
            "text/plain": [
              "[50.0, 68.0, 86.0, 104.0]"
            ]
          },
          "metadata": {},
          "execution_count": 30
        }
      ]
    },
    {
      "cell_type": "markdown",
      "source": [
        "10)."
      ],
      "metadata": {
        "id": "NG02peX-5Ubi"
      }
    },
    {
      "cell_type": "code",
      "source": [
        "def remove_vowels(input_string):\n",
        "  vowels = 'aeiouAEIOU'\n",
        "  return ''.join(filter(lambda x: x not in vowels, input_string))\n",
        "my_string = \"Welcome To the class\"\n",
        "string_without_vowels = remove_vowels(my_string)\n",
        "string_without_vowels"
      ],
      "metadata": {
        "colab": {
          "base_uri": "https://localhost:8080/",
          "height": 35
        },
        "id": "Hgoq6KWs8RlO",
        "outputId": "b58c80f9-c26c-4859-eaf6-3094395a1c2e"
      },
      "execution_count": 32,
      "outputs": [
        {
          "output_type": "execute_result",
          "data": {
            "text/plain": [
              "'Wlcm T th clss'"
            ],
            "application/vnd.google.colaboratory.intrinsic+json": {
              "type": "string"
            }
          },
          "metadata": {},
          "execution_count": 32
        }
      ]
    }
  ]
}