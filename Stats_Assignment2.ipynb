{
  "nbformat": 4,
  "nbformat_minor": 0,
  "metadata": {
    "colab": {
      "provenance": []
    },
    "kernelspec": {
      "name": "python3",
      "display_name": "Python 3"
    },
    "language_info": {
      "name": "python"
    }
  },
  "cells": [
    {
      "cell_type": "markdown",
      "source": [
        "1). A random variable is a variable that takes on different numerical values based on the outcomes of a random phenomenon. It maps outcomes of a random experiment to numerical values."
      ],
      "metadata": {
        "id": "-ObqBPCh-j8p"
      }
    },
    {
      "cell_type": "markdown",
      "source": [
        "2). There are two main types:\n",
        "\n",
        "Discrete Random Variable: Takes on countable values (e.g., number of heads in 3 coin tosses).\n",
        "\n",
        "Continuous Random Variable: Takes on uncountable/infinite values within a range (e.g., height, temperature)."
      ],
      "metadata": {
        "id": "hGRtIk6d-3UN"
      }
    },
    {
      "cell_type": "markdown",
      "source": [
        "3). Discrete Distribution: Deals with discrete variables and assigns probabilities to specific values.\n",
        "\n",
        "Continuous Distribution: Deals with continuous variables and assigns probabilities over intervals using density functions."
      ],
      "metadata": {
        "id": "6Q2Dqbw5_AyG"
      }
    },
    {
      "cell_type": "markdown",
      "source": [
        "4). For continuous variables, the PDF gives the relative likelihood of a variable taking on a given value. The area under the PDF curve between two values gives the probability."
      ],
      "metadata": {
        "id": "PxJGd5vK_HnX"
      }
    },
    {
      "cell_type": "markdown",
      "source": [
        "5). PDF: Shows probability density at a point (for continuous variables).\n",
        "\n",
        "CDF: Gives the probability that the random variable is less than or equal to a certain value."
      ],
      "metadata": {
        "id": "LHJa1cJQ_ODn"
      }
    },
    {
      "cell_type": "markdown",
      "source": [
        "6). A distribution where all outcomes are equally likely. For example, rolling a fair die where each number (1–6) has a probability of 1/6."
      ],
      "metadata": {
        "id": "hRrZZZk__XA4"
      }
    },
    {
      "cell_type": "markdown",
      "source": [
        "7). Two outcomes: success (1) or failure (0)\n",
        "\n",
        "One trial\n",
        "\n",
        "Probability of success = p, failure = 1 - p\n",
        "\n",
        "Mean = p, Variance = p(1 - p)"
      ],
      "metadata": {
        "id": "bDJO6yMm_cqF"
      }
    },
    {
      "cell_type": "markdown",
      "source": [
        "8). It represents the number of successes in a fixed number of independent Bernoulli trials.\n",
        "Used for modeling events with fixed probability repeated n times."
      ],
      "metadata": {
        "id": "en9STefS_jiK"
      }
    },
    {
      "cell_type": "markdown",
      "source": [
        "9). It models the number of times an event occurs in a fixed interval of time or space. Used for rare events like emails per hour, accidents per day, etc."
      ],
      "metadata": {
        "id": "VLVGQQVH_rfa"
      }
    },
    {
      "cell_type": "markdown",
      "source": [
        "10). All outcomes in a continuous range are equally likely. PDF is constant across the interval."
      ],
      "metadata": {
        "id": "9CTbkNwS_xik"
      }
    },
    {
      "cell_type": "markdown",
      "source": [
        "11). Bell-shaped, symmetric about the mean\n",
        "\n",
        "Mean = median = mode\n",
        "\n",
        "Defined by mean (μ) and standard deviation (σ)"
      ],
      "metadata": {
        "id": "TzEly9Hj_4xc"
      }
    },
    {
      "cell_type": "markdown",
      "source": [
        "12). A normal distribution with mean 0 and standard deviation 1.\n",
        "Important for standardizing data and using Z-tables for probabilities."
      ],
      "metadata": {
        "id": "X9BcQ_GL_-xB"
      }
    },
    {
      "cell_type": "markdown",
      "source": [
        "13). CLT states that the sampling distribution of the sample mean approaches a normal distribution as the sample size increases, regardless of the population's distribution.\n",
        "It underpins hypothesis testing and confidence intervals."
      ],
      "metadata": {
        "id": "rCEgq48cAEUr"
      }
    },
    {
      "cell_type": "markdown",
      "source": [
        "14). It explains why many statistics (like sample means) tend to follow a normal distribution even if the population is not normal, given a large enough sample size."
      ],
      "metadata": {
        "id": "1EaeWoEOAVfV"
      }
    },
    {
      "cell_type": "markdown",
      "source": [
        "15). Used to test hypotheses when population variance is known. Compares sample mean to population mean using Z-score to determine significance."
      ],
      "metadata": {
        "id": "dGyAbp1oAarL"
      }
    },
    {
      "cell_type": "markdown",
      "source": [
        "16). Z= X−μ/σ\n",
        "\n",
        "It shows how many standard deviations a data point is from the mean."
      ],
      "metadata": {
        "id": "D9CplEbgAgYK"
      }
    },
    {
      "cell_type": "markdown",
      "source": [
        "17).Point Estimate: Single value (e.g., sample mean) as an estimate of a population parameter.\n",
        "\n",
        "Interval Estimate: Range of values (e.g., confidence interval) likely to contain the parameter."
      ],
      "metadata": {
        "id": "_FteAviRBDBa"
      }
    },
    {
      "cell_type": "markdown",
      "source": [
        "18).They provide a range where the true population parameter lies with a certain level of confidence"
      ],
      "metadata": {
        "id": "mqs4tsG8BRFB"
      }
    },
    {
      "cell_type": "markdown",
      "source": [
        "19). Z-scores define the boundaries of confidence intervals in a standard normal distribution"
      ],
      "metadata": {
        "id": "uAE5QGRcCYE5"
      }
    },
    {
      "cell_type": "markdown",
      "source": [
        "20). By converting different data to standard scores (Z-scores), comparisons can be made across distributions with different means and variances."
      ],
      "metadata": {
        "id": "6Kkm__RPCesY"
      }
    },
    {
      "cell_type": "markdown",
      "source": [
        "21). Independent and identically distributed (i.i.d.) samples\n",
        "\n",
        "Sample size large enough (usually n > 30)\n",
        "\n",
        "Finite mean and variance of the population"
      ],
      "metadata": {
        "id": "VnwucuIzCjwP"
      }
    },
    {
      "cell_type": "markdown",
      "source": [
        "23). The probability distribution assigns probabilities to each possible outcome, and the expected value summarizes the long-run average outcome."
      ],
      "metadata": {
        "id": "Mm94iDTUCrEp"
      }
    }
  ]
}