{
  "nbformat": 4,
  "nbformat_minor": 0,
  "metadata": {
    "colab": {
      "provenance": []
    },
    "kernelspec": {
      "name": "python3",
      "display_name": "Python 3"
    },
    "language_info": {
      "name": "python"
    }
  },
  "cells": [
    {
      "cell_type": "markdown",
      "source": [
        "1). Compiled: Translated into machine code once (e.g., C, C++) → faster execution.\n",
        "\n",
        "Interpreted: Translated line-by-line at runtime (e.g., Python, JavaScript) → easier debugging."
      ],
      "metadata": {
        "id": "IXfcKLjs2t0X"
      }
    },
    {
      "cell_type": "markdown",
      "source": [
        "2).Mechanism to gracefully handle runtime errors using try, except, else, and finally."
      ],
      "metadata": {
        "id": "quqv0lSU2_P6"
      }
    },
    {
      "cell_type": "markdown",
      "source": [
        "3).Ensures execution of cleanup code, regardless of whether an exception occurred."
      ],
      "metadata": {
        "id": "YLF5xz5G3VRD"
      }
    },
    {
      "cell_type": "markdown",
      "source": [
        "4). Captures run-time information, warnings, and errors using the logging module."
      ],
      "metadata": {
        "id": "BfGaPGnI3egw"
      }
    },
    {
      "cell_type": "markdown",
      "source": [
        "5). Destructor method called when an object is about to be destroyed (for cleanup)."
      ],
      "metadata": {
        "id": "PqQ4tJcn3n2X"
      }
    },
    {
      "cell_type": "markdown",
      "source": [
        "6).import math : Access as math.sqrt()\n",
        "\n",
        "from math import sqrt : Directly use sqrt()"
      ],
      "metadata": {
        "id": "3NV4eqFA3uoQ"
      }
    },
    {
      "cell_type": "markdown",
      "source": [
        "8).Manages file context automatically (handles open/close safely)."
      ],
      "metadata": {
        "id": "WXzr6PKH4EmC"
      }
    },
    {
      "cell_type": "markdown",
      "source": [
        "9). Multithreading: Multiple threads - shared memory (lightweight)\n",
        "\n",
        "Multiprocessing: Multiple processes - separate memory (heavyweight)"
      ],
      "metadata": {
        "id": "u8JIbEgL4gP6"
      }
    },
    {
      "cell_type": "markdown",
      "source": [
        "10). Debugging, monitoring, auditing, persistent error tracking."
      ],
      "metadata": {
        "id": "SaHEOP0q4vgh"
      }
    },
    {
      "cell_type": "markdown",
      "source": [
        "11). Automatic memory handling using reference counting and garbage collection."
      ],
      "metadata": {
        "id": "NGuNoLsw41yM"
      }
    },
    {
      "cell_type": "markdown",
      "source": [
        "12). Basics steps in exception handling is: 1)try 2)except 3)else 4) finally"
      ],
      "metadata": {
        "id": "GnqcAG0947Ja"
      }
    },
    {
      "cell_type": "markdown",
      "source": [
        "13). Prevents memory leaks, improves efficiency and stability."
      ],
      "metadata": {
        "id": "HbHF0wEH5fIL"
      }
    },
    {
      "cell_type": "markdown",
      "source": [
        "14). Catches and handles errors to prevent crashes."
      ],
      "metadata": {
        "id": "0FyT1Yr15pYB"
      }
    },
    {
      "cell_type": "markdown",
      "source": [
        "15). Automatically deletes unused objects using reference counting and cyclic GC"
      ],
      "metadata": {
        "id": "UQxbyrQp51oX"
      }
    },
    {
      "cell_type": "markdown",
      "source": [
        "16). Runs code when no exception occurs in try."
      ],
      "metadata": {
        "id": "IsVkEL3-5-jf"
      }
    },
    {
      "cell_type": "markdown",
      "source": [],
      "metadata": {
        "id": "IRCxH6w96IEG"
      }
    },
    {
      "cell_type": "markdown",
      "source": [
        "17). Debug, Info, warning, Etrror, Critical"
      ],
      "metadata": {
        "id": "_dqYwOa46IZE"
      }
    },
    {
      "cell_type": "markdown",
      "source": [
        "18). os.fork (Unix): manually spawns child process.\n",
        "\n",
        "multiprocessing: cross-platform API for parallel tasks."
      ],
      "metadata": {
        "id": "k4z9NpWg6Tn2"
      }
    },
    {
      "cell_type": "markdown",
      "source": [
        "19). By closing file in python it ensures the data is saved properly."
      ],
      "metadata": {
        "id": "axJj93OQ6uoV"
      }
    },
    {
      "cell_type": "markdown",
      "source": [
        "20). read(): Reads entire file\n",
        "\n",
        "readline(): Reads one line at a time"
      ],
      "metadata": {
        "id": "1hPQg9cY6_If"
      }
    },
    {
      "cell_type": "markdown",
      "source": [
        "21). Records application events/errors during runtime."
      ],
      "metadata": {
        "id": "1HSqsOA37Jjo"
      }
    },
    {
      "cell_type": "markdown",
      "source": [
        "22). File system operations: rename, path check, delete, etc."
      ],
      "metadata": {
        "id": "3mvjb3e27UyW"
      }
    },
    {
      "cell_type": "markdown",
      "source": [
        "23). Circular references, memory leaks, fragmentation."
      ],
      "metadata": {
        "id": "FqGRyMEW7snz"
      }
    },
    {
      "cell_type": "markdown",
      "source": [
        "24). raise ValueError(\"Invalid value\")"
      ],
      "metadata": {
        "id": "vipuION57z_j"
      }
    },
    {
      "cell_type": "markdown",
      "source": [
        "25). Better responsiveness (e.g., UI + background task), I/O-bound tasks."
      ],
      "metadata": {
        "id": "WkofpY6F79Zy"
      }
    },
    {
      "cell_type": "markdown",
      "source": [
        "**Practical questions**"
      ],
      "metadata": {
        "id": "eTk4jwyf8u66"
      }
    },
    {
      "cell_type": "code",
      "source": [
        "#1\n",
        "with open(\"file.txt\", \"w\") as f:\n",
        "    f.write(\"Hello, world!\")"
      ],
      "metadata": {
        "id": "5zc3ek7s80db"
      },
      "execution_count": 1,
      "outputs": []
    },
    {
      "cell_type": "code",
      "source": [
        "#2\n",
        "with open(\"file.txt\", \"r\") as f:\n",
        "    for line in f:\n",
        "        print(line.strip())"
      ],
      "metadata": {
        "colab": {
          "base_uri": "https://localhost:8080/"
        },
        "id": "Nv4kT9gb86gB",
        "outputId": "6da375fa-1c97-45f4-8b9e-d83bee62a1fe"
      },
      "execution_count": 2,
      "outputs": [
        {
          "output_type": "stream",
          "name": "stdout",
          "text": [
            "Hello, world!\n"
          ]
        }
      ]
    },
    {
      "cell_type": "code",
      "source": [
        "#3\n",
        "try:\n",
        "    with open(\"nonexistent.txt\", \"r\") as f:\n",
        "        content = f.read()\n",
        "except FileNotFoundError:\n",
        "    print(\"File not found.\")"
      ],
      "metadata": {
        "colab": {
          "base_uri": "https://localhost:8080/"
        },
        "id": "0fLiCR9S9BOp",
        "outputId": "58e54149-326c-463b-9f59-82b696bf3c26"
      },
      "execution_count": 3,
      "outputs": [
        {
          "output_type": "stream",
          "name": "stdout",
          "text": [
            "File not found.\n"
          ]
        }
      ]
    },
    {
      "cell_type": "code",
      "source": [
        "#4\n",
        "with open(\"file.txt\", \"r\") as fl, open(\"dest.txt\", \"w\") as dest:\n",
        "    dest.write(fl.read())"
      ],
      "metadata": {
        "id": "BeR9NVfr9Iqg"
      },
      "execution_count": 6,
      "outputs": []
    },
    {
      "cell_type": "code",
      "source": [
        "#5\n",
        "try:\n",
        "    result = 5 / 0\n",
        "except ZeroDivisionError:\n",
        "    print(\"Cannot divide by zero\")"
      ],
      "metadata": {
        "colab": {
          "base_uri": "https://localhost:8080/"
        },
        "id": "5xuo8Fn09NDb",
        "outputId": "dbf0604b-d2cd-4333-d9e3-f3565f51358f"
      },
      "execution_count": 7,
      "outputs": [
        {
          "output_type": "stream",
          "name": "stdout",
          "text": [
            "Cannot divide by zero\n"
          ]
        }
      ]
    },
    {
      "cell_type": "code",
      "source": [
        "#6\n",
        "import logging\n",
        "logging.basicConfig(filename=\"error.log\", level=logging.ERROR)\n",
        "try:\n",
        "    x = 10 / 0\n",
        "except ZeroDivisionError as e:\n",
        "    logging.error(\"Division by zero error: %s\", e)"
      ],
      "metadata": {
        "colab": {
          "base_uri": "https://localhost:8080/"
        },
        "id": "d0It-4cT9vcB",
        "outputId": "81658341-fdbf-44ca-beaa-206f6e291f1c"
      },
      "execution_count": 8,
      "outputs": [
        {
          "output_type": "stream",
          "name": "stderr",
          "text": [
            "ERROR:root:Division by zero error: division by zero\n"
          ]
        }
      ]
    },
    {
      "cell_type": "code",
      "source": [
        "#7\n",
        "import logging\n",
        "logging.basicConfig(level=logging.DEBUG)\n",
        "logging.info(\"Information\")\n",
        "logging.warning(\"Warning\")\n",
        "logging.error(\"Error occurred\")"
      ],
      "metadata": {
        "colab": {
          "base_uri": "https://localhost:8080/"
        },
        "id": "r-OEFrvL9084",
        "outputId": "44ff5010-e408-438f-cf90-c8f25e723d4b"
      },
      "execution_count": 9,
      "outputs": [
        {
          "output_type": "stream",
          "name": "stderr",
          "text": [
            "WARNING:root:Warning\n",
            "ERROR:root:Error occurred\n"
          ]
        }
      ]
    },
    {
      "cell_type": "code",
      "source": [
        "#8\n",
        "try:\n",
        "    with open(\"no_file.txt\") as f:\n",
        "        pass\n",
        "except Exception as e:\n",
        "    print(\"Error:\", e)"
      ],
      "metadata": {
        "colab": {
          "base_uri": "https://localhost:8080/"
        },
        "id": "sN8Wbqdy99En",
        "outputId": "d0306364-a549-4ff4-8eda-5a334e085706"
      },
      "execution_count": 10,
      "outputs": [
        {
          "output_type": "stream",
          "name": "stdout",
          "text": [
            "Error: [Errno 2] No such file or directory: 'no_file.txt'\n"
          ]
        }
      ]
    },
    {
      "cell_type": "code",
      "source": [
        "#9\n",
        "with open(\"file.txt\") as f:\n",
        "    lines = f.readlines()"
      ],
      "metadata": {
        "id": "DuffBl4z-BmI"
      },
      "execution_count": 13,
      "outputs": []
    },
    {
      "cell_type": "code",
      "source": [
        "#10\n",
        "with open(\"file.txt\", \"a\") as f:\n",
        "    f.write(\"New data\\n\")"
      ],
      "metadata": {
        "id": "wOVsCFy3-F1D"
      },
      "execution_count": 14,
      "outputs": []
    },
    {
      "cell_type": "code",
      "source": [
        "#11\n",
        "try:\n",
        "    val = {\"a\": 1}[\"b\"]\n",
        "except KeyError:\n",
        "    print(\"Key not found\")"
      ],
      "metadata": {
        "colab": {
          "base_uri": "https://localhost:8080/"
        },
        "id": "kP7qpaAn-Vo4",
        "outputId": "12cd478e-3020-4e21-b04d-da993a49c6ea"
      },
      "execution_count": 15,
      "outputs": [
        {
          "output_type": "stream",
          "name": "stdout",
          "text": [
            "Key not found\n"
          ]
        }
      ]
    },
    {
      "cell_type": "code",
      "source": [
        "#12\n",
        "try:\n",
        "    lst = [1]\n",
        "    print(lst[5])\n",
        "except IndexError:\n",
        "    print(\"Index Error\")\n",
        "except Exception as e:\n",
        "    print(\"Other Error:\", e)"
      ],
      "metadata": {
        "colab": {
          "base_uri": "https://localhost:8080/"
        },
        "id": "AiBslQjT-Z_6",
        "outputId": "85e4efb7-9f6d-4c95-aea3-f4e86829e1f5"
      },
      "execution_count": 16,
      "outputs": [
        {
          "output_type": "stream",
          "name": "stdout",
          "text": [
            "Index Error\n"
          ]
        }
      ]
    },
    {
      "cell_type": "code",
      "source": [
        "#13\n",
        "import os\n",
        "if os.path.exists(\"file.txt\"):\n",
        "    print(\"Exists\")"
      ],
      "metadata": {
        "colab": {
          "base_uri": "https://localhost:8080/"
        },
        "id": "M4w7DBV_-efG",
        "outputId": "dd670824-3879-4399-e13c-c0a8a85d346c"
      },
      "execution_count": 17,
      "outputs": [
        {
          "output_type": "stream",
          "name": "stdout",
          "text": [
            "Exists\n"
          ]
        }
      ]
    },
    {
      "cell_type": "code",
      "source": [
        "#14\n",
        "logging.basicConfig(filename=\"app.log\", level=logging.INFO)\n",
        "logging.info(\"Start\")\n",
        "try:\n",
        "    1/0\n",
        "except ZeroDivisionError:\n",
        "    logging.error(\"Error occurred\")"
      ],
      "metadata": {
        "colab": {
          "base_uri": "https://localhost:8080/"
        },
        "id": "GUrtOlnS-jUZ",
        "outputId": "08fdcc6b-d412-4e19-e276-166e6e27b83c"
      },
      "execution_count": 18,
      "outputs": [
        {
          "output_type": "stream",
          "name": "stderr",
          "text": [
            "ERROR:root:Error occurred\n"
          ]
        }
      ]
    },
    {
      "cell_type": "code",
      "source": [
        "#15\n",
        "with open(\"file.txt\") as f:\n",
        "    content = f.read()\n",
        "    if content:\n",
        "        print(content)\n",
        "    else:\n",
        "        print(\"File is empty\")"
      ],
      "metadata": {
        "colab": {
          "base_uri": "https://localhost:8080/"
        },
        "id": "1uF-WXj3-pNx",
        "outputId": "ecad36a6-ddfd-4735-88ad-57aba9f8abd1"
      },
      "execution_count": 19,
      "outputs": [
        {
          "output_type": "stream",
          "name": "stdout",
          "text": [
            "Hello, world!New data\n",
            "\n"
          ]
        }
      ]
    },
    {
      "cell_type": "code",
      "source": [
        "#17\n",
        "with open(\"numbers.txt\", \"w\") as f:\n",
        "    for i in range(10):\n",
        "        f.write(f\"{i}\\n\")"
      ],
      "metadata": {
        "id": "QZ66Zbm_-2--"
      },
      "execution_count": 21,
      "outputs": []
    },
    {
      "cell_type": "code",
      "source": [
        "#18\n",
        "from logging.handlers import RotatingFileHandler\n",
        "logger = logging.getLogger()\n",
        "handler = RotatingFileHandler(\"app.log\", maxBytes=1_000_000, backupCount=3)\n",
        "logger.addHandler(handler)\n",
        "logger.setLevel(logging.INFO)\n",
        "logger.info(\"Logging with rotation\")"
      ],
      "metadata": {
        "colab": {
          "base_uri": "https://localhost:8080/"
        },
        "id": "AVuG18NP_Cv4",
        "outputId": "b47342ae-cb8f-4fc6-d6e9-3e8e1a075d03"
      },
      "execution_count": 22,
      "outputs": [
        {
          "output_type": "stream",
          "name": "stderr",
          "text": [
            "INFO:root:Logging with rotation\n"
          ]
        }
      ]
    },
    {
      "cell_type": "code",
      "source": [
        "#19\n",
        "try:\n",
        "    lst = [1]\n",
        "    print(lst[10])\n",
        "except IndexError:\n",
        "    print(\"Index Error\")\n",
        "try:\n",
        "    d = {}\n",
        "    print(d[\"x\"])\n",
        "except KeyError:\n",
        "    print(\"Key Error\")"
      ],
      "metadata": {
        "colab": {
          "base_uri": "https://localhost:8080/"
        },
        "id": "KQAyqI8H_Jdh",
        "outputId": "479b4922-b2f8-4320-bce0-7c5e9df905f8"
      },
      "execution_count": 23,
      "outputs": [
        {
          "output_type": "stream",
          "name": "stdout",
          "text": [
            "Index Error\n",
            "Key Error\n"
          ]
        }
      ]
    },
    {
      "cell_type": "code",
      "source": [
        "#20\n",
        "with open(\"file.txt\", \"r\") as f:\n",
        "    print(f.read())"
      ],
      "metadata": {
        "colab": {
          "base_uri": "https://localhost:8080/"
        },
        "id": "bOB3mHxy_Ouh",
        "outputId": "3520af3b-ac90-4a64-84dd-a0a91d2cd60f"
      },
      "execution_count": 24,
      "outputs": [
        {
          "output_type": "stream",
          "name": "stdout",
          "text": [
            "Hello, world!New data\n",
            "\n"
          ]
        }
      ]
    },
    {
      "cell_type": "code",
      "source": [
        "#21\n",
        "word = \"python\"\n",
        "count = 0\n",
        "with open(\"file.txt\", \"r\") as f:\n",
        "    for line in f:\n",
        "        count += line.lower().count(word)\n",
        "print(\"Occurrences:\", count)"
      ],
      "metadata": {
        "colab": {
          "base_uri": "https://localhost:8080/"
        },
        "id": "dxfWORxa_U2v",
        "outputId": "ae8efaff-45d1-4280-bcc1-43d11e1c5cfd"
      },
      "execution_count": 25,
      "outputs": [
        {
          "output_type": "stream",
          "name": "stdout",
          "text": [
            "Occurrences: 0\n"
          ]
        }
      ]
    },
    {
      "cell_type": "code",
      "source": [
        "#22\n",
        "import os\n",
        "if os.path.getsize(\"file.txt\") == 0:\n",
        "    print(\"Empty file\")"
      ],
      "metadata": {
        "id": "yjOzrAxz_cjg"
      },
      "execution_count": 26,
      "outputs": []
    },
    {
      "cell_type": "code",
      "source": [
        "#23\n",
        "try:\n",
        "    with open(\"nofile.txt\") as f:\n",
        "        pass\n",
        "except Exception as e:\n",
        "    logging.basicConfig(filename=\"error.log\", level=logging.ERROR)\n",
        "    logging.error(\"File handling error: %s\", e)"
      ],
      "metadata": {
        "colab": {
          "base_uri": "https://localhost:8080/"
        },
        "id": "jVgs5BwW_itJ",
        "outputId": "fa0a3a38-e092-4aa8-a4ea-5eec2dbdf039"
      },
      "execution_count": 27,
      "outputs": [
        {
          "output_type": "stream",
          "name": "stderr",
          "text": [
            "ERROR:root:File handling error: [Errno 2] No such file or directory: 'nofile.txt'\n"
          ]
        }
      ]
    }
  ]
}