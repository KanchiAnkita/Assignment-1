{
  "nbformat": 4,
  "nbformat_minor": 0,
  "metadata": {
    "colab": {
      "provenance": []
    },
    "kernelspec": {
      "name": "python3",
      "display_name": "Python 3"
    },
    "language_info": {
      "name": "python"
    }
  },
  "cells": [
    {
      "cell_type": "markdown",
      "source": [
        "**THEORY ANSWERS**"
      ],
      "metadata": {
        "id": "dwcO-ukIrnPe"
      }
    },
    {
      "cell_type": "markdown",
      "source": [
        "1).OOP is a programming paradigm based on the concept of \"objects\", which can contain data (attributes) and code (methods). The main principles of OOP are:\n",
        "\n",
        "Encapsulation\n",
        "\n",
        "Abstraction\n",
        "\n",
        "Inheritance\n",
        "\n",
        "Polymorphism"
      ],
      "metadata": {
        "id": "_HUgspx1lq80"
      }
    },
    {
      "cell_type": "markdown",
      "source": [
        "2). A class is a blueprint or template for creating objects. It defines attributes and behaviors (methods) that the created objects (instances) will have."
      ],
      "metadata": {
        "id": "DLWARxEml31R"
      }
    },
    {
      "cell_type": "markdown",
      "source": [
        "3). An object is an instance of a class. It contains actual values for the attributes defined in the class."
      ],
      "metadata": {
        "id": "svxjBtXMmGV9"
      }
    },
    {
      "cell_type": "markdown",
      "source": [
        "4).\n",
        "\n",
        ".Abstraction hides the complexity by exposing only the relevant parts.\n",
        "\n",
        ".Encapsulation hides the internal state and allows access only through methods."
      ],
      "metadata": {
        "id": "ejo5sCsxmY2f"
      }
    },
    {
      "cell_type": "markdown",
      "source": [
        "5). Dunder (Double Underscore) methods are special methods with names like __init__, __str__, __len__, etc., used to define behavior for built-in operations."
      ],
      "metadata": {
        "id": "wiRrONXCm0PA"
      }
    },
    {
      "cell_type": "markdown",
      "source": [
        "6). Inheritance allows a class (child) to inherit attributes and methods from another class (parent), promoting code reuse."
      ],
      "metadata": {
        "id": "1hnj4ndDnBQZ"
      }
    },
    {
      "cell_type": "markdown",
      "source": [
        "7). Polymorphism allows objects of different classes to be treated as objects of a common superclass. It enables method overriding and flexible code."
      ],
      "metadata": {
        "id": "P0MpL3UjnTzh"
      }
    },
    {
      "cell_type": "markdown",
      "source": [
        "8). Encapsulation is achieved using access modifiers:\n",
        "\n",
        "_protected (convention)\n",
        "\n",
        "__private (name mangling)"
      ],
      "metadata": {
        "id": "8evxPE_1nhn8"
      }
    },
    {
      "cell_type": "markdown",
      "source": [
        "9). The constructor method in Python is __init__. It is automatically called when an object is created."
      ],
      "metadata": {
        "id": "OiL7w69Unqs4"
      }
    },
    {
      "cell_type": "markdown",
      "source": [
        "10). Class method (@classmethod) takes cls as the first argument and works with the class itself.\n",
        "\n",
        "Static method (@staticmethod) doesn’t take self or cls, used for utility functions."
      ],
      "metadata": {
        "id": "fBN_BYRvnz2D"
      }
    },
    {
      "cell_type": "markdown",
      "source": [
        "11). Python doesn’t support traditional method overloading, but similar behavior can be achieved using default arguments or *args."
      ],
      "metadata": {
        "id": "7jdkVaC8oD5h"
      }
    },
    {
      "cell_type": "markdown",
      "source": [
        "12). Method overriding is redefining a method in a subclass that already exists in the parent class."
      ],
      "metadata": {
        "id": "VfYYx79NoPlt"
      }
    },
    {
      "cell_type": "markdown",
      "source": [
        "13). The @property decorator turns a method into a read-only property."
      ],
      "metadata": {
        "id": "F7TD2SjHoYw4"
      }
    },
    {
      "cell_type": "markdown",
      "source": [
        "14). Polymorphism enhances flexibility and scalability by allowing:\n",
        "\n",
        "One interface, many implementations.\n",
        "\n",
        "Simplified and readable code.\n",
        "\n",
        "Easy extension and maintenance."
      ],
      "metadata": {
        "id": "yD6HJxXVokpR"
      }
    },
    {
      "cell_type": "markdown",
      "source": [
        "15). An abstract class in Python is a class that cannot be instantiated directly. It is used as a blueprint for other classes. It may contain abstract methods—methods declared but not implemented."
      ],
      "metadata": {
        "id": "sGxuS3xypJEW"
      }
    },
    {
      "cell_type": "markdown",
      "source": [
        "16). Modularity: Code is organized into objects.\n",
        "\n",
        "Reusability: Use existing classes via inheritance.\n",
        "\n",
        "Encapsulation: Hides internal state and requires all interaction to be performed through methods.\n",
        "\n",
        "Polymorphism: Same interface, different implementations.\n",
        "\n",
        "Maintainability: Easier to manage and update code."
      ],
      "metadata": {
        "id": "X9LIKFpBpo3d"
      }
    },
    {
      "cell_type": "markdown",
      "source": [
        "17). Class Variable: Shared across all instances of a class.\n",
        "\n",
        "Instance Variable: Unique to each instance."
      ],
      "metadata": {
        "id": "gU9HG8jLp2BE"
      }
    },
    {
      "cell_type": "markdown",
      "source": [
        "18). Multiple inheritance allows a class to inherit from more than one parent class."
      ],
      "metadata": {
        "id": "OprIuVevqBGa"
      }
    },
    {
      "cell_type": "markdown",
      "source": [
        "19). __str__: Used by print() to display a human-readable string.\n",
        "\n",
        "__repr__: Used for debugging, should return an unambiguous representation."
      ],
      "metadata": {
        "id": "zvGprv9RqM0q"
      }
    },
    {
      "cell_type": "markdown",
      "source": [
        "20). super() is used to call methods of the parent class, especially in constructors or overridden method."
      ],
      "metadata": {
        "id": "nDOSYmrEqVod"
      }
    },
    {
      "cell_type": "markdown",
      "source": [
        "21). __del__ is a destructor method. It’s called when an object is about to be destroyed (e.g., garbage collection). Use with caution."
      ],
      "metadata": {
        "id": "vq71GdUPqfLp"
      }
    },
    {
      "cell_type": "markdown",
      "source": [
        "22). @staticmethod: No access to class or instance. Like a regular function inside a class.\n",
        "\n",
        "@classmethod: Receives the class (cls) as the first argument, used for factory methods."
      ],
      "metadata": {
        "id": "KqebibpSq1Ba"
      }
    },
    {
      "cell_type": "markdown",
      "source": [
        "23). Polymorphism allows different classes to define methods with the same name. The correct method is called depending on the object."
      ],
      "metadata": {
        "id": "J-YpBp_JrDpG"
      }
    },
    {
      "cell_type": "markdown",
      "source": [
        "24). Method chaining is calling multiple methods sequentially on the same object, using return self."
      ],
      "metadata": {
        "id": "kJQ7L9yLrKnF"
      }
    },
    {
      "cell_type": "markdown",
      "source": [
        "25). Defines behavior for when an instance is called like a function."
      ],
      "metadata": {
        "id": "I4zUOcXZrS8e"
      }
    },
    {
      "cell_type": "markdown",
      "source": [
        "**PRACTICAL ANSWERS**"
      ],
      "metadata": {
        "id": "gSZvIkFXrgEb"
      }
    },
    {
      "cell_type": "markdown",
      "source": [
        "1)."
      ],
      "metadata": {
        "id": "w5D_EBD0s0IM"
      }
    },
    {
      "cell_type": "code",
      "source": [
        "class Animal:\n",
        "    def speak(self):\n",
        "        print(\"Animal speaks\")\n",
        "\n",
        "class Dog(Animal):\n",
        "    def speak(self):\n",
        "        print(\"Bark!\")\n",
        "\n",
        "d = Dog()\n",
        "d.speak()\n"
      ],
      "metadata": {
        "colab": {
          "base_uri": "https://localhost:8080/"
        },
        "id": "ADichuTVrl1t",
        "outputId": "1e6be5f5-d452-4508-d8e0-5ac538136ad5"
      },
      "execution_count": 11,
      "outputs": [
        {
          "output_type": "stream",
          "name": "stdout",
          "text": [
            "Bark!\n"
          ]
        }
      ]
    },
    {
      "cell_type": "markdown",
      "source": [
        "2)."
      ],
      "metadata": {
        "id": "RXO9zwdJs2Ja"
      }
    },
    {
      "cell_type": "code",
      "source": [
        "from abc import ABC, abstractmethod\n",
        "import math\n",
        "\n",
        "class Shape(ABC):\n",
        "    @abstractmethod\n",
        "    def area(self):\n",
        "        pass\n",
        "\n",
        "class Circle(Shape):\n",
        "    def __init__(self, radius):\n",
        "        self.radius = radius\n",
        "\n",
        "    def area(self):\n",
        "        return math.pi * self.radius ** 2\n",
        "\n",
        "class Rectangle(Shape):\n",
        "    def __init__(self, width, height):\n",
        "        self.width = width\n",
        "        self.height = height\n",
        "\n",
        "    def area(self):\n",
        "        return self.width * self.height\n",
        "\n",
        "c = Circle(5)\n",
        "r = Rectangle(4, 6)\n",
        "print(f\"Circle area: {c.area()}\")\n",
        "print(f\"Rectangle area: {r.area()}\")\n"
      ],
      "metadata": {
        "colab": {
          "base_uri": "https://localhost:8080/"
        },
        "id": "1pRY65rhsoK2",
        "outputId": "393f1cd3-174b-44d6-b7ec-3a944c67810a"
      },
      "execution_count": 12,
      "outputs": [
        {
          "output_type": "stream",
          "name": "stdout",
          "text": [
            "Circle area: 78.53981633974483\n",
            "Rectangle area: 24\n"
          ]
        }
      ]
    },
    {
      "cell_type": "markdown",
      "source": [
        "3)."
      ],
      "metadata": {
        "id": "rKFXSHOltnqV"
      }
    },
    {
      "cell_type": "code",
      "source": [
        "class Vehicle:\n",
        "    def __init__(self, type):\n",
        "        self.type = type\n",
        "\n",
        "class Car(Vehicle):\n",
        "    def __init__(self, type, brand):\n",
        "        super().__init__(type)\n",
        "        self.brand = brand\n",
        "\n",
        "class ElectricCar(Car):\n",
        "    def __init__(self, type, brand, battery):\n",
        "        super().__init__(type, brand)\n",
        "        self.battery = battery\n",
        "\n",
        "ec = ElectricCar(\"Electric\", \"Tesla\", \"100 kWh\")\n",
        "print(f\"{ec.brand} is a {ec.type} car with {ec.battery} battery.\")\n"
      ],
      "metadata": {
        "colab": {
          "base_uri": "https://localhost:8080/"
        },
        "id": "Th-d0is9tmqe",
        "outputId": "06338d20-2283-44e9-f0bb-413deb1eb35b"
      },
      "execution_count": 13,
      "outputs": [
        {
          "output_type": "stream",
          "name": "stdout",
          "text": [
            "Tesla is a Electric car with 100 kWh battery.\n"
          ]
        }
      ]
    },
    {
      "cell_type": "markdown",
      "source": [
        "4)."
      ],
      "metadata": {
        "id": "RLd1Kgd3tF8_"
      }
    },
    {
      "cell_type": "code",
      "source": [
        "class Bird:\n",
        "    def fly(self):\n",
        "        print(\"Bird is flying\")\n",
        "\n",
        "class Sparrow(Bird):\n",
        "    def fly(self):\n",
        "        print(\"Sparrow flies high\")\n",
        "\n",
        "class Penguin(Bird):\n",
        "    def fly(self):\n",
        "        print(\"Penguins can't fly\")\n",
        "\n",
        "birds = [Sparrow(), Penguin()]\n",
        "for bird in birds:\n",
        "    bird.fly()"
      ],
      "metadata": {
        "colab": {
          "base_uri": "https://localhost:8080/"
        },
        "id": "fN9hK1HqtP2C",
        "outputId": "1537368a-8ff0-49a5-d0dc-34640c472a8f"
      },
      "execution_count": 14,
      "outputs": [
        {
          "output_type": "stream",
          "name": "stdout",
          "text": [
            "Sparrow flies high\n",
            "Penguins can't fly\n"
          ]
        }
      ]
    },
    {
      "cell_type": "markdown",
      "source": [
        "5)."
      ],
      "metadata": {
        "id": "8lWU2IoUuEXr"
      }
    },
    {
      "cell_type": "code",
      "source": [
        "class BankAccount:\n",
        "    def __init__(self):\n",
        "        self.__balance = 0\n",
        "\n",
        "    def deposit(self, amount):\n",
        "        self.__balance += amount\n",
        "\n",
        "    def withdraw(self, amount):\n",
        "        if amount <= self.__balance:\n",
        "            self.__balance -= amount\n",
        "\n",
        "    def get_balance(self):\n",
        "        return self.__balance\n",
        "\n",
        "account = BankAccount()\n",
        "account.deposit(500)\n",
        "account.withdraw(100)\n",
        "print(account.get_balance())"
      ],
      "metadata": {
        "colab": {
          "base_uri": "https://localhost:8080/"
        },
        "id": "Fq7J7Jt8uF6a",
        "outputId": "50e40342-e4aa-407c-fe1f-6d442598a749"
      },
      "execution_count": 15,
      "outputs": [
        {
          "output_type": "stream",
          "name": "stdout",
          "text": [
            "400\n"
          ]
        }
      ]
    },
    {
      "cell_type": "markdown",
      "source": [
        "6)."
      ],
      "metadata": {
        "id": "Jj0DtcjtuNXR"
      }
    },
    {
      "cell_type": "code",
      "source": [
        "class Instrument:\n",
        "    def play(self):\n",
        "        print(\"Playing instrument\")\n",
        "\n",
        "class Guitar(Instrument):\n",
        "    def play(self):\n",
        "        print(\"Playing Guitar\")\n",
        "\n",
        "class Piano(Instrument):\n",
        "    def play(self):\n",
        "\n",
        "        print(\"Playing Piano\")\n",
        "\n",
        "instruments = [Guitar(), Piano()]\n",
        "for inst in instruments:\n",
        "    inst.play()"
      ],
      "metadata": {
        "colab": {
          "base_uri": "https://localhost:8080/"
        },
        "id": "Kgd0ZJheuDoC",
        "outputId": "ccee1eea-6731-47b1-b30a-8a803dd9a1ed"
      },
      "execution_count": 16,
      "outputs": [
        {
          "output_type": "stream",
          "name": "stdout",
          "text": [
            "Playing Guitar\n",
            "Playing Piano\n"
          ]
        }
      ]
    },
    {
      "cell_type": "markdown",
      "source": [
        "7)."
      ],
      "metadata": {
        "id": "7QOd8bUaukGI"
      }
    },
    {
      "cell_type": "code",
      "source": [
        "class MathOperations:\n",
        "    @classmethod\n",
        "    def add_numbers(cls, a, b):\n",
        "        return a + b\n",
        "\n",
        "    @staticmethod\n",
        "    def subtract_numbers(a, b):\n",
        "        return a - b\n",
        "\n",
        "print(MathOperations.add_numbers(3, 4))\n",
        "print(MathOperations.subtract_numbers(10, 6))\n"
      ],
      "metadata": {
        "colab": {
          "base_uri": "https://localhost:8080/"
        },
        "id": "eEtgxJx7uULe",
        "outputId": "9e47c6ea-3016-4759-a99d-a8faf491cb22"
      },
      "execution_count": 17,
      "outputs": [
        {
          "output_type": "stream",
          "name": "stdout",
          "text": [
            "7\n",
            "4\n"
          ]
        }
      ]
    },
    {
      "cell_type": "markdown",
      "source": [
        "8)."
      ],
      "metadata": {
        "id": "dTjw-bTeuwV7"
      }
    },
    {
      "cell_type": "code",
      "source": [
        "class Person:\n",
        "    count = 0\n",
        "\n",
        "    def __init__(self):\n",
        "        Person.count += 1\n",
        "\n",
        "    @classmethod\n",
        "    def get_count(cls):\n",
        "        return cls.count\n",
        "\n",
        "p1 = Person()\n",
        "p2 = Person()\n",
        "print(Person.get_count())\n"
      ],
      "metadata": {
        "colab": {
          "base_uri": "https://localhost:8080/"
        },
        "id": "-ptAtjWduvTD",
        "outputId": "ef1fa506-ef45-4156-f802-f448c10ca502"
      },
      "execution_count": 18,
      "outputs": [
        {
          "output_type": "stream",
          "name": "stdout",
          "text": [
            "2\n"
          ]
        }
      ]
    },
    {
      "cell_type": "markdown",
      "source": [
        "9)."
      ],
      "metadata": {
        "id": "i6g_B0Zqu57l"
      }
    },
    {
      "cell_type": "code",
      "source": [
        "class Fraction:\n",
        "    def __init__(self, numerator, denominator):\n",
        "        self.numerator = numerator\n",
        "        self.denominator = denominator\n",
        "\n",
        "    def __str__(self):\n",
        "        return f\"{self.numerator}/{self.denominator}\"\n",
        "\n",
        "f = Fraction(3, 4)\n",
        "print(f)\n"
      ],
      "metadata": {
        "colab": {
          "base_uri": "https://localhost:8080/"
        },
        "id": "8cFsRFkcu4V_",
        "outputId": "aaec4fdb-047f-4483-d314-b128bcf23e00"
      },
      "execution_count": 19,
      "outputs": [
        {
          "output_type": "stream",
          "name": "stdout",
          "text": [
            "3/4\n"
          ]
        }
      ]
    },
    {
      "cell_type": "markdown",
      "source": [
        "10)."
      ],
      "metadata": {
        "id": "Uf1tBiZ0vOKM"
      }
    },
    {
      "cell_type": "code",
      "source": [
        "class Vector:\n",
        "    def __init__(self, x, y):\n",
        "        self.x = x\n",
        "        self.y = y\n",
        "\n",
        "    def __add__(self, other):\n",
        "        return Vector(self.x + other.x, self.y + other.y)\n",
        "\n",
        "    def __str__(self):\n",
        "        return f\"({self.x}, {self.y})\"\n",
        "\n",
        "v1 = Vector(1, 2)\n",
        "v2 = Vector(3, 4)\n",
        "print(v1 + v2)"
      ],
      "metadata": {
        "colab": {
          "base_uri": "https://localhost:8080/"
        },
        "id": "8y6LuzYku_en",
        "outputId": "601c8ab0-5b17-4b85-e1da-94084bf300bc"
      },
      "execution_count": 20,
      "outputs": [
        {
          "output_type": "stream",
          "name": "stdout",
          "text": [
            "(4, 6)\n"
          ]
        }
      ]
    },
    {
      "cell_type": "markdown",
      "source": [
        "11)."
      ],
      "metadata": {
        "id": "Gorf4lqTvU7E"
      }
    },
    {
      "cell_type": "code",
      "source": [
        "class Person:\n",
        "    def __init__(self, name, age):\n",
        "        self.name = name\n",
        "        self.age = age\n",
        "\n",
        "    def greet(self):\n",
        "        print(f\"Hello, my name is {self.name} and I am {self.age} years old.\")\n",
        "\n",
        "p = Person(\"Alice\", 30)\n",
        "p.greet()"
      ],
      "metadata": {
        "colab": {
          "base_uri": "https://localhost:8080/"
        },
        "id": "9rMsO6KpvhI_",
        "outputId": "56d793ab-65b9-4165-ca47-db1f28f46ad7"
      },
      "execution_count": 21,
      "outputs": [
        {
          "output_type": "stream",
          "name": "stdout",
          "text": [
            "Hello, my name is Alice and I am 30 years old.\n"
          ]
        }
      ]
    },
    {
      "cell_type": "markdown",
      "source": [
        "12)."
      ],
      "metadata": {
        "id": "1Dyayu1Uvmw0"
      }
    },
    {
      "cell_type": "code",
      "source": [
        "class Student:\n",
        "    def __init__(self, name, grades):\n",
        "        self.name = name\n",
        "        self.grades = grades\n",
        "\n",
        "    def average_grade(self):\n",
        "        return sum(self.grades) / len(self.grades)\n",
        "\n",
        "s = Student(\"Bob\", [85, 90, 78])\n",
        "print(s.average_grade())\n"
      ],
      "metadata": {
        "colab": {
          "base_uri": "https://localhost:8080/"
        },
        "id": "G_u4eKl2vk26",
        "outputId": "33a02b93-c4d1-402c-ddb9-4baf9ef86d45"
      },
      "execution_count": 22,
      "outputs": [
        {
          "output_type": "stream",
          "name": "stdout",
          "text": [
            "84.33333333333333\n"
          ]
        }
      ]
    },
    {
      "cell_type": "markdown",
      "source": [
        "13)."
      ],
      "metadata": {
        "id": "OLyWy1mEv0Y6"
      }
    },
    {
      "cell_type": "code",
      "source": [
        "class Rectangle:\n",
        "    def __init__(self):\n",
        "        self.length = 0\n",
        "        self.width = 0\n",
        "\n",
        "    def set_dimensions(self, length, width):\n",
        "        self.length = length\n",
        "        self.width = width\n",
        "\n",
        "    def area(self):\n",
        "        return self.length * self.width\n",
        "\n",
        "r = Rectangle()\n",
        "r.set_dimensions(5, 4)\n",
        "print(r.area())"
      ],
      "metadata": {
        "colab": {
          "base_uri": "https://localhost:8080/"
        },
        "id": "EF8d_VYcvyYW",
        "outputId": "aa1a5838-f222-4088-87e7-cb8ad33e3a97"
      },
      "execution_count": 23,
      "outputs": [
        {
          "output_type": "stream",
          "name": "stdout",
          "text": [
            "20\n"
          ]
        }
      ]
    },
    {
      "cell_type": "markdown",
      "source": [
        "14)."
      ],
      "metadata": {
        "id": "QTWN0ESgv-0x"
      }
    },
    {
      "cell_type": "code",
      "source": [
        "class Employee:\n",
        "    def __init__(self, hours, rate):\n",
        "        self.hours = hours\n",
        "        self.rate = rate\n",
        "\n",
        "    def calculate_salary(self):\n",
        "        return self.hours * self.rate\n",
        "\n",
        "class Manager(Employee):\n",
        "    def __init__(self, hours, rate, bonus):\n",
        "        super().__init__(hours, rate)\n",
        "        self.bonus = bonus\n",
        "\n",
        "    def calculate_salary(self):\n",
        "        return super().calculate_salary() + self.bonus\n",
        "\n",
        "e = Manager(40, 50, 1000)\n",
        "print(e.calculate_salary())"
      ],
      "metadata": {
        "colab": {
          "base_uri": "https://localhost:8080/"
        },
        "id": "g0IG-anXv9zw",
        "outputId": "f759c618-db22-450a-c811-c3072197d9ef"
      },
      "execution_count": 24,
      "outputs": [
        {
          "output_type": "stream",
          "name": "stdout",
          "text": [
            "3000\n"
          ]
        }
      ]
    },
    {
      "cell_type": "markdown",
      "source": [
        "17)."
      ],
      "metadata": {
        "id": "PT4BvuJlwI88"
      }
    },
    {
      "cell_type": "code",
      "source": [
        "class Book:\n",
        "    def __init__(self, title, author, year_published):\n",
        "        self.title = title\n",
        "        self.author = author\n",
        "        self.year_published = year_published\n",
        "\n",
        "    def get_book_info(self):\n",
        "        return f\"'{self.title}' by {self.author}, published in {self.year_published}\"\n",
        "\n",
        "book = Book(\"1984\", \"George Orwell\", 1949)\n",
        "print(book.get_book_info())"
      ],
      "metadata": {
        "colab": {
          "base_uri": "https://localhost:8080/"
        },
        "id": "igM76vNPwHx2",
        "outputId": "aad0e92c-5726-4ff4-b6d0-74a5df4de140"
      },
      "execution_count": 25,
      "outputs": [
        {
          "output_type": "stream",
          "name": "stdout",
          "text": [
            "'1984' by George Orwell, published in 1949\n"
          ]
        }
      ]
    },
    {
      "cell_type": "markdown",
      "source": [
        "18)."
      ],
      "metadata": {
        "id": "pCPpschpwWkU"
      }
    },
    {
      "cell_type": "code",
      "source": [
        "class House:\n",
        "    def __init__(self, address, price):\n",
        "        self.address = address\n",
        "        self.price = price\n",
        "\n",
        "class Mansion(House):\n",
        "    def __init__(self, address, price, number_of_rooms):\n",
        "        super().__init__(address, price)\n",
        "        self.number_of_rooms = number_of_rooms\n",
        "\n",
        "m = Mansion(\"123 Beverly Hills\", 5000000, 10)\n",
        "print(f\"Mansion located at {m.address} costs ${m.price} and has {m.number_of_rooms} rooms.\")"
      ],
      "metadata": {
        "colab": {
          "base_uri": "https://localhost:8080/"
        },
        "id": "bAJRpo_4wVLe",
        "outputId": "98871b78-6968-4b92-8141-518ced36ad24"
      },
      "execution_count": 26,
      "outputs": [
        {
          "output_type": "stream",
          "name": "stdout",
          "text": [
            "Mansion located at 123 Beverly Hills costs $5000000 and has 10 rooms.\n"
          ]
        }
      ]
    },
    {
      "cell_type": "code",
      "source": [],
      "metadata": {
        "id": "UyVXyHqhwgOb"
      },
      "execution_count": null,
      "outputs": []
    }
  ]
}