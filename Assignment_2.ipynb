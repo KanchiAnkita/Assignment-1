{
  "nbformat": 4,
  "nbformat_minor": 0,
  "metadata": {
    "colab": {
      "provenance": []
    },
    "kernelspec": {
      "name": "python3",
      "display_name": "Python 3"
    },
    "language_info": {
      "name": "python"
    }
  },
  "cells": [
    {
      "cell_type": "markdown",
      "source": [
        "Theory Questions"
      ],
      "metadata": {
        "id": "E18yljpKnIyk"
      }
    },
    {
      "cell_type": "markdown",
      "source": [
        "1).  Data Structures helps to store the data and organise it. So that it can be accessed and manipulated easily"
      ],
      "metadata": {
        "id": "tk9ePBHVnPmg"
      }
    },
    {
      "cell_type": "markdown",
      "source": [
        "2).\n",
        "Mutable data type: Mutable data types can be changed\n",
        "\n",
        " ex : Lists and Set\n",
        "\n",
        "Immutable Data Type: Immutable means it cannot be changed\n",
        "\n",
        "ex: Tuples and Strings"
      ],
      "metadata": {
        "id": "zZwONWxIn1FB"
      }
    },
    {
      "cell_type": "markdown",
      "source": [
        "3).\n",
        "Lists can be changed as per the data.\n",
        "\n",
        "Tuples cannot be changed  "
      ],
      "metadata": {
        "id": "hUbJWJgfobf2"
      }
    },
    {
      "cell_type": "markdown",
      "source": [
        "4). Data in dictionaries is stored in KEY:VALUE format"
      ],
      "metadata": {
        "id": "j-l7ON0porBU"
      }
    },
    {
      "cell_type": "markdown",
      "source": [
        "5). Sets are used for unordered collection of unique elements. That is the reason in some cases sets are prefered more than a list"
      ],
      "metadata": {
        "id": "3-OQkPqYpL2S"
      }
    },
    {
      "cell_type": "markdown",
      "source": [
        "6). A string is a collection of group of characters\n",
        "\n",
        "it is different from list because strings cannot be modified once created"
      ],
      "metadata": {
        "id": "AqJKjUAaqEG0"
      }
    },
    {
      "cell_type": "markdown",
      "source": [
        "7). Tuples ensures their data integrity as they are immutable, so the contents in tuples cannot be changed."
      ],
      "metadata": {
        "id": "G3QlWs8Wq1Cp"
      }
    },
    {
      "cell_type": "markdown",
      "source": [
        "8). Hash tables are implemented by built in dictionary data type"
      ],
      "metadata": {
        "id": "0BLn9czTrMgo"
      }
    },
    {
      "cell_type": "markdown",
      "source": [
        "9). Yes, List can contain different data types as it accepts is heterogenous collection"
      ],
      "metadata": {
        "id": "RH7Hehkpr1N0"
      }
    },
    {
      "cell_type": "markdown",
      "source": [
        "10). Strings are immutable because to ensure data intedrity and efficiency"
      ],
      "metadata": {
        "id": "BizddD0CsK1d"
      }
    },
    {
      "cell_type": "markdown",
      "source": [
        "11}. Dictionaries cannot contain duplicate keys and used for large amount of data"
      ],
      "metadata": {
        "id": "W268TMH_sjYJ"
      }
    },
    {
      "cell_type": "markdown",
      "source": [
        "12). Tuples are prefered over Lists when the information should not be changed\n",
        "\n",
        "example: For Student Roll Numbers, their 10th marks etc"
      ],
      "metadata": {
        "id": "oPneXdfVtT1u"
      }
    },
    {
      "cell_type": "markdown",
      "source": [
        "13). Set is used as it give unique numbers. That is how sets handles unique values"
      ],
      "metadata": {
        "id": "0COGaUvVuF_6"
      }
    },
    {
      "cell_type": "markdown",
      "source": [
        "14).\n",
        "\n",
        " In List: \"IN\" keyword checks if the element is there in the list or not\n",
        "\n",
        " In Dictionaries: \"IN\" keyword is used to check the key exists in dictionary"
      ],
      "metadata": {
        "id": "4EhG4DGGukN6"
      }
    },
    {
      "cell_type": "markdown",
      "source": [
        "15). No, we cannot modify the elements in tuple because they are immutable"
      ],
      "metadata": {
        "id": "YCGAFKgdwTAh"
      }
    },
    {
      "cell_type": "markdown",
      "source": [
        "16). nested dictionary means a collection of dictionaries in one dictionary. It is used for restaurent menus etc\n"
      ],
      "metadata": {
        "id": "NYHzQkrIwt9a"
      }
    },
    {
      "cell_type": "markdown",
      "source": [
        "18). Lists are preferred over dictionaries for ordered collections and sequence operations."
      ],
      "metadata": {
        "id": "50dqH031xqm1"
      }
    },
    {
      "cell_type": "markdown",
      "source": [
        "19).  dictionaries are unorderd as it cannot be accesed by using indexing. They\n",
        "provide flexible way to manage and access the data."
      ],
      "metadata": {
        "id": "kYTdurtSybjE"
      }
    },
    {
      "cell_type": "markdown",
      "source": [
        "20).\n",
        "\n",
        " List: List are ordered and can be accessable by indexing\n",
        "\n",
        " Dictionary: IT is unordered and accesed by key values"
      ],
      "metadata": {
        "id": "uS-yYKoV0LuV"
      }
    },
    {
      "cell_type": "markdown",
      "source": [
        "PRACTICAL QUESTIONS"
      ],
      "metadata": {
        "id": "DahvVELyhdpG"
      }
    },
    {
      "cell_type": "markdown",
      "source": [
        "1)."
      ],
      "metadata": {
        "id": "vGKhJPVrh2Dq"
      }
    },
    {
      "cell_type": "code",
      "source": [
        "name= \"Ankita\"\n",
        "name"
      ],
      "metadata": {
        "colab": {
          "base_uri": "https://localhost:8080/",
          "height": 35
        },
        "id": "E2unSEj3hwhV",
        "outputId": "8e7e4821-3612-4d1b-8074-6b5e350cc098"
      },
      "execution_count": null,
      "outputs": [
        {
          "output_type": "execute_result",
          "data": {
            "text/plain": [
              "'Ankita'"
            ],
            "application/vnd.google.colaboratory.intrinsic+json": {
              "type": "string"
            }
          },
          "metadata": {},
          "execution_count": 1
        }
      ]
    },
    {
      "cell_type": "markdown",
      "source": [
        "2)."
      ],
      "metadata": {
        "id": "I13NnV-vh3w2"
      }
    },
    {
      "cell_type": "code",
      "source": [
        "a=\"Hello World\"\n",
        "len(a)"
      ],
      "metadata": {
        "colab": {
          "base_uri": "https://localhost:8080/"
        },
        "id": "mIx-jV3lh0EJ",
        "outputId": "8f0c9d94-de4f-4593-ad05-363aed912da4"
      },
      "execution_count": null,
      "outputs": [
        {
          "output_type": "execute_result",
          "data": {
            "text/plain": [
              "11"
            ]
          },
          "metadata": {},
          "execution_count": 2
        }
      ]
    },
    {
      "cell_type": "markdown",
      "source": [
        "3)."
      ],
      "metadata": {
        "id": "MdszUBkkiCC1"
      }
    },
    {
      "cell_type": "code",
      "source": [
        "course=\"Python Programming\"\n",
        "course[:3]"
      ],
      "metadata": {
        "colab": {
          "base_uri": "https://localhost:8080/",
          "height": 35
        },
        "id": "yD5ZxLsLiAg4",
        "outputId": "a0c335d2-92e4-4b0c-f75d-e14e5ac3f4a6"
      },
      "execution_count": null,
      "outputs": [
        {
          "output_type": "execute_result",
          "data": {
            "text/plain": [
              "'Pyt'"
            ],
            "application/vnd.google.colaboratory.intrinsic+json": {
              "type": "string"
            }
          },
          "metadata": {},
          "execution_count": 5
        }
      ]
    },
    {
      "cell_type": "markdown",
      "source": [
        "4)."
      ],
      "metadata": {
        "id": "itsf8az2ijD7"
      }
    },
    {
      "cell_type": "code",
      "source": [
        "a=\"hello\"\n",
        "a.upper()"
      ],
      "metadata": {
        "colab": {
          "base_uri": "https://localhost:8080/",
          "height": 35
        },
        "id": "OTvR6kWOieGN",
        "outputId": "28f97e53-4928-47c5-bc84-597f50760514"
      },
      "execution_count": null,
      "outputs": [
        {
          "output_type": "execute_result",
          "data": {
            "text/plain": [
              "'HELLO'"
            ],
            "application/vnd.google.colaboratory.intrinsic+json": {
              "type": "string"
            }
          },
          "metadata": {},
          "execution_count": 6
        }
      ]
    },
    {
      "cell_type": "markdown",
      "source": [
        "5)."
      ],
      "metadata": {
        "id": "TAKRdyX_isRC"
      }
    },
    {
      "cell_type": "code",
      "source": [
        "fruit=\"I like apple\"\n",
        "fruit.replace(\"apple\",\"orange\")"
      ],
      "metadata": {
        "colab": {
          "base_uri": "https://localhost:8080/",
          "height": 35
        },
        "id": "HLPBrUnWirLI",
        "outputId": "fedaa47f-b64f-49da-ec56-6c5f4ab2c1b6"
      },
      "execution_count": null,
      "outputs": [
        {
          "output_type": "execute_result",
          "data": {
            "text/plain": [
              "'I like orange'"
            ],
            "application/vnd.google.colaboratory.intrinsic+json": {
              "type": "string"
            }
          },
          "metadata": {},
          "execution_count": 7
        }
      ]
    },
    {
      "cell_type": "markdown",
      "source": [
        "6)."
      ],
      "metadata": {
        "id": "nO_-1gkui-u4"
      }
    },
    {
      "cell_type": "code",
      "source": [
        "lis=[1,2,3,4,5]\n",
        "print(lis)"
      ],
      "metadata": {
        "colab": {
          "base_uri": "https://localhost:8080/"
        },
        "id": "TR7o8cuOi9mr",
        "outputId": "ff9a3ad4-da60-4d9c-cf9f-6ec6741427ea"
      },
      "execution_count": null,
      "outputs": [
        {
          "output_type": "stream",
          "name": "stdout",
          "text": [
            "[1, 2, 3, 4, 5]\n"
          ]
        }
      ]
    },
    {
      "cell_type": "markdown",
      "source": [
        "7)."
      ],
      "metadata": {
        "id": "aJnWEHsHjVMC"
      }
    },
    {
      "cell_type": "code",
      "source": [
        "lis=[1,2,3,4]\n",
        "lis.append(10)\n",
        "lis"
      ],
      "metadata": {
        "colab": {
          "base_uri": "https://localhost:8080/"
        },
        "id": "ud3CCFyDjHy6",
        "outputId": "e8612e19-ff5c-4af8-b68b-23de237ccaf1"
      },
      "execution_count": null,
      "outputs": [
        {
          "output_type": "execute_result",
          "data": {
            "text/plain": [
              "[1, 2, 3, 4, 10]"
            ]
          },
          "metadata": {},
          "execution_count": 12
        }
      ]
    },
    {
      "cell_type": "markdown",
      "source": [
        "8)."
      ],
      "metadata": {
        "id": "15nSYGDNjf9p"
      }
    },
    {
      "cell_type": "code",
      "source": [
        "lis=[1,2,3,4,5]\n",
        "lis.remove(3)\n",
        "lis"
      ],
      "metadata": {
        "colab": {
          "base_uri": "https://localhost:8080/"
        },
        "id": "fUD-Sncqjddv",
        "outputId": "7097b372-357f-41db-eb5f-a6d5e043a7e0"
      },
      "execution_count": null,
      "outputs": [
        {
          "output_type": "execute_result",
          "data": {
            "text/plain": [
              "[1, 2, 4, 5]"
            ]
          },
          "metadata": {},
          "execution_count": 14
        }
      ]
    },
    {
      "cell_type": "markdown",
      "source": [
        "9)."
      ],
      "metadata": {
        "id": "LRCekpqhj_v_"
      }
    },
    {
      "cell_type": "code",
      "source": [
        "lis=[\"a\",\"b\",\"c\",\"d\"]\n",
        "lis[1]"
      ],
      "metadata": {
        "colab": {
          "base_uri": "https://localhost:8080/",
          "height": 35
        },
        "id": "cpPK2C-zjseV",
        "outputId": "334a457f-34ec-4b0d-f446-6cf9efd38f8d"
      },
      "execution_count": null,
      "outputs": [
        {
          "output_type": "execute_result",
          "data": {
            "text/plain": [
              "'b'"
            ],
            "application/vnd.google.colaboratory.intrinsic+json": {
              "type": "string"
            }
          },
          "metadata": {},
          "execution_count": 16
        }
      ]
    },
    {
      "cell_type": "markdown",
      "source": [
        "10)."
      ],
      "metadata": {
        "id": "wjIeRi1Oj-he"
      }
    },
    {
      "cell_type": "code",
      "source": [
        "lis=[10,20,30,40,50]\n",
        "lis.reverse()\n",
        "lis"
      ],
      "metadata": {
        "colab": {
          "base_uri": "https://localhost:8080/"
        },
        "id": "RbWdWDnNj6j4",
        "outputId": "a8375a6c-a57b-4397-bb2c-5b4a294bd817"
      },
      "execution_count": null,
      "outputs": [
        {
          "output_type": "execute_result",
          "data": {
            "text/plain": [
              "[50, 40, 30, 20, 10]"
            ]
          },
          "metadata": {},
          "execution_count": 20
        }
      ]
    },
    {
      "cell_type": "markdown",
      "source": [
        "11)."
      ],
      "metadata": {
        "id": "xqXtWH5Tkjmc"
      }
    },
    {
      "cell_type": "code",
      "source": [
        "tup=(100,200,300)\n",
        "tup"
      ],
      "metadata": {
        "colab": {
          "base_uri": "https://localhost:8080/"
        },
        "id": "dzeUMx1FkUJj",
        "outputId": "abae1987-5177-4b5a-c244-1faeb8b516f2"
      },
      "execution_count": null,
      "outputs": [
        {
          "output_type": "execute_result",
          "data": {
            "text/plain": [
              "(100, 200, 300)"
            ]
          },
          "metadata": {},
          "execution_count": 21
        }
      ]
    },
    {
      "cell_type": "markdown",
      "source": [
        "12)."
      ],
      "metadata": {
        "id": "FhEoMAt3lmaa"
      }
    },
    {
      "cell_type": "code",
      "source": [
        "tup=(\"red\",\"green\",\"blue\",\"yellow\")\n",
        "tup[-2]"
      ],
      "metadata": {
        "colab": {
          "base_uri": "https://localhost:8080/",
          "height": 35
        },
        "id": "HoNVn1BHk-gU",
        "outputId": "48334024-a951-4238-847d-f8ab68cb7b86"
      },
      "execution_count": null,
      "outputs": [
        {
          "output_type": "execute_result",
          "data": {
            "text/plain": [
              "'blue'"
            ],
            "application/vnd.google.colaboratory.intrinsic+json": {
              "type": "string"
            }
          },
          "metadata": {},
          "execution_count": 23
        }
      ]
    },
    {
      "cell_type": "markdown",
      "source": [
        "13)."
      ],
      "metadata": {
        "id": "9CCHRNO5ln3p"
      }
    },
    {
      "cell_type": "code",
      "source": [
        "tup=(10,20,5,15)\n",
        "min(tup)"
      ],
      "metadata": {
        "colab": {
          "base_uri": "https://localhost:8080/"
        },
        "id": "w_GSMmA5lONI",
        "outputId": "d3689982-3816-4a2d-b287-e72c8deebd74"
      },
      "execution_count": null,
      "outputs": [
        {
          "output_type": "execute_result",
          "data": {
            "text/plain": [
              "5"
            ]
          },
          "metadata": {},
          "execution_count": 26
        }
      ]
    },
    {
      "cell_type": "markdown",
      "source": [
        "14)."
      ],
      "metadata": {
        "id": "NTBtzdDhl_Zc"
      }
    },
    {
      "cell_type": "code",
      "source": [
        "animals=(\"dog\",\"cat\",\"rabbit\")\n",
        "animals.index(\"cat\")"
      ],
      "metadata": {
        "colab": {
          "base_uri": "https://localhost:8080/"
        },
        "id": "6pVIfMc9lxoE",
        "outputId": "ecc0a418-0bb5-4a9d-c801-15cd35a97297"
      },
      "execution_count": null,
      "outputs": [
        {
          "output_type": "execute_result",
          "data": {
            "text/plain": [
              "1"
            ]
          },
          "metadata": {},
          "execution_count": 27
        }
      ]
    },
    {
      "cell_type": "markdown",
      "source": [
        "15)."
      ],
      "metadata": {
        "id": "WTNqlKL_mXwM"
      }
    },
    {
      "cell_type": "code",
      "source": [
        "fruits=(\"apple\",\"banana\",\"orange\")\n",
        "\"kiwi\" in fruits"
      ],
      "metadata": {
        "colab": {
          "base_uri": "https://localhost:8080/"
        },
        "id": "CLchO5oEmV-x",
        "outputId": "e82fb640-9473-4701-ff2d-cfad34d38cac"
      },
      "execution_count": null,
      "outputs": [
        {
          "output_type": "execute_result",
          "data": {
            "text/plain": [
              "False"
            ]
          },
          "metadata": {},
          "execution_count": 28
        }
      ]
    },
    {
      "cell_type": "markdown",
      "source": [
        "16)."
      ],
      "metadata": {
        "id": "p5LAG21DmriV"
      }
    },
    {
      "cell_type": "code",
      "source": [
        "sett={\"a\",\"b\",\"c\"}\n",
        "sett"
      ],
      "metadata": {
        "colab": {
          "base_uri": "https://localhost:8080/"
        },
        "id": "vIBSAQbimlNe",
        "outputId": "8e3ee560-b041-42da-d4c0-d5f6d24cd588"
      },
      "execution_count": null,
      "outputs": [
        {
          "output_type": "execute_result",
          "data": {
            "text/plain": [
              "{'a', 'b', 'c'}"
            ]
          },
          "metadata": {},
          "execution_count": 29
        }
      ]
    },
    {
      "cell_type": "markdown",
      "source": [
        "17)."
      ],
      "metadata": {
        "id": "xtdW1_Wjm8Fs"
      }
    },
    {
      "cell_type": "code",
      "source": [
        "sett={1,2,3,4,5}\n",
        "sett.clear()\n",
        "sett"
      ],
      "metadata": {
        "colab": {
          "base_uri": "https://localhost:8080/"
        },
        "id": "8vAHvop4m3bz",
        "outputId": "a89cd10d-08ce-4fc1-c9ed-cec5491a46be"
      },
      "execution_count": null,
      "outputs": [
        {
          "output_type": "execute_result",
          "data": {
            "text/plain": [
              "set()"
            ]
          },
          "metadata": {},
          "execution_count": 31
        }
      ]
    },
    {
      "cell_type": "markdown",
      "source": [
        "18)."
      ],
      "metadata": {
        "id": "mlr38LtknIfY"
      }
    },
    {
      "cell_type": "code",
      "source": [
        "sett={1,2,3,4}\n",
        "sett.remove(4)\n",
        "sett"
      ],
      "metadata": {
        "colab": {
          "base_uri": "https://localhost:8080/"
        },
        "id": "MPYM6W9wnGBK",
        "outputId": "b0b7b588-0bfd-40f7-870c-87941c6caa62"
      },
      "execution_count": null,
      "outputs": [
        {
          "output_type": "execute_result",
          "data": {
            "text/plain": [
              "{1, 2, 3}"
            ]
          },
          "metadata": {},
          "execution_count": 33
        }
      ]
    },
    {
      "cell_type": "markdown",
      "source": [
        "19)."
      ],
      "metadata": {
        "id": "8PpfwutAnb4p"
      }
    },
    {
      "cell_type": "code",
      "source": [
        "a={1,2,3}\n",
        "b={3,4,5}\n",
        "a.union(b)"
      ],
      "metadata": {
        "colab": {
          "base_uri": "https://localhost:8080/"
        },
        "id": "ajl96rZpnZtk",
        "outputId": "52e4ba51-b02c-466f-97f9-694d4fdecb36"
      },
      "execution_count": null,
      "outputs": [
        {
          "output_type": "execute_result",
          "data": {
            "text/plain": [
              "{1, 2, 3, 4, 5}"
            ]
          },
          "metadata": {},
          "execution_count": 34
        }
      ]
    },
    {
      "cell_type": "markdown",
      "source": [
        "20)."
      ],
      "metadata": {
        "id": "Bcmh6_ObntSG"
      }
    },
    {
      "cell_type": "code",
      "source": [
        "a={1,2,3}\n",
        "b={2,3,4}\n",
        "a.intersection(b)"
      ],
      "metadata": {
        "colab": {
          "base_uri": "https://localhost:8080/"
        },
        "id": "13dCNZVFnqqf",
        "outputId": "1d49faec-5247-4c43-ce9e-234ab54ad956"
      },
      "execution_count": null,
      "outputs": [
        {
          "output_type": "execute_result",
          "data": {
            "text/plain": [
              "{2, 3}"
            ]
          },
          "metadata": {},
          "execution_count": 35
        }
      ]
    },
    {
      "cell_type": "markdown",
      "source": [
        "21)."
      ],
      "metadata": {
        "id": "T-FS2HUbn7nY"
      }
    },
    {
      "cell_type": "code",
      "source": [
        "a={\"name\":\"Ankita\",\"age\":20, \"city\": \"Hyderabad\"}\n",
        "a"
      ],
      "metadata": {
        "colab": {
          "base_uri": "https://localhost:8080/"
        },
        "id": "yhxi9kYNn4b-",
        "outputId": "0ad9dfb3-240a-48ba-8952-3e6cea5634c0"
      },
      "execution_count": null,
      "outputs": [
        {
          "output_type": "execute_result",
          "data": {
            "text/plain": [
              "{'name': 'Ankita', 'age': 20, 'city': 'Hyderabad'}"
            ]
          },
          "metadata": {},
          "execution_count": 36
        }
      ]
    },
    {
      "cell_type": "markdown",
      "source": [
        "22)."
      ],
      "metadata": {
        "id": "-Z6hF4oGoSMc"
      }
    },
    {
      "cell_type": "code",
      "source": [
        "details={\"name\":\"John\",\"age\":25}\n",
        "details.update({\"country\":\"USA\"})\n",
        "details"
      ],
      "metadata": {
        "colab": {
          "base_uri": "https://localhost:8080/"
        },
        "id": "MCCW8_huoQfY",
        "outputId": "bd73cb18-7759-40f6-873c-8ce66c239386"
      },
      "execution_count": null,
      "outputs": [
        {
          "output_type": "execute_result",
          "data": {
            "text/plain": [
              "{'name': 'John', 'age': 25, 'country': 'USA'}"
            ]
          },
          "metadata": {},
          "execution_count": 42
        }
      ]
    },
    {
      "cell_type": "markdown",
      "source": [
        "23)."
      ],
      "metadata": {
        "id": "cMPGDxEOpOmu"
      }
    },
    {
      "cell_type": "code",
      "source": [
        "a={\"name\":\"Alice\",\"age\":30}\n",
        "a"
      ],
      "metadata": {
        "colab": {
          "base_uri": "https://localhost:8080/"
        },
        "id": "g1E93PtbowES",
        "outputId": "b390a153-4c85-44d1-cb87-2820671b7699"
      },
      "execution_count": null,
      "outputs": [
        {
          "output_type": "execute_result",
          "data": {
            "text/plain": [
              "{'name': 'Alice', 'age': 30}"
            ]
          },
          "metadata": {},
          "execution_count": 44
        }
      ]
    },
    {
      "cell_type": "code",
      "source": [
        "a[\"name\"]"
      ],
      "metadata": {
        "colab": {
          "base_uri": "https://localhost:8080/",
          "height": 35
        },
        "id": "UKPVJlSwpfcW",
        "outputId": "a8125f15-5e30-462a-c09e-4c5e8120c13b"
      },
      "execution_count": null,
      "outputs": [
        {
          "output_type": "execute_result",
          "data": {
            "text/plain": [
              "'Alice'"
            ],
            "application/vnd.google.colaboratory.intrinsic+json": {
              "type": "string"
            }
          },
          "metadata": {},
          "execution_count": 46
        }
      ]
    },
    {
      "cell_type": "markdown",
      "source": [
        "24)."
      ],
      "metadata": {
        "id": "CM_aginop6gK"
      }
    },
    {
      "cell_type": "code",
      "source": [
        "a={\"name\":\"bob\",\"age\":22,\"city\":\"New york\"}\n",
        "del a['age']\n",
        "a"
      ],
      "metadata": {
        "colab": {
          "base_uri": "https://localhost:8080/"
        },
        "id": "EEknsDQepnY6",
        "outputId": "37eb30c0-f25b-493d-8580-77cd1fcdad9a"
      },
      "execution_count": null,
      "outputs": [
        {
          "output_type": "execute_result",
          "data": {
            "text/plain": [
              "{'name': 'bob', 'city': 'New york'}"
            ]
          },
          "metadata": {},
          "execution_count": 48
        }
      ]
    },
    {
      "cell_type": "markdown",
      "source": [
        "25)."
      ],
      "metadata": {
        "id": "qOaQglujqzu0"
      }
    },
    {
      "cell_type": "code",
      "source": [
        "a={\"name\":\"Alice\",\"city\":\"paris\"}\n",
        "(\"city\") in a"
      ],
      "metadata": {
        "colab": {
          "base_uri": "https://localhost:8080/"
        },
        "id": "FKZ6PPWPqWpR",
        "outputId": "ff823cbc-dec4-4479-9854-69848a5a629d"
      },
      "execution_count": null,
      "outputs": [
        {
          "output_type": "execute_result",
          "data": {
            "text/plain": [
              "True"
            ]
          },
          "metadata": {},
          "execution_count": 50
        }
      ]
    },
    {
      "cell_type": "markdown",
      "source": [
        "26)."
      ],
      "metadata": {
        "id": "anJY6PV8rSaE"
      }
    },
    {
      "cell_type": "code",
      "source": [
        "lis=[1,2,3,\"sun\"]\n",
        "tup=(9,8,7,\"moon\")\n",
        "dic={\"country\":\"India\",\"planet\":\"Earth\"}\n",
        "print(lis)\n",
        "print(tup)\n",
        "print(dic)"
      ],
      "metadata": {
        "colab": {
          "base_uri": "https://localhost:8080/"
        },
        "id": "9_egkyNwrNA-",
        "outputId": "8da04fc7-19be-4a68-c8c4-384d26143e67"
      },
      "execution_count": null,
      "outputs": [
        {
          "output_type": "stream",
          "name": "stdout",
          "text": [
            "[1, 2, 3, 'sun']\n",
            "(9, 8, 7, 'moon')\n",
            "{'country': 'India', 'planet': 'Earth'}\n"
          ]
        }
      ]
    },
    {
      "cell_type": "markdown",
      "source": [
        "27)."
      ],
      "metadata": {
        "id": "9FABvYlJr1Vp"
      }
    },
    {
      "cell_type": "code",
      "source": [
        "import random\n",
        "random_numbers = random.sample(range(1, 101), 5)\n",
        "random_numbers.sort()\n",
        "random_numbers"
      ],
      "metadata": {
        "colab": {
          "base_uri": "https://localhost:8080/"
        },
        "id": "q9Cj1vwOrzQ4",
        "outputId": "2d77d8a6-a057-4ac6-9fc8-d3c16f454d2f"
      },
      "execution_count": null,
      "outputs": [
        {
          "output_type": "execute_result",
          "data": {
            "text/plain": [
              "[7, 26, 38, 73, 95]"
            ]
          },
          "metadata": {},
          "execution_count": 54
        }
      ]
    },
    {
      "cell_type": "markdown",
      "source": [
        "28)."
      ],
      "metadata": {
        "id": "iGXrLPLRs0z0"
      }
    },
    {
      "cell_type": "code",
      "source": [
        "lis=[\"Asia\",\"Europe\",\"North America\",\"South America\",\"Antartica\",\"Africa\"]\n",
        "lis[3]"
      ],
      "metadata": {
        "colab": {
          "base_uri": "https://localhost:8080/",
          "height": 35
        },
        "id": "Wk32qJzCsSxs",
        "outputId": "8b35f28a-6077-44a3-f853-ce5a9d49b08d"
      },
      "execution_count": null,
      "outputs": [
        {
          "output_type": "execute_result",
          "data": {
            "text/plain": [
              "'South America'"
            ],
            "application/vnd.google.colaboratory.intrinsic+json": {
              "type": "string"
            }
          },
          "metadata": {},
          "execution_count": 55
        }
      ]
    },
    {
      "cell_type": "markdown",
      "source": [
        "29)."
      ],
      "metadata": {
        "id": "UCY36BUKtYqe"
      }
    },
    {
      "cell_type": "code",
      "source": [
        "di1={\"Name\":\"Ekansh\",\"Age\":27}\n",
        "di2={\"Profession\":\"Business Man\",\"Marital Status\": \"Unmarried\"}\n",
        "{**di1,**di2}"
      ],
      "metadata": {
        "colab": {
          "base_uri": "https://localhost:8080/"
        },
        "id": "8idLKpkxtXKs",
        "outputId": "6b1997dd-6dc4-4fd4-c1b3-2e63f795d156"
      },
      "execution_count": null,
      "outputs": [
        {
          "output_type": "execute_result",
          "data": {
            "text/plain": [
              "{'Name': 'Ekansh',\n",
              " 'Age': 27,\n",
              " 'Profession': 'Business Man',\n",
              " 'Marital Status': 'Unmarried'}"
            ]
          },
          "metadata": {},
          "execution_count": 56
        }
      ]
    },
    {
      "cell_type": "markdown",
      "source": [
        "30)."
      ],
      "metadata": {
        "id": "rWamYZJ-uchj"
      }
    },
    {
      "cell_type": "code",
      "source": [
        "lis=[\"Taj mahal\",\"Red fort\",\"Jal mahal\"]\n",
        "s=set(lis)\n",
        "s"
      ],
      "metadata": {
        "colab": {
          "base_uri": "https://localhost:8080/"
        },
        "id": "piHuK04RvRAB",
        "outputId": "3e3cdbd8-1984-40dd-b586-fa8e481c82b6"
      },
      "execution_count": null,
      "outputs": [
        {
          "output_type": "execute_result",
          "data": {
            "text/plain": [
              "{'Jal mahal', 'Red fort', 'Taj mahal'}"
            ]
          },
          "metadata": {},
          "execution_count": 58
        }
      ]
    }
  ]
}